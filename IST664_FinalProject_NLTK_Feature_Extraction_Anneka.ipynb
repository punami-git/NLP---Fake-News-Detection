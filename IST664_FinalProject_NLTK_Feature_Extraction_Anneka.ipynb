{
 "cells": [
  {
   "cell_type": "code",
   "execution_count": 2,
   "id": "085bb3df",
   "metadata": {},
   "outputs": [],
   "source": [
    "import pandas as pd\n",
    "import nltk\n",
    "from nltk import word_tokenize\n",
    "from nltk import sent_tokenize\n",
    "import random\n",
    "from nltk.collocations import *\n",
    "import dill\n",
    "import string\n",
    "import re\n",
    "from nltk.tokenize import RegexpTokenizer\n",
    "import time"
   ]
  },
  {
   "cell_type": "code",
   "execution_count": 3,
   "id": "13a53a99",
   "metadata": {},
   "outputs": [],
   "source": [
    "from sklearn.model_selection import train_test_split\n",
    "from sklearn.model_selection import cross_val_predict\n",
    "from sklearn.model_selection import cross_val_score\n",
    "from sklearn.metrics import classification_report\n",
    "from sklearn.metrics import confusion_matrix\n",
    "from sklearn.svm import LinearSVC\n",
    "from sklearn.naive_bayes import GaussianNB\n",
    "from sklearn.linear_model import LogisticRegression\n",
    "from sklearn.metrics import roc_curve, roc_auc_score\n",
    "import matplotlib.pyplot as plt\n",
    "\n",
    "import warnings\n",
    "warnings.filterwarnings('ignore')"
   ]
  },
  {
   "cell_type": "markdown",
   "id": "5666bb0a",
   "metadata": {},
   "source": [
    "<h1>Define N-gram Feature Exractor Functions</h1>"
   ]
  },
  {
   "cell_type": "code",
   "execution_count": 4,
   "id": "6fda741f",
   "metadata": {},
   "outputs": [],
   "source": [
    "# Unigram Only Extractor\n",
    "def unigram_features(document, word_features):\n",
    "    document_words = set(document)\n",
    "    features = {}\n",
    "    for word in word_features:\n",
    "        features['V_{}'.format(word)] = (word in document_words)\n",
    "    return features"
   ]
  },
  {
   "cell_type": "code",
   "execution_count": 156,
   "id": "70512f55",
   "metadata": {},
   "outputs": [],
   "source": [
    "# Combined Unigram + Bigram Extractor\n",
    "def bigram_document_features(document, word_features, bigram_features): \n",
    "    document_words = set(document) \n",
    "    document_bigrams = nltk.bigrams(document) \n",
    "    features = {}\n",
    "    for word in word_features:\n",
    "        features[f\"W_{word}\"] = (word in document_words)\n",
    "    for bigram in bigram_features:\n",
    "        features[f\"B_{bigram[0]}_{bigram[1]}\"] = (bigram in document_bigrams)\n",
    "    return features\n",
    "    print(features)"
   ]
  },
  {
   "cell_type": "markdown",
   "id": "bede91a4",
   "metadata": {},
   "source": [
    "<h1>Define Cross Validation Function</h1>"
   ]
  },
  {
   "cell_type": "code",
   "execution_count": 4,
   "id": "3047b352",
   "metadata": {},
   "outputs": [],
   "source": [
    "def cross_validation_accuracy(num_folds, featuresets):\n",
    "    subset_size = int(len(featuresets)/num_folds)\n",
    "    print('Each fold size:', subset_size)\n",
    "    accuracy_list = []\n",
    "    # iterate over the folds\n",
    "    for i in range(num_folds):\n",
    "        test_this_round = featuresets[(i*subset_size):][:subset_size]\n",
    "        train_this_round = featuresets[:(i*subset_size)] + featuresets[((i+1)*subset_size):]\n",
    "        # train using train_this_round\n",
    "        classifier = nltk.NaiveBayesClassifier.train(train_this_round)\n",
    "        # evaluate against test_this_round and save accuracy\n",
    "        accuracy_this_round = nltk.classify.accuracy(classifier, test_this_round)\n",
    "        print (i, accuracy_this_round)\n",
    "        accuracy_list.append(accuracy_this_round)\n",
    "        \n",
    "    # find mean accuracy over all rounds\n",
    "    print ('mean accuracy', sum(accuracy_list) / num_folds)"
   ]
  },
  {
   "cell_type": "markdown",
   "id": "79c08e41",
   "metadata": {},
   "source": [
    "<h1> Define Evaluation Metrics Function: Precision, Recall, F1, and Specificity</h1>"
   ]
  },
  {
   "cell_type": "code",
   "execution_count": 5,
   "id": "68ab3968",
   "metadata": {},
   "outputs": [],
   "source": [
    "######### EVALUATE PRECISION, RECALL, F1, AND SPECIFICITY FOR EACH LABEL\n",
    "def eval_measures(gold, predicted):\n",
    "    # get a list of labels\n",
    "    labels = list(set(gold))\n",
    "    # these lists have values for each label \n",
    "    recall_list = []\n",
    "    precision_list = []\n",
    "    F1_list = []\n",
    "    specificity_list =[]\n",
    "    for lab in labels:\n",
    "        # for each label, compare gold and predicted lists and compute values\n",
    "        TP = FP = FN = TN = 0\n",
    "        for i, val in enumerate(gold):\n",
    "            if val == lab and predicted[i] == lab:  TP += 1\n",
    "            if val == lab and predicted[i] != lab:  FN += 1\n",
    "            if val != lab and predicted[i] == lab:  FP += 1\n",
    "            if val != lab and predicted[i] != lab:  TN += 1\n",
    "        # use these to compute recall, precision, F1\n",
    "        recall = TP / (TP + FN)\n",
    "        precision = TP / (TP + FP)\n",
    "        specificity = TN / (TN + FP)\n",
    "        recall_list.append(recall)\n",
    "        precision_list.append(precision)\n",
    "        F1_list.append( 2 * (recall * precision) / (recall + precision))\n",
    "        specificity_list.append(specificity)\n",
    "\n",
    "    # the evaluation measures in a table with one row per label\n",
    "    print('\\n\\nEvaluation_Metrics----\\n\\n\\tPrecision\\tRecall\\t    F1\\t Specificity')\n",
    "    # print measures for each label\n",
    "    for i, lab in enumerate(labels):\n",
    "        print(lab, '\\t', \"{:10.3f}\".format(precision_list[i]), \\\n",
    "          \"{:10.3f}\".format(recall_list[i]), \"{:10.3f}\".format(F1_list[i]),\"{:10.3f}\".format(specificity_list[i]))"
   ]
  },
  {
   "cell_type": "markdown",
   "id": "f76e4fcd",
   "metadata": {},
   "source": [
    "<h1>Define Confusion Matrix and Eval Metrics Function</h1>"
   ]
  },
  {
   "cell_type": "code",
   "execution_count": 6,
   "id": "99ae09b3",
   "metadata": {},
   "outputs": [],
   "source": [
    "def cm_eval_print(test_set):\n",
    "\n",
    "    goldlist = []\n",
    "    predictedlist = []\n",
    "\n",
    "    for (features, label) in test_set:\n",
    "        goldlist.append(label)\n",
    "        predictedlist.append(NBclassifier.classify(features))\n",
    "        \n",
    "    cm = nltk.ConfusionMatrix(goldlist, predictedlist)\n",
    "\n",
    "    print(\"\\nConfusion_Matrix----\\n\\n\", cm.pretty_format(sort_by_count=True))\n",
    "    \n",
    "    eval_measures(goldlist, predictedlist)"
   ]
  },
  {
   "cell_type": "markdown",
   "id": "f1c42581",
   "metadata": {},
   "source": [
    "<h1>Loading and Examining the Dataset</h1> \n",
    "<br>\n",
    "<body>In the interest of familiarizing ourselves with the data quickly, we will start out by looking at only a portion of it. Specfically, we will start out by analyzing only the \"title\" field of the dataset, which is the headlines of the news items. We will do minimal pre-processing, extract unigrams, and use them to train a Naive Bayes Classifier to establish a baseline of accuracy and take an initial look at informative features.</body>\n",
    "<h3>Load the unfiltered dataset </h3>"
   ]
  },
  {
   "cell_type": "code",
   "execution_count": 23,
   "id": "983aedd4",
   "metadata": {},
   "outputs": [
    {
     "data": {
      "text/html": [
       "<div>\n",
       "<style scoped>\n",
       "    .dataframe tbody tr th:only-of-type {\n",
       "        vertical-align: middle;\n",
       "    }\n",
       "\n",
       "    .dataframe tbody tr th {\n",
       "        vertical-align: top;\n",
       "    }\n",
       "\n",
       "    .dataframe thead th {\n",
       "        text-align: right;\n",
       "    }\n",
       "</style>\n",
       "<table border=\"1\" class=\"dataframe\">\n",
       "  <thead>\n",
       "    <tr style=\"text-align: right;\">\n",
       "      <th></th>\n",
       "      <th>title</th>\n",
       "      <th>text</th>\n",
       "      <th>label</th>\n",
       "    </tr>\n",
       "    <tr>\n",
       "      <th>index</th>\n",
       "      <th></th>\n",
       "      <th></th>\n",
       "      <th></th>\n",
       "    </tr>\n",
       "  </thead>\n",
       "  <tbody>\n",
       "    <tr>\n",
       "      <th>0</th>\n",
       "      <td>LAW ENFORCEMENT ON HIGH ALERT Following Threat...</td>\n",
       "      <td>No comment is expected from Barack Obama Membe...</td>\n",
       "      <td>1</td>\n",
       "    </tr>\n",
       "    <tr>\n",
       "      <th>1</th>\n",
       "      <td>NaN</td>\n",
       "      <td>Did they post their votes for Hillary already?</td>\n",
       "      <td>1</td>\n",
       "    </tr>\n",
       "    <tr>\n",
       "      <th>2</th>\n",
       "      <td>UNBELIEVABLE! OBAMA’S ATTORNEY GENERAL SAYS MO...</td>\n",
       "      <td>Now, most of the demonstrators gathered last ...</td>\n",
       "      <td>1</td>\n",
       "    </tr>\n",
       "    <tr>\n",
       "      <th>3</th>\n",
       "      <td>Bobby Jindal, raised Hindu, uses story of Chri...</td>\n",
       "      <td>A dozen politically active pastors came here f...</td>\n",
       "      <td>0</td>\n",
       "    </tr>\n",
       "    <tr>\n",
       "      <th>4</th>\n",
       "      <td>SATAN 2: Russia unvelis an image of its terrif...</td>\n",
       "      <td>The RS-28 Sarmat missile, dubbed Satan 2, will...</td>\n",
       "      <td>1</td>\n",
       "    </tr>\n",
       "    <tr>\n",
       "      <th>...</th>\n",
       "      <td>...</td>\n",
       "      <td>...</td>\n",
       "      <td>...</td>\n",
       "    </tr>\n",
       "    <tr>\n",
       "      <th>72129</th>\n",
       "      <td>Russians steal research on Trump in hack of U....</td>\n",
       "      <td>WASHINGTON (Reuters) - Hackers believed to be ...</td>\n",
       "      <td>0</td>\n",
       "    </tr>\n",
       "    <tr>\n",
       "      <th>72130</th>\n",
       "      <td>WATCH: Giuliani Demands That Democrats Apolog...</td>\n",
       "      <td>You know, because in fantasyland Republicans n...</td>\n",
       "      <td>1</td>\n",
       "    </tr>\n",
       "    <tr>\n",
       "      <th>72131</th>\n",
       "      <td>Migrants Refuse To Leave Train At Refugee Camp...</td>\n",
       "      <td>Migrants Refuse To Leave Train At Refugee Camp...</td>\n",
       "      <td>0</td>\n",
       "    </tr>\n",
       "    <tr>\n",
       "      <th>72132</th>\n",
       "      <td>Trump tussle gives unpopular Mexican leader mu...</td>\n",
       "      <td>MEXICO CITY (Reuters) - Donald Trump’s combati...</td>\n",
       "      <td>0</td>\n",
       "    </tr>\n",
       "    <tr>\n",
       "      <th>72133</th>\n",
       "      <td>Goldman Sachs Endorses Hillary Clinton For Pre...</td>\n",
       "      <td>Goldman Sachs Endorses Hillary Clinton For Pre...</td>\n",
       "      <td>1</td>\n",
       "    </tr>\n",
       "  </tbody>\n",
       "</table>\n",
       "<p>72134 rows × 3 columns</p>\n",
       "</div>"
      ],
      "text/plain": [
       "                                                   title  \\\n",
       "index                                                      \n",
       "0      LAW ENFORCEMENT ON HIGH ALERT Following Threat...   \n",
       "1                                                    NaN   \n",
       "2      UNBELIEVABLE! OBAMA’S ATTORNEY GENERAL SAYS MO...   \n",
       "3      Bobby Jindal, raised Hindu, uses story of Chri...   \n",
       "4      SATAN 2: Russia unvelis an image of its terrif...   \n",
       "...                                                  ...   \n",
       "72129  Russians steal research on Trump in hack of U....   \n",
       "72130   WATCH: Giuliani Demands That Democrats Apolog...   \n",
       "72131  Migrants Refuse To Leave Train At Refugee Camp...   \n",
       "72132  Trump tussle gives unpopular Mexican leader mu...   \n",
       "72133  Goldman Sachs Endorses Hillary Clinton For Pre...   \n",
       "\n",
       "                                                    text  label  \n",
       "index                                                            \n",
       "0      No comment is expected from Barack Obama Membe...      1  \n",
       "1         Did they post their votes for Hillary already?      1  \n",
       "2       Now, most of the demonstrators gathered last ...      1  \n",
       "3      A dozen politically active pastors came here f...      0  \n",
       "4      The RS-28 Sarmat missile, dubbed Satan 2, will...      1  \n",
       "...                                                  ...    ...  \n",
       "72129  WASHINGTON (Reuters) - Hackers believed to be ...      0  \n",
       "72130  You know, because in fantasyland Republicans n...      1  \n",
       "72131  Migrants Refuse To Leave Train At Refugee Camp...      0  \n",
       "72132  MEXICO CITY (Reuters) - Donald Trump’s combati...      0  \n",
       "72133  Goldman Sachs Endorses Hillary Clinton For Pre...      1  \n",
       "\n",
       "[72134 rows x 3 columns]"
      ]
     },
     "execution_count": 23,
     "metadata": {},
     "output_type": "execute_result"
    }
   ],
   "source": [
    "df = pd.read_csv('~/WELFake_Dataset.csv', \n",
    "                 index_col='index', \n",
    "                 header=0,\n",
    "                 names=['index', 'title', 'text', 'label'])\n",
    "df"
   ]
  },
  {
   "cell_type": "markdown",
   "id": "bbf1e169",
   "metadata": {},
   "source": [
    "<h2> Minimal pre-processing</h2>\n",
    "<h3> Drop rows with empty fields </h3>"
   ]
  },
  {
   "cell_type": "code",
   "execution_count": 24,
   "id": "b943c23a",
   "metadata": {
    "scrolled": true
   },
   "outputs": [
    {
     "name": "stdout",
     "output_type": "stream",
     "text": [
      "72134\n",
      "71537\n"
     ]
    }
   ],
   "source": [
    "df\n",
    "print(len(df))\n",
    "df = df.dropna()\n",
    "print(len(df))"
   ]
  },
  {
   "cell_type": "code",
   "execution_count": 332,
   "id": "c4f49914",
   "metadata": {},
   "outputs": [
    {
     "name": "stdout",
     "output_type": "stream",
     "text": [
      "Number of NaN fields in the original dataset: 597\n"
     ]
    }
   ],
   "source": [
    "print(f\"Number of NaN fields in the original dataset: {72134 - 71537}\")"
   ]
  },
  {
   "cell_type": "markdown",
   "id": "0c209286",
   "metadata": {},
   "source": [
    "<h3>Balance fake and real labels</h3>"
   ]
  },
  {
   "cell_type": "code",
   "execution_count": 25,
   "id": "f54a2169",
   "metadata": {},
   "outputs": [
    {
     "name": "stdout",
     "output_type": "stream",
     "text": [
      "Number of fakenews items: 36509\n",
      "Number of real news items: 35028\n"
     ]
    }
   ],
   "source": [
    "print(\"Number of fakenews items:\", df['label'].value_counts()[1])\n",
    "print(\"Number of real news items:\", df['label'].value_counts()[0])"
   ]
  },
  {
   "cell_type": "code",
   "execution_count": 26,
   "id": "83f4e29b",
   "metadata": {},
   "outputs": [
    {
     "name": "stdout",
     "output_type": "stream",
     "text": [
      "Difference between fake (1) and real (0) count: 0\n"
     ]
    }
   ],
   "source": [
    "# balance labels\n",
    "rows_to_delete = df[df['label'] == 1].head(740) + df[df['label'] == 1].tail(741)\n",
    "df = df.drop(rows_to_delete.index)\n",
    "\n",
    "# confirm labels are now balanced\n",
    "count = (df['label'].value_counts()[1])-(df['label'].value_counts()[0])\n",
    "print(\"Difference between fake (1) and real (0) count:\", count)"
   ]
  },
  {
   "cell_type": "markdown",
   "id": "61fba719",
   "metadata": {},
   "source": [
    "<h3>Re-shuffle the rows of the dataset</h3>"
   ]
  },
  {
   "cell_type": "code",
   "execution_count": 43,
   "id": "7e44e0f7",
   "metadata": {},
   "outputs": [],
   "source": [
    "df = df.sample(frac=1)"
   ]
  },
  {
   "cell_type": "code",
   "execution_count": 45,
   "id": "9929bae8",
   "metadata": {},
   "outputs": [
    {
     "name": "stdout",
     "output_type": "stream",
     "text": [
      "Current number of rows in the dataset: 70056\n"
     ]
    }
   ],
   "source": [
    "print(\"Current number of rows in the dataset:\", len(df))"
   ]
  },
  {
   "cell_type": "code",
   "execution_count": 188,
   "id": "61642fd1",
   "metadata": {},
   "outputs": [],
   "source": [
    "min_process_df = df"
   ]
  },
  {
   "cell_type": "markdown",
   "id": "d94b193b",
   "metadata": {},
   "source": [
    "<h3>EXPORT to CSV: Minimally Processed Dataset</h3>"
   ]
  },
  {
   "cell_type": "code",
   "execution_count": 189,
   "id": "36d203fa",
   "metadata": {},
   "outputs": [],
   "source": [
    "# EXPORT REVISED DATAFRAME TO CSV FOR FUTURE USE SO RANDOMIZATION WILL NOT BE A VARIABLE\n",
    "\n",
    "min_process_df.to_csv('~/min_process_fakenews_df_canonical.csv ', index=False, sep=',')"
   ]
  },
  {
   "cell_type": "markdown",
   "id": "7ad526dd",
   "metadata": {},
   "source": [
    "<h1>TEST 1: Create Unigram Features: Unfiltered, Titles-Only </h1>"
   ]
  },
  {
   "cell_type": "markdown",
   "id": "f5fbc585",
   "metadata": {},
   "source": [
    "<h1>Define the Unigram Extraction Function</h1>"
   ]
  },
  {
   "cell_type": "code",
   "execution_count": 241,
   "id": "41c5c692",
   "metadata": {},
   "outputs": [],
   "source": [
    "# LOAD THE MINIMALLY PRE-PROCESSED DATASET\n",
    "\n",
    "df = pd.read_csv('~/min_process_fakenews_df_canonical.csv', \n",
    "                 index_col=None, \n",
    "                 header=0,\n",
    "                 names=['title', 'text', 'label'])"
   ]
  },
  {
   "cell_type": "code",
   "execution_count": 563,
   "id": "5f9f47f8",
   "metadata": {},
   "outputs": [],
   "source": [
    "# make a tuple of title, label for each row in the df\n",
    "tuple_rows = list(df.itertuples(index=False, name=None))"
   ]
  },
  {
   "cell_type": "code",
   "execution_count": 564,
   "id": "bd4cb8fa",
   "metadata": {},
   "outputs": [],
   "source": [
    "# tokenize and lowercase the words in the title\n",
    "title_words_tuple = [(word_tokenize(title[0].lower()), title[2]) for title in tuple_rows]\n",
    "documents = title_words_tuple"
   ]
  },
  {
   "cell_type": "code",
   "execution_count": 565,
   "id": "f7a611a6",
   "metadata": {},
   "outputs": [
    {
     "name": "stdout",
     "output_type": "stream",
     "text": [
      "(['help', 'blow', 'up', 'the', 'globalists', 'plot', 'to', 'steal', 'the', 'presidency-', 'make', 'this', 'go', 'viral'], 1)\n"
     ]
    }
   ],
   "source": [
    "# print an example document to confirm everything looks right\n",
    "print(title_words_tuple[2])"
   ]
  },
  {
   "cell_type": "code",
   "execution_count": 566,
   "id": "60d0b51a",
   "metadata": {},
   "outputs": [
    {
     "name": "stdout",
     "output_type": "stream",
     "text": [
      "There are 995190 words in the unfiltered title-only corpus.\n",
      "There are 38811 unique words in the unfilted title-only corpus.\n"
     ]
    }
   ],
   "source": [
    "# Create a list of unique words in the corpus\n",
    "all_words_list = [word for (title, cat) in documents for word in title]\n",
    "print(f\"There are {len(all_words_list)} words in the unfiltered title-only corpus.\")\n",
    "print(f\"There are {len(set(all_words_list))} unique words in the unfilted title-only corpus.\")"
   ]
  },
  {
   "cell_type": "code",
   "execution_count": 567,
   "id": "92ddd7ec",
   "metadata": {},
   "outputs": [],
   "source": [
    "# Normalize the word list by frequency and select the 3000 most common unique words as our vocabulary\n",
    "all_words = nltk.FreqDist(all_words_list)\n",
    "word_items = all_words.most_common(3000)"
   ]
  },
  {
   "cell_type": "code",
   "execution_count": 568,
   "id": "6b7888ec",
   "metadata": {},
   "outputs": [],
   "source": [
    "# define the unigram features variable\n",
    "title_features = [word for (word,count) in word_items]"
   ]
  },
  {
   "cell_type": "code",
   "execution_count": 569,
   "id": "d2169703",
   "metadata": {},
   "outputs": [],
   "source": [
    "# define the title featureset variable\n",
    "title_featuresets = [(unigram_features(title, title_features), cat) for (title, cat) in documents]"
   ]
  },
  {
   "cell_type": "markdown",
   "id": "ae84e843",
   "metadata": {},
   "source": [
    "<h3>Train and Test Naive Bayes Classifier on the Unigram Features</h3>"
   ]
  },
  {
   "cell_type": "code",
   "execution_count": 570,
   "id": "546ec4cc",
   "metadata": {},
   "outputs": [],
   "source": [
    "# define a 70:30 train/test ratio\n",
    "train_set, test_set = title_featuresets[(round(.30 * len(title_featuresets))):], title_featuresets[:(round(.30 * len(title_featuresets)))]"
   ]
  },
  {
   "cell_type": "code",
   "execution_count": 571,
   "id": "9c649631",
   "metadata": {},
   "outputs": [],
   "source": [
    "NBclassifier = nltk.NaiveBayesClassifier.train(train_set)"
   ]
  },
  {
   "cell_type": "code",
   "execution_count": 572,
   "id": "460fb3bb",
   "metadata": {},
   "outputs": [],
   "source": [
    "accuracy = nltk.classify.accuracy(NBclassifier, test_set)"
   ]
  },
  {
   "cell_type": "code",
   "execution_count": 573,
   "id": "7fa86fd4",
   "metadata": {},
   "outputs": [
    {
     "name": "stdout",
     "output_type": "stream",
     "text": [
      "0.8838083456249702\n"
     ]
    }
   ],
   "source": [
    "print(accuracy)"
   ]
  },
  {
   "cell_type": "markdown",
   "id": "49f776a9",
   "metadata": {},
   "source": [
    "<h4>Test 1 Most Informative Features</h4>"
   ]
  },
  {
   "cell_type": "code",
   "execution_count": 81,
   "id": "211260ac",
   "metadata": {},
   "outputs": [
    {
     "name": "stdout",
     "output_type": "stream",
     "text": [
      "1 = Fake / 0 = Real\n",
      "Most Informative Features\n",
      "                     V_[ = True                1 : 0      =   1442.0 : 1.0\n",
      "                     V_] = True                1 : 0      =   1442.0 : 1.0\n",
      "                   V_wow = True                1 : 0      =    161.7 : 1.0\n",
      "               V_myanmar = True                0 : 1      =    140.4 : 1.0\n",
      "                     V_“ = True                1 : 0      =    129.2 : 1.0\n",
      "                     V_” = True                1 : 0      =    127.0 : 1.0\n",
      "                 V_video = True                1 : 0      =     70.1 : 1.0\n",
      "               V_awesome = True                1 : 0      =     63.9 : 1.0\n",
      "             V_brilliant = True                1 : 0      =     61.9 : 1.0\n",
      "             V_bombshell = True                1 : 0      =     60.8 : 1.0\n",
      "           V_hilariously = True                1 : 0      =     58.6 : 1.0\n",
      "                     V_! = True                1 : 0      =     58.2 : 1.0\n",
      "                V_insane = True                1 : 0      =     57.9 : 1.0\n",
      "                 V_bundy = True                1 : 0      =     53.2 : 1.0\n",
      "               V_crooked = True                1 : 0      =     53.2 : 1.0\n",
      "                  V_york = True                0 : 1      =     51.0 : 1.0\n",
      "              V_zimbabwe = True                0 : 1      =     50.4 : 1.0\n",
      "              V_shocking = True                1 : 0      =     48.6 : 1.0\n",
      "                 V_onion = True                1 : 0      =     48.5 : 1.0\n",
      "                V_finest = True                1 : 0      =     47.2 : 1.0\n",
      "             V_breitbart = True                0 : 1      =     45.3 : 1.0\n",
      "                  V_oops = True                1 : 0      =     45.2 : 1.0\n",
      "                V_mugabe = True                0 : 1      =     44.8 : 1.0\n",
      "              V_breaking = True                1 : 0      =     38.9 : 1.0\n",
      "             V_perfectly = True                1 : 0      =     38.5 : 1.0\n"
     ]
    }
   ],
   "source": [
    "print(\"1 = Fake / 0 = Real\")\n",
    "NBclassifier.show_most_informative_features(25)"
   ]
  },
  {
   "cell_type": "code",
   "execution_count": 574,
   "id": "2060792b",
   "metadata": {
    "scrolled": true
   },
   "outputs": [
    {
     "name": "stdout",
     "output_type": "stream",
     "text": [
      "Each fold size: 7005\n",
      "0 0.8792291220556745\n",
      "1 0.8850820842255531\n",
      "2 0.8852248394004283\n",
      "3 0.8866523911491792\n",
      "4 0.8809421841541756\n",
      "5 0.8795146324054247\n",
      "6 0.8822269807280514\n",
      "7 0.8843683083511777\n",
      "8 0.8765167737330478\n",
      "9 0.8795146324054247\n",
      "mean accuracy 0.8819271948608136\n"
     ]
    }
   ],
   "source": [
    "# perform the cross-validation on the featuresets with word features and generate accuracy\n",
    "num_folds = 10\n",
    "cross_validation_accuracy(num_folds, title_featuresets)"
   ]
  },
  {
   "cell_type": "code",
   "execution_count": null,
   "id": "8329e58f",
   "metadata": {},
   "outputs": [],
   "source": [
    "goldlist = []\n",
    "predictedlist = []\n",
    "\n",
    "for (features, label) in test_set:\n",
    "    goldlist.append(label)\n",
    "    predictedlist.append(NBclassifier.classify(features))\n",
    "\n",
    "cm = nltk.ConfusionMatrix(goldlist, predictedlist)"
   ]
  },
  {
   "cell_type": "code",
   "execution_count": 583,
   "id": "72316dbf",
   "metadata": {
    "scrolled": false
   },
   "outputs": [
    {
     "name": "stdout",
     "output_type": "stream",
     "text": [
      "  |    1    0 |\n",
      "--+-----------+\n",
      "1 |<8846>1712 |\n",
      "0 |  730<9729>|\n",
      "--+-----------+\n",
      "(row = reference; col = test)\n",
      "\n"
     ]
    }
   ],
   "source": [
    "print(cm.pretty_format(sort_by_count=True))"
   ]
  },
  {
   "cell_type": "code",
   "execution_count": 620,
   "id": "07e81c61",
   "metadata": {},
   "outputs": [
    {
     "name": "stdout",
     "output_type": "stream",
     "text": [
      "\tPrecision\tRecall\t    F1\t Specificity\n",
      "0 \t      0.850      0.930      0.888      0.838\n",
      "1 \t      0.924      0.838      0.879      0.930\n"
     ]
    }
   ],
   "source": [
    "eval_measures(goldlist, predictedlist)"
   ]
  },
  {
   "cell_type": "markdown",
   "id": "363140ae",
   "metadata": {},
   "source": [
    "<h3>Test 1 Discussion: NB Classifier on Unigram Features of the Minimally Processed Dataset</h3>"
   ]
  },
  {
   "cell_type": "markdown",
   "id": "2850b5a1",
   "metadata": {},
   "source": [
    "<body>Although we have already achieved impressive results with the minimally pre-processed title-only corpus using the <b>Naive Bayes Classifier on unigram features, scoring 88.1% mean accuracy with 10-fold cross evaluation,</b> when we look at the <b>Most Informative Features</b>, we see some irregularities. Some of the features, such as \"wow\", \"awesome\", \"shocking\", and even \"!\" are plausible sytlistic distinguishing features for fakenews, indicative of a more sensationalistic rhetorical style.  \n",
    "<br><br>When we look at the detailed evalauation metrics, we see that the <b>F1 Score for both the positive and negative label are close to each other and to the mean accuracy</b>, suggesting that the model is generally well-balanced.   \n",
    " <br><br>However, the two <b>Most Informative Features are open and closed square brackets</b>, and in the top ten, we also have the word \"video\" as well as double quotation marks. These seem arbitrary and are less plausible as truly informative features. One possible explanation is that we are seeing <b>over-fitting due to imbalances in the dataset</b>, e.g. headline labels such as \"[VIDEO]\" might consistently come from a single fakenews source that happens to format video titles this way. \n",
    "<br><br>\n",
    "Interestingly, though the outliers in Most Informative Features predict positive labels, in the detailed evaluation metrics, we see that <b>Recall</b>, or sensitivity, is higher for the negative label assignment. We also see that <b>Precision and Specificty for postive (fake) label prediction is quite high at 92.4% and 93%</b> respectively, indicating that there are unigram features that are highly predictive of a positive label, with realitively few false positives. \n",
    "<br><br>Though this minimally processed featureset gives us a high level of accuracy, the model will not generalize well in a dataset that does not have this imbalance. To correct this, we will perform some standard text pre-processing and check our results...</body>"
   ]
  },
  {
   "cell_type": "markdown",
   "id": "7a904ed6",
   "metadata": {},
   "source": [
    "<h1>Pre-Processing</h1><br>\n",
    "<body>In order to maintain flexibility for future use, we will tokenize and pre-process both the \"title\" (headline) and \"text\" (news item body) in the dataset separately before re-exporting the processed text to a csv.\n",
    "<br><br>Because there are some stylistically signficant puncutation marks we will want to keep and some unusual tokens, such as censored expletives using '*' vowel replacement and hashtags that we will want to treat differently than the word_tokenize method, we will use the NLTK <b>RegexpTokenizer</b>.\n",
    "<br><br>We will use the NLTK <b>Snowball Stemmer</b> to stem tokens.\n",
    "</body>\n",
    "<h3>Creating Custom Filters for Non-Significant Punctuation and Stopwords + Stemming</h3>"
   ]
  },
  {
   "cell_type": "code",
   "execution_count": 18,
   "id": "db2d141a",
   "metadata": {},
   "outputs": [],
   "source": [
    "# SELECT STEMMER\n",
    "stemmer = nltk.SnowballStemmer('english')\n",
    "\n",
    "# STOPWORDS TO FILTER OUT\n",
    "stopwords = nltk.corpus.stopwords.words('english')\n",
    "\n",
    "# NEGATION WORDS TO KEEP\n",
    "negationwords = ['no', 'not', 'never', 'none', 'nowhere', 'nothing', 'no one', 'rather', 'hardly', 'scarcely', 'rarely', 'seldom', 'neither', 'nor']\n",
    "\n",
    "# WORDS TO FILTER OUT\n",
    "filter_words = [word for word in stopwords if word not in negationwords]\n",
    "\n",
    "# STYLISTICALLY SIGNIFICANT PUNCTUATION TO KEEP\n",
    "style_punct = ['!', '#', '*']\n",
    "\n",
    "# STYLISTICALLY INSIGNIFICANT PUNCT NOT INCLUDED IN string.punctuation BUT FOUND IN THE DATASET\n",
    "extra_punct = [\"’\", \"”\", \"”\", \"‹\", \"›\", \"'s\",\"“\"]"
   ]
  },
  {
   "cell_type": "code",
   "execution_count": 14,
   "id": "13956bbb",
   "metadata": {},
   "outputs": [],
   "source": [
    "def clean_text(text):\n",
    "    # Lowercase the text and remove unwanted characters\n",
    "    text = \"\".join([word.lower() for word in text if (word not in string.punctuation and \n",
    "    word not in extra_punct) or word in style_punct])\n",
    "    \n",
    "    # Define a RegexpTokenizer that tokenizes asteriks within words (e.g. for obscuring expletives)\n",
    "    # and keeps hashes with hashtags\n",
    "    tokenizer = RegexpTokenizer(r'[A-Za-z*]+|\\S+')\n",
    "\n",
    "    # Tokenize the cleaned text\n",
    "    tokens = tokenizer.tokenize(text)\n",
    "    \n",
    "    # stem words using Snowball Stemmer\n",
    "    text = [stemmer.stem(word) for word in tokens if word not in filter_words]\n",
    "\n",
    "    return text"
   ]
  },
  {
   "cell_type": "code",
   "execution_count": 454,
   "id": "80f4afe3",
   "metadata": {},
   "outputs": [],
   "source": [
    "# # LOAD THE MINIMALLY PRE-PROCESSED DATASET IF NEEDED\n",
    "# df = pd.read_csv('~/min_process_fakenews_df_canonical.csv', \n",
    "#                  index_col=None, \n",
    "#                  header=0,\n",
    "#                  names=['title', 'text', 'label'])"
   ]
  },
  {
   "cell_type": "code",
   "execution_count": 455,
   "id": "1edca8ed",
   "metadata": {},
   "outputs": [],
   "source": [
    "# make a tuple of title, label for each row in the df\n",
    "fulltext_label_tuple = list(df.itertuples(index=False, name=None))"
   ]
  },
  {
   "cell_type": "code",
   "execution_count": 470,
   "id": "8d02bbf0",
   "metadata": {},
   "outputs": [],
   "source": [
    "# CLEAN THE TEXT \n",
    "documents = [(clean_text(i[0]),clean_text(i[1]), i[2]) for i in fulltext_label_tuple]"
   ]
  },
  {
   "cell_type": "code",
   "execution_count": 471,
   "id": "30850037",
   "metadata": {
    "collapsed": true
   },
   "outputs": [
    {
     "data": {
      "text/plain": [
       "(['grow',\n",
       "  'f*ck',\n",
       "  '!',\n",
       "  'trump',\n",
       "  'get',\n",
       "  'taken',\n",
       "  'woodsh',\n",
       "  'call',\n",
       "  'govern',\n",
       "  'shutdown'],\n",
       " ['yesterday',\n",
       "  'amateur',\n",
       "  'presid',\n",
       "  'donald',\n",
       "  'trump',\n",
       "  'made',\n",
       "  'ass',\n",
       "  'fail',\n",
       "  'histori',\n",
       "  'today',\n",
       "  'call',\n",
       "  'futur',\n",
       "  'govern',\n",
       "  'shutdown',\n",
       "  'trump',\n",
       "  'could',\n",
       "  'f*ck',\n",
       "  'past',\n",
       "  'futur',\n",
       "  '24hour',\n",
       "  'trump',\n",
       "  'want',\n",
       "  'shut',\n",
       "  'govern',\n",
       "  'lead',\n",
       "  'thing',\n",
       "  'real',\n",
       "  'presid',\n",
       "  'would',\n",
       "  'tri',\n",
       "  'avoid',\n",
       "  'former',\n",
       "  'presid',\n",
       "  'barack',\n",
       "  'obama',\n",
       "  'made',\n",
       "  'concess',\n",
       "  'order',\n",
       "  'avoid',\n",
       "  'govern',\n",
       "  'shutdown',\n",
       "  'manbabi',\n",
       "  'potus',\n",
       "  'whine',\n",
       "  'twitter',\n",
       "  'deal',\n",
       "  'reach',\n",
       "  '1',\n",
       "  'trillionplus',\n",
       "  'bill',\n",
       "  'fund',\n",
       "  'govern',\n",
       "  'final',\n",
       "  'five',\n",
       "  'month',\n",
       "  'fiscal',\n",
       "  'yeareven',\n",
       "  'though',\n",
       "  'republican',\n",
       "  'control',\n",
       "  'congress',\n",
       "  'senat',\n",
       "  'instal',\n",
       "  'republican',\n",
       "  'presid',\n",
       "  'trump',\n",
       "  'not',\n",
       "  'get',\n",
       "  'fund',\n",
       "  'ineffect',\n",
       "  'border',\n",
       "  'wall',\n",
       "  'taxpay',\n",
       "  'dollar',\n",
       "  'not',\n",
       "  'spent',\n",
       "  'deport',\n",
       "  'forc',\n",
       "  'bill',\n",
       "  'includ',\n",
       "  '295',\n",
       "  'million',\n",
       "  'puerto',\n",
       "  'rico',\n",
       "  'medicaid',\n",
       "  'program',\n",
       "  'congress',\n",
       "  'budget',\n",
       "  'not',\n",
       "  'defund',\n",
       "  'plan',\n",
       "  'parenthood',\n",
       "  'short',\n",
       "  'listobvi',\n",
       "  'upset',\n",
       "  'former',\n",
       "  'realiti',\n",
       "  'show',\n",
       "  'star',\n",
       "  'previous',\n",
       "  'deem',\n",
       "  'great',\n",
       "  'negotiatoron',\n",
       "  'twitter',\n",
       "  'wrote',\n",
       "  'reason',\n",
       "  'plan',\n",
       "  'negoti',\n",
       "  'republican',\n",
       "  'democrat',\n",
       "  'need',\n",
       "  '60',\n",
       "  'vote',\n",
       "  'senat',\n",
       "  'not',\n",
       "  '!',\n",
       "  'reason',\n",
       "  'plan',\n",
       "  'negoti',\n",
       "  'republican',\n",
       "  'democrat',\n",
       "  'need',\n",
       "  '60',\n",
       "  'vote',\n",
       "  'senat',\n",
       "  'not',\n",
       "  '!',\n",
       "  'donald',\n",
       "  'j',\n",
       "  'trump',\n",
       "  'realdonaldtrump',\n",
       "  'may',\n",
       "  '2',\n",
       "  '2017a',\n",
       "  'minut',\n",
       "  'later',\n",
       "  'trump',\n",
       "  'ad',\n",
       "  'either',\n",
       "  'elect',\n",
       "  'republican',\n",
       "  'senat',\n",
       "  '2018',\n",
       "  'chang',\n",
       "  'rule',\n",
       "  '51',\n",
       "  'countri',\n",
       "  'need',\n",
       "  'good',\n",
       "  'shutdown',\n",
       "  'septemb',\n",
       "  'fix',\n",
       "  'mess',\n",
       "  '!',\n",
       "  'either',\n",
       "  'elect',\n",
       "  'republican',\n",
       "  'senat',\n",
       "  '2018',\n",
       "  'chang',\n",
       "  'rule',\n",
       "  '51',\n",
       "  'countri',\n",
       "  'need',\n",
       "  'good',\n",
       "  'shutdown',\n",
       "  'septemb',\n",
       "  'fix',\n",
       "  'mess',\n",
       "  '!',\n",
       "  'donald',\n",
       "  'j',\n",
       "  'trump',\n",
       "  'realdonaldtrump',\n",
       "  'may',\n",
       "  '2',\n",
       "  '2017so',\n",
       "  'get',\n",
       "  'way',\n",
       "  'want',\n",
       "  'chang',\n",
       "  'rule',\n",
       "  'reason',\n",
       "  'prospect',\n",
       "  'govern',\n",
       "  'shutdown',\n",
       "  'huge',\n",
       "  'unpopular',\n",
       "  'one',\n",
       "  'twitter',\n",
       "  'user',\n",
       "  'school',\n",
       "  'himrealdonaldtrump',\n",
       "  'your',\n",
       "  'reckless',\n",
       "  'shut',\n",
       "  'govern',\n",
       "  'isnt',\n",
       "  'like',\n",
       "  'close',\n",
       "  'casino',\n",
       "  'last',\n",
       "  'govern',\n",
       "  'shutdown',\n",
       "  'cost',\n",
       "  'economi',\n",
       "  '24b06',\n",
       "  'gdp',\n",
       "  'joseph',\n",
       "  'amodeo',\n",
       "  'josephamodeo',\n",
       "  'may',\n",
       "  '2',\n",
       "  '2017realdonaldtrump',\n",
       "  '2013',\n",
       "  'shutdown',\n",
       "  'also',\n",
       "  'result',\n",
       "  '450kday',\n",
       "  'lost',\n",
       "  'revenu',\n",
       "  'natlparkservic',\n",
       "  'sourc',\n",
       "  'nps',\n",
       "  'wapo',\n",
       "  'joseph',\n",
       "  'amodeo',\n",
       "  'josephamodeo',\n",
       "  'may',\n",
       "  '2',\n",
       "  '2017realdonaldtrump',\n",
       "  'natlparkservic',\n",
       "  'accord',\n",
       "  'ustravel',\n",
       "  '2013',\n",
       "  'shutdown',\n",
       "  'cost',\n",
       "  '152mday',\n",
       "  '24b',\n",
       "  'lost',\n",
       "  'travel',\n",
       "  'spend',\n",
       "  'sourc',\n",
       "  'us',\n",
       "  'travel',\n",
       "  'assoc',\n",
       "  'wapo',\n",
       "  'joseph',\n",
       "  'amodeo',\n",
       "  'josephamodeo',\n",
       "  'may',\n",
       "  '2',\n",
       "  '2017realdonaldtrump',\n",
       "  'natlparkservic',\n",
       "  'ustravel',\n",
       "  'realdonaldtrump',\n",
       "  'govern',\n",
       "  'fact',\n",
       "  'shutdown',\n",
       "  'mean',\n",
       "  'didnt',\n",
       "  'job',\n",
       "  'american',\n",
       "  'ppl',\n",
       "  'cannot',\n",
       "  'afford',\n",
       "  'shutdown',\n",
       "  'joseph',\n",
       "  'amodeo',\n",
       "  'josephamodeo',\n",
       "  'may',\n",
       "  '2',\n",
       "  '2017realdonaldtrump',\n",
       "  'natlparkservic',\n",
       "  'ustravel',\n",
       "  'cannot',\n",
       "  'afford',\n",
       "  'increas',\n",
       "  'gas',\n",
       "  'tax',\n",
       "  'consumpt',\n",
       "  'tax',\n",
       "  'disproportion',\n",
       "  'affect',\n",
       "  'lowmiddl',\n",
       "  'incom',\n",
       "  'ppl',\n",
       "  'joseph',\n",
       "  'amodeo',\n",
       "  'josephamodeo',\n",
       "  'may',\n",
       "  '2',\n",
       "  '2017it',\n",
       "  'true',\n",
       "  'trump',\n",
       "  'liter',\n",
       "  'call',\n",
       "  'increas',\n",
       "  'gas',\n",
       "  'tax',\n",
       "  'rememb',\n",
       "  'conserv',\n",
       "  'blame',\n",
       "  'obama',\n",
       "  'gas',\n",
       "  'price',\n",
       "  'increas',\n",
       "  'not',\n",
       "  'control',\n",
       "  'republican',\n",
       "  'presid',\n",
       "  'want',\n",
       "  'deliber',\n",
       "  'rais',\n",
       "  'price',\n",
       "  'gas',\n",
       "  'tax',\n",
       "  'increasetwitt',\n",
       "  'user',\n",
       "  'not',\n",
       "  'amus',\n",
       "  'trump',\n",
       "  'reckless',\n",
       "  'tweetrealdonaldtrump',\n",
       "  'wait',\n",
       "  'put',\n",
       "  'shutdown',\n",
       "  'quot',\n",
       "  'accord',\n",
       "  'sean',\n",
       "  'spicer',\n",
       "  'dont',\n",
       "  'realli',\n",
       "  'mean',\n",
       "  'david',\n",
       "  'nuzzi',\n",
       "  'nussbaum',\n",
       "  'thenuzzi',\n",
       "  'may',\n",
       "  '2',\n",
       "  '2017realdonaldtrump',\n",
       "  'mayb',\n",
       "  'attempt',\n",
       "  'presid',\n",
       "  'peopl',\n",
       "  'reach',\n",
       "  'across',\n",
       "  'aisl',\n",
       "  'bipartisan',\n",
       "  'agreement',\n",
       "  'like',\n",
       "  'everi',\n",
       "  'presid',\n",
       "  'david',\n",
       "  'nuzzi',\n",
       "  'nussbaum',\n",
       "  'thenuzzi',\n",
       "  'may',\n",
       "  '2',\n",
       "  '2017realdonaldtrump',\n",
       "  'last',\n",
       "  'week',\n",
       "  'blame',\n",
       "  'democrat',\n",
       "  'shut',\n",
       "  'govern',\n",
       "  'jail',\n",
       "  'donald',\n",
       "  'trump',\n",
       "  'dtrumpexpos',\n",
       "  'may',\n",
       "  '2',\n",
       "  '2017realdonaldtrump',\n",
       "  'sound',\n",
       "  'like',\n",
       "  'toddler',\n",
       "  'throw',\n",
       "  'truck',\n",
       "  'know',\n",
       "  'like',\n",
       "  'playpen',\n",
       "  'kid',\n",
       "  'mean',\n",
       "  'grown',\n",
       "  'fuck',\n",
       "  'mike',\n",
       "  'p',\n",
       "  'william',\n",
       "  'mikepwilliam',\n",
       "  'may',\n",
       "  '2',\n",
       "  '2017realdonaldtrump',\n",
       "  'well',\n",
       "  'your',\n",
       "  'least',\n",
       "  'consist',\n",
       "  'earlier',\n",
       "  'posit',\n",
       "  'view',\n",
       "  'govern',\n",
       "  'shutdown',\n",
       "  'httpstco',\n",
       "  '07wlkur1c',\n",
       "  'simon',\n",
       "  'hedlin',\n",
       "  'simonhedlin',\n",
       "  'may',\n",
       "  '2',\n",
       "  '2017trump',\n",
       "  'unpopular',\n",
       "  'presid',\n",
       "  'first',\n",
       "  '100',\n",
       "  'day',\n",
       "  'offic',\n",
       "  'wonder',\n",
       "  'tri',\n",
       "  'distract',\n",
       "  'us',\n",
       "  'time',\n",
       "  'cough',\n",
       "  'cough',\n",
       "  'russiaphoto',\n",
       "  'chip',\n",
       "  'somodevillagetti',\n",
       "  'imag'],\n",
       " 1)"
      ]
     },
     "execution_count": 471,
     "metadata": {},
     "output_type": "execute_result"
    }
   ],
   "source": [
    "# Check an entry with focus tokens (e.g. internal '*' and '!')\n",
    "documents[70055]"
   ]
  },
  {
   "cell_type": "markdown",
   "id": "0513932f",
   "metadata": {},
   "source": [
    "<h3>EXPORT to CSV: Pre-Processed Dataset</h3>"
   ]
  },
  {
   "cell_type": "code",
   "execution_count": 476,
   "id": "4f706144",
   "metadata": {},
   "outputs": [],
   "source": [
    "# CREATE THE DATAFRAME\n",
    "cleaned_df = pd.DataFrame(documents,\n",
    "               columns =['title', 'text', 'label'])"
   ]
  },
  {
   "cell_type": "code",
   "execution_count": 477,
   "id": "c0d573ee",
   "metadata": {},
   "outputs": [],
   "source": [
    "# FLATTEN LISTS INSIDE THE DATAFRAME\n",
    "def process_text(text):\n",
    "    return ', '.join(text)\n",
    "\n",
    "cleaned_df['title'] = cleaned_df['title'].apply(process_text)\n",
    "cleaned_df['text'] = cleaned_df['text'].apply(process_text)"
   ]
  },
  {
   "cell_type": "code",
   "execution_count": 480,
   "id": "a9d57ad5",
   "metadata": {},
   "outputs": [],
   "source": [
    "# EXPORT PRE-PROCESSED DATASET TO CSV FOR FUTURE USE\n",
    "cleaned_df.to_csv('~/preprocessed_fakenews_df_canonical.csv', index=False, sep=',')"
   ]
  },
  {
   "cell_type": "markdown",
   "id": "98343166",
   "metadata": {},
   "source": [
    "<h1>TEST 2: <br>Using the Naive Bayes Classifier on the Cleaned Title-Only Unigram Features</h1>"
   ]
  },
  {
   "cell_type": "code",
   "execution_count": 621,
   "id": "ec42a6ee",
   "metadata": {},
   "outputs": [],
   "source": [
    "# LOAD THE PRE-PROCESSED DATASET IF NEEDED\n",
    "df = pd.read_csv('~/preprocessed_fakenews_df_canonical.csv', \n",
    "                 index_col=None, \n",
    "                 header=0,\n",
    "                 names=['title', 'text', 'label'])"
   ]
  },
  {
   "cell_type": "code",
   "execution_count": 622,
   "id": "8ce1dc42",
   "metadata": {},
   "outputs": [],
   "source": [
    "tuple_rows = list(df.itertuples(index=False, name=None))\n",
    "document_str = [(str(i[0]), i[2]) for i in tuple_rows]\n",
    "documents = [(i[0].split(\", \"), i[1]) for i in document_str]"
   ]
  },
  {
   "cell_type": "code",
   "execution_count": 624,
   "id": "d17e5744",
   "metadata": {},
   "outputs": [],
   "source": [
    "title_featuresets = [(unigram_features(title, title_features), cat) for (title, cat) in documents]"
   ]
  },
  {
   "cell_type": "code",
   "execution_count": 625,
   "id": "5d876c9c",
   "metadata": {},
   "outputs": [],
   "source": [
    "all_words_list = [word for (title, cat) in documents for word in title]\n",
    "all_words = nltk.FreqDist(all_words_list)\n",
    "word_items = all_words.most_common(3000)"
   ]
  },
  {
   "cell_type": "code",
   "execution_count": 626,
   "id": "233ebb75",
   "metadata": {},
   "outputs": [],
   "source": [
    "train_set, test_set = title_featuresets[(round(.30 * len(title_featuresets))):], title_featuresets[:(round(.30 * len(title_featuresets)))]"
   ]
  },
  {
   "cell_type": "code",
   "execution_count": 627,
   "id": "197d5459",
   "metadata": {},
   "outputs": [],
   "source": [
    "NBclassifier = nltk.NaiveBayesClassifier.train(train_set)"
   ]
  },
  {
   "cell_type": "code",
   "execution_count": 628,
   "id": "b3095a0b",
   "metadata": {},
   "outputs": [],
   "source": [
    "accuracy = nltk.classify.accuracy(NBclassifier, test_set)"
   ]
  },
  {
   "cell_type": "code",
   "execution_count": 629,
   "id": "dab51efa",
   "metadata": {},
   "outputs": [
    {
     "name": "stdout",
     "output_type": "stream",
     "text": [
      "0.8435552172051196\n"
     ]
    }
   ],
   "source": [
    "print(accuracy)"
   ]
  },
  {
   "cell_type": "markdown",
   "id": "f55b678c",
   "metadata": {},
   "source": [
    "<h3>Test 2 Most Informative Features</h3>"
   ]
  },
  {
   "cell_type": "code",
   "execution_count": 635,
   "id": "cd512422",
   "metadata": {
    "scrolled": true
   },
   "outputs": [
    {
     "name": "stdout",
     "output_type": "stream",
     "text": [
      "1 = Fake / 0 = Real\n",
      "Most Informative Features\n",
      "                   V_wow = True                1 : 0      =    162.3 : 1.0\n",
      "               V_myanmar = True                0 : 1      =    141.1 : 1.0\n",
      "                     V_… = True                1 : 0      =     95.7 : 1.0\n",
      "                     V_! = True                1 : 0      =     56.9 : 1.0\n",
      "                  V_york = True                0 : 1      =     50.5 : 1.0\n",
      "             V_brilliant = True                1 : 0      =     49.6 : 1.0\n",
      "                 V_onion = True                1 : 0      =     49.2 : 1.0\n",
      "                V_finest = True                1 : 0      =     47.2 : 1.0\n",
      "             V_breitbart = True                0 : 1      =     45.3 : 1.0\n",
      "                 V_video = True                1 : 0      =     38.8 : 1.0\n",
      "                     V_– = True                1 : 0      =     37.6 : 1.0\n",
      "                V_antifa = True                1 : 0      =     35.8 : 1.0\n",
      "               V_mnuchin = True                0 : 1      =     33.5 : 1.0\n",
      "                  V_epic = True                1 : 0      =     32.8 : 1.0\n",
      "                 V_laugh = True                1 : 0      =     32.6 : 1.0\n",
      "                  V_thug = True                1 : 0      =     30.3 : 1.0\n",
      "               V_furious = True                1 : 0      =     28.7 : 1.0\n",
      "                V_unreal = True                1 : 0      =     27.8 : 1.0\n",
      "                    V_xi = True                0 : 1      =     26.6 : 1.0\n",
      "               V_baghdad = True                0 : 1      =     24.2 : 1.0\n",
      "                 V_envoy = True                0 : 1      =     24.2 : 1.0\n",
      "             V_halloween = True                1 : 0      =     23.9 : 1.0\n",
      "                V_macron = True                0 : 1      =     23.8 : 1.0\n",
      "                   V_mic = True                1 : 0      =     23.8 : 1.0\n",
      "                    V_en = True                1 : 0      =     23.1 : 1.0\n",
      "                  V_seth = True                1 : 0      =     23.1 : 1.0\n",
      "               V_tantrum = True                1 : 0      =     22.4 : 1.0\n",
      "               V_somalia = True                0 : 1      =     22.2 : 1.0\n",
      "              V_cambodia = True                0 : 1      =     21.6 : 1.0\n",
      "                   V_rio = True                0 : 1      =     21.6 : 1.0\n",
      "                 V_viral = True                1 : 0      =     21.4 : 1.0\n",
      "                 V_idiot = True                1 : 0      =     20.3 : 1.0\n",
      "                 V_czech = True                0 : 1      =     19.6 : 1.0\n",
      "                V_soccer = True                0 : 1      =     19.6 : 1.0\n",
      "               V_kremlin = True                0 : 1      =     19.1 : 1.0\n",
      "                V_tucker = True                1 : 0      =     19.1 : 1.0\n",
      "               V_ireland = True                0 : 1      =     18.9 : 1.0\n",
      "                   V_kkk = True                1 : 0      =     18.3 : 1.0\n",
      "             V_tillerson = True                0 : 1      =     18.2 : 1.0\n",
      "                 V_egypt = True                0 : 1      =     17.4 : 1.0\n",
      "                    V_pm = True                0 : 1      =     16.6 : 1.0\n",
      "                   V_abe = True                0 : 1      =     16.4 : 1.0\n",
      "                V_brutal = True                1 : 0      =     16.3 : 1.0\n",
      "                   V_kid = True                1 : 0      =     16.2 : 1.0\n",
      "              V_thailand = True                0 : 1      =     15.6 : 1.0\n",
      "               V_kurdish = True                0 : 1      =     15.5 : 1.0\n",
      "                  V_trey = True                1 : 0      =     15.5 : 1.0\n",
      "               V_perfect = True                1 : 0      =     15.4 : 1.0\n",
      "                V_rapist = True                1 : 0      =     15.3 : 1.0\n",
      "              V_watchdog = True                0 : 1      =     15.2 : 1.0\n",
      "           V_supremacist = True                1 : 0      =     15.1 : 1.0\n",
      "                  V_irma = True                0 : 1      =     14.8 : 1.0\n",
      "                  V_rant = True                1 : 0      =     14.8 : 1.0\n",
      "                   V_doj = True                1 : 0      =     14.7 : 1.0\n",
      "               V_patrick = True                1 : 0      =     14.7 : 1.0\n",
      "                 V_nafta = True                0 : 1      =     14.5 : 1.0\n",
      "             V_flashback = True                1 : 0      =     14.0 : 1.0\n",
      "                    V_ca = True                1 : 0      =     13.6 : 1.0\n",
      "                 V_spain = True                0 : 1      =     13.6 : 1.0\n",
      "               V_taliban = True                0 : 1      =     13.3 : 1.0\n",
      "                   V_hey = True                1 : 0      =     13.1 : 1.0\n",
      "                   V_cop = True                1 : 0      =     12.7 : 1.0\n",
      "              V_thursday = True                0 : 1      =     12.2 : 1.0\n",
      "                 V_watch = True                1 : 0      =     12.2 : 1.0\n",
      "                V_stupid = True                1 : 0      =     12.0 : 1.0\n",
      "                 V_proof = True                1 : 0      =     12.0 : 1.0\n",
      "                 V_guest = True                1 : 0      =     11.8 : 1.0\n",
      "                 V_audio = True                1 : 0      =     11.8 : 1.0\n",
      "                 V_dutch = True                0 : 1      =     11.8 : 1.0\n",
      "                  V_curb = True                0 : 1      =     11.6 : 1.0\n",
      "                    V_oh = True                1 : 0      =     11.4 : 1.0\n",
      "                 V_jesus = True                1 : 0      =     11.3 : 1.0\n",
      "               V_destroy = True                1 : 0      =     11.0 : 1.0\n",
      "                  V_nypd = True                1 : 0      =     11.0 : 1.0\n",
      "                V_racist = True                1 : 0      =     11.0 : 1.0\n",
      "               V_podesta = True                1 : 0      =     10.9 : 1.0\n",
      "                  V_time = True                0 : 1      =     10.9 : 1.0\n",
      "                   V_dad = True                1 : 0      =     10.9 : 1.0\n",
      "                  V_seek = True                0 : 1      =     10.9 : 1.0\n",
      "                V_caught = True                1 : 0      =     10.8 : 1.0\n",
      "                  V_room = True                1 : 0      =     10.7 : 1.0\n",
      "                   V_wsj = True                0 : 1      =     10.6 : 1.0\n",
      "                V_anchor = True                1 : 0      =     10.4 : 1.0\n",
      "                  V_milo = True                0 : 1      =     10.2 : 1.0\n",
      "              V_northern = True                0 : 1      =     10.2 : 1.0\n",
      "                V_taiwan = True                0 : 1      =     10.2 : 1.0\n",
      "                 V_guess = True                1 : 0      =     10.2 : 1.0\n",
      "                 V_break = True                1 : 0      =     10.0 : 1.0\n",
      "             V_spokesman = True                0 : 1      =      9.9 : 1.0\n",
      "                 V_kenya = True                0 : 1      =      9.7 : 1.0\n",
      "                V_oregon = True                1 : 0      =      9.7 : 1.0\n",
      "                  V_peru = True                0 : 1      =      9.6 : 1.0\n",
      "                V_region = True                0 : 1      =      9.6 : 1.0\n",
      "              V_shutdown = True                0 : 1      =      9.6 : 1.0\n",
      "             V_indonesia = True                0 : 1      =      9.5 : 1.0\n",
      "             V_wednesday = True                0 : 1      =      9.5 : 1.0\n",
      "                 V_shock = True                1 : 0      =      9.4 : 1.0\n",
      "                 V_prove = True                1 : 0      =      9.4 : 1.0\n",
      "                  V_rico = True                0 : 1      =      9.4 : 1.0\n",
      "                 V_japan = True                0 : 1      =      9.3 : 1.0\n"
     ]
    }
   ],
   "source": [
    "print(\"1 = Fake / 0 = Real\")\n",
    "NBclassifier.show_most_informative_features(100)"
   ]
  },
  {
   "cell_type": "markdown",
   "id": "c8cbf989",
   "metadata": {},
   "source": [
    "<h3>Test 2 Cross Validation</h3>"
   ]
  },
  {
   "cell_type": "code",
   "execution_count": 634,
   "id": "1fc26b20",
   "metadata": {},
   "outputs": [
    {
     "name": "stdout",
     "output_type": "stream",
     "text": [
      "Each fold size: 14011\n",
      "0 0.8441224751980587\n",
      "1 0.8416958104346585\n",
      "2 0.8362715009635286\n",
      "3 0.8409820855042467\n",
      "4 0.8347013061166226\n",
      "mean accuracy 0.8395546356434231\n"
     ]
    }
   ],
   "source": [
    "# perform the cross-validation on the featuresets with word features and generate accuracy\n",
    "num_folds = 5\n",
    "cross_validation_accuracy(num_folds, title_featuresets)"
   ]
  },
  {
   "cell_type": "markdown",
   "id": "1567850d",
   "metadata": {},
   "source": [
    "<h3>Test 2 Confusion Matrix</h3>"
   ]
  },
  {
   "cell_type": "code",
   "execution_count": 632,
   "id": "78762716",
   "metadata": {},
   "outputs": [
    {
     "name": "stdout",
     "output_type": "stream",
     "text": [
      "  |    1    0 |\n",
      "--+-----------+\n",
      "1 |<8790>1768 |\n",
      "0 | 1520<8939>|\n",
      "--+-----------+\n",
      "(row = reference; col = test)\n",
      "\n"
     ]
    }
   ],
   "source": [
    "goldlist = []\n",
    "predictedlist = []\n",
    "\n",
    "for (features, label) in test_set:\n",
    "    goldlist.append(label)\n",
    "    predictedlist.append(NBclassifier.classify(features))\n",
    "\n",
    "cm = nltk.ConfusionMatrix(goldlist, predictedlist)\n",
    "\n",
    "print(cm.pretty_format(sort_by_count=True))"
   ]
  },
  {
   "cell_type": "markdown",
   "id": "a2a8f3de",
   "metadata": {},
   "source": [
    "<h3>Test 2 Evaluation Measures</h3>"
   ]
  },
  {
   "cell_type": "code",
   "execution_count": 633,
   "id": "22f757e0",
   "metadata": {},
   "outputs": [
    {
     "name": "stdout",
     "output_type": "stream",
     "text": [
      "\tPrecision\tRecall\t    F1\t Specificity\n",
      "0 \t      0.835      0.855      0.845      0.833\n",
      "1 \t      0.853      0.833      0.842      0.855\n"
     ]
    }
   ],
   "source": [
    "eval_measures(goldlist, predictedlist)"
   ]
  },
  {
   "cell_type": "code",
   "execution_count": null,
   "id": "205769d7",
   "metadata": {},
   "outputs": [],
   "source": []
  },
  {
   "cell_type": "markdown",
   "id": "3a8b18c3",
   "metadata": {},
   "source": [
    "<h3>Test 2 Discussion: NB Classifier on Unigram Features of the Cleaned Dataset</h3>"
   ]
  },
  {
   "cell_type": "markdown",
   "id": "65ae546f",
   "metadata": {},
   "source": [
    "<body>Having taken the text through a customized version of standard pre-processing, \n",
    "    <b>accuracy has dropped from 88 to 83.95%</b>.\n",
    "<br><br>    \n",
    "However, while we may have sacrificed some accuracy, we appear to have a more generalizable model. <br><br>Looking at the <b>Most Informative Features</b> we have fewer items that seem arbitrary and more words with a plausible relationship to the categorzation of real vs. fake news.\n",
    "\n",
    "Drilling down into the list a bit, we can see <b>four broad categories of unigrams</b> that are correlated with  fakenews categorization: \n",
    "\n",
    "* <b>sensationalistic</b> language (e.g. \"brutal\", \"epic\", \"unreal\")\n",
    "* <b>informal</b>, esp. deragatory or dismissive language (e.g. \"cop\", \"stupid\", \"idiot\")\n",
    "* <b>\"hot-button\"</b> topics (e.g. \"antifa\", \"kkk\", \"rapist\") \n",
    "* <b>special punctuation</b> typical of online language use (i.e. \"!\", \"...\")\n",
    "    \n",
    "At the same time, names of <b>non-controversial political figures, places, or roles</b> (e.g. \"Macron\", \"Myanmar\", \"envoy\") are strongly associated with <b>real news</b>.\n",
    "<br><br>Looking at the <b>Evaluation Metrics</b> we see that <b>Precision, Recall, and Specificity are all much closer</b> for both the postive and negative labels and relative to each other. This suggests that the preprocessing we have done has gone a long way to correcting the biases of the minimally processed dataset.\n",
    "<br><br>What difference remains between the scores shows the same pattern, with the model being slightly more sensitive to negative label items and having a slightly higher precision and specificity for the positive label.\n",
    "<br><br>\n",
    "Having found a good recipe for pre-processing, next we will take a look at expanding the corpus from title-only to a concatenated title-and-text...\n",
    "</body>"
   ]
  },
  {
   "cell_type": "markdown",
   "id": "861d455c",
   "metadata": {},
   "source": [
    "<h1>Test 3:<br>Using the NB Classifier on the Combined Title + Text Unigram Features</h1>"
   ]
  },
  {
   "cell_type": "code",
   "execution_count": 19,
   "id": "1699c536",
   "metadata": {},
   "outputs": [],
   "source": [
    "# LOAD THE PRE-PROCESSED DATASET IF NEEDED\n",
    "df = pd.read_csv('~/preprocessed_fakenews_df_canonical.csv', \n",
    "                 index_col=None, \n",
    "                 header=0,\n",
    "                 names=['title', 'text', 'label'])"
   ]
  },
  {
   "cell_type": "code",
   "execution_count": 20,
   "id": "a7278713",
   "metadata": {},
   "outputs": [
    {
     "data": {
      "text/html": [
       "<div>\n",
       "<style scoped>\n",
       "    .dataframe tbody tr th:only-of-type {\n",
       "        vertical-align: middle;\n",
       "    }\n",
       "\n",
       "    .dataframe tbody tr th {\n",
       "        vertical-align: top;\n",
       "    }\n",
       "\n",
       "    .dataframe thead th {\n",
       "        text-align: right;\n",
       "    }\n",
       "</style>\n",
       "<table border=\"1\" class=\"dataframe\">\n",
       "  <thead>\n",
       "    <tr style=\"text-align: right;\">\n",
       "      <th></th>\n",
       "      <th>combined_text</th>\n",
       "      <th>label</th>\n",
       "    </tr>\n",
       "  </thead>\n",
       "  <tbody>\n",
       "    <tr>\n",
       "      <th>0</th>\n",
       "      <td>sunday, screen, ‘a, nobl, lie, 2011, 21st, cen...</td>\n",
       "      <td>1</td>\n",
       "    </tr>\n",
       "    <tr>\n",
       "      <th>1</th>\n",
       "      <td>trumpocalyps, 5, ridicul, outdat, assumpt, eve...</td>\n",
       "      <td>1</td>\n",
       "    </tr>\n",
       "    <tr>\n",
       "      <th>2</th>\n",
       "      <td>help, blow, globalist, plot, steal, presid, ma...</td>\n",
       "      <td>1</td>\n",
       "    </tr>\n",
       "    <tr>\n",
       "      <th>3</th>\n",
       "      <td>new, report, find, voter, no, idea, outrag, su...</td>\n",
       "      <td>1</td>\n",
       "    </tr>\n",
       "    <tr>\n",
       "      <th>4</th>\n",
       "      <td>box, offic, tom, hank, circl, bomb, furious, c...</td>\n",
       "      <td>0</td>\n",
       "    </tr>\n",
       "  </tbody>\n",
       "</table>\n",
       "</div>"
      ],
      "text/plain": [
       "                                       combined_text  label\n",
       "0  sunday, screen, ‘a, nobl, lie, 2011, 21st, cen...      1\n",
       "1  trumpocalyps, 5, ridicul, outdat, assumpt, eve...      1\n",
       "2  help, blow, globalist, plot, steal, presid, ma...      1\n",
       "3  new, report, find, voter, no, idea, outrag, su...      1\n",
       "4  box, offic, tom, hank, circl, bomb, furious, c...      0"
      ]
     },
     "execution_count": 20,
     "metadata": {},
     "output_type": "execute_result"
    }
   ],
   "source": [
    "# COMBINE 'TITLE' & 'TEXT' COLUMNS SEPARATED BY A COMMA\n",
    "df['combined_text'] = df.apply(lambda row: \", \".join(row[['title', 'text']].astype(str)), axis=1)\n",
    "df = df[['combined_text', 'label']]\n",
    "\n",
    "df.head()"
   ]
  },
  {
   "cell_type": "code",
   "execution_count": 21,
   "id": "b0c01525",
   "metadata": {},
   "outputs": [],
   "source": [
    "tuple_rows = list(df.itertuples(index=False, name=None))"
   ]
  },
  {
   "cell_type": "code",
   "execution_count": 22,
   "id": "d01813fe",
   "metadata": {},
   "outputs": [],
   "source": [
    "document_str = [(str(text[0]), text[1]) for text in tuple_rows]\n",
    "documents = [(text[0].split(\", \"), text[1]) for text in document_str]"
   ]
  },
  {
   "cell_type": "code",
   "execution_count": 24,
   "id": "f719520e",
   "metadata": {},
   "outputs": [],
   "source": [
    "all_words_list = [word for (title, cat) in documents for word in title]\n",
    "all_words = nltk.FreqDist(all_words_list)\n",
    "word_items = all_words.most_common(3000)"
   ]
  },
  {
   "cell_type": "code",
   "execution_count": 28,
   "id": "120309c6",
   "metadata": {},
   "outputs": [],
   "source": [
    "text_features = [word for (word,count) in word_items]\n",
    "text_featuresets = [(unigram_features(text, text_features), cat) for (text, cat) in documents]"
   ]
  },
  {
   "cell_type": "code",
   "execution_count": 29,
   "id": "8fdf8f05",
   "metadata": {},
   "outputs": [],
   "source": [
    "unigram_text_featureset_df = pd.DataFrame(text_featuresets, columns=['features', 'label'])\n",
    "unigram_text_features_df = pd.DataFrame(unigram_text_featureset_df['features'].tolist())\n",
    "df_csv = pd.concat([unigram_text_features_df, unigram_text_featureset_df ['label']], axis=1)\n",
    "df_csv.to_csv('~/combined_title_text_unigram_features_fakenews_df_canonical.csv', index=False)"
   ]
  },
  {
   "cell_type": "code",
   "execution_count": 31,
   "id": "927bcfc9",
   "metadata": {},
   "outputs": [],
   "source": [
    "# LOAD THE DATASET IF NEEDED\n",
    "df = pd.read_csv('~/combined_title_text_unigram_features_fakenews_df_canonical.csv')"
   ]
  },
  {
   "cell_type": "code",
   "execution_count": 32,
   "id": "e2f68dc9",
   "metadata": {},
   "outputs": [],
   "source": [
    "text_featuresets = [(dict(row.drop('label').items()), row['label']) for index, row in df.iterrows()]"
   ]
  },
  {
   "cell_type": "code",
   "execution_count": 38,
   "id": "18faad76",
   "metadata": {},
   "outputs": [],
   "source": [
    "train_set, test_set = text_featuresets[(round(.30 * len(text_featuresets))):], text_featuresets[:(round(.30 * len(text_featuresets)))]"
   ]
  },
  {
   "cell_type": "code",
   "execution_count": 39,
   "id": "d7df57b0",
   "metadata": {},
   "outputs": [],
   "source": [
    "NBclassifier = nltk.NaiveBayesClassifier.train(train_set)"
   ]
  },
  {
   "cell_type": "code",
   "execution_count": 40,
   "id": "0fda262c",
   "metadata": {},
   "outputs": [],
   "source": [
    "accuracy = nltk.classify.accuracy(NBclassifier, test_set)"
   ]
  },
  {
   "cell_type": "code",
   "execution_count": 41,
   "id": "c8b7d9d6",
   "metadata": {},
   "outputs": [
    {
     "name": "stdout",
     "output_type": "stream",
     "text": [
      "0.7827472998049199\n"
     ]
    }
   ],
   "source": [
    "print(accuracy)"
   ]
  },
  {
   "cell_type": "markdown",
   "id": "2311d7f0",
   "metadata": {},
   "source": [
    "<h3>Test 3 Most Informative Features</h3>"
   ]
  },
  {
   "cell_type": "code",
   "execution_count": 569,
   "id": "ca00ab3d",
   "metadata": {
    "collapsed": true
   },
   "outputs": [
    {
     "name": "stdout",
     "output_type": "stream",
     "text": [
      "1 = Fake / 0 = Real\n",
      "Most Informative Features\n",
      "                 V_getti = True                1 : 0      =    101.9 : 1.0\n",
      "               V_catalan = True                0 : 1      =     90.6 : 1.0\n",
      "              V_rohingya = True                0 : 1      =     75.8 : 1.0\n",
      "                     V_и = True                1 : 0      =     71.3 : 1.0\n",
      "             V_catalonia = True                0 : 1      =     66.2 : 1.0\n",
      "                   V_000 = True                0 : 1      =     53.4 : 1.0\n",
      "               V_myanmar = True                0 : 1      =     43.8 : 1.0\n",
      "                     V_в = True                1 : 0      =     43.2 : 1.0\n",
      "                    V_на = True                1 : 0      =     41.6 : 1.0\n",
      "                V_reuter = True                0 : 1      =     37.7 : 1.0\n",
      "            V_screenshot = True                1 : 0      =     32.2 : 1.0\n",
      "                 V_bundi = True                1 : 0      =     23.9 : 1.0\n",
      "                   V_com = True                0 : 1      =     22.7 : 1.0\n",
      "                V_macron = True                0 : 1      =     14.4 : 1.0\n",
      "                V_hilari = True                1 : 0      =     12.0 : 1.0\n",
      "                   V_que = True                1 : 0      =     11.3 : 1.0\n",
      "              V_overhaul = True                0 : 1      =     11.3 : 1.0\n",
      "                   V_via = True                1 : 0      =     10.3 : 1.0\n",
      "                 V_mugab = True                0 : 1      =     10.0 : 1.0\n",
      "                    V_rt = True                1 : 0      =      9.5 : 1.0\n",
      "                  V_beij = True                0 : 1      =      9.5 : 1.0\n",
      "             V_pyongyang = True                0 : 1      =      9.3 : 1.0\n",
      "            V_bangladesh = True                0 : 1      =      8.8 : 1.0\n",
      "                    V_xi = True                0 : 1      =      8.7 : 1.0\n",
      "                   V_doj = True                1 : 0      =      8.5 : 1.0\n",
      "              V_subscrib = True                1 : 0      =      8.0 : 1.0\n",
      "             V_tillerson = True                0 : 1      =      7.6 : 1.0\n",
      "                V_ankara = True                0 : 1      =      7.5 : 1.0\n",
      "                     V_u = True                0 : 1      =      7.4 : 1.0\n",
      "                 V_idiot = True                1 : 0      =      7.2 : 1.0\n",
      "                 V_matti = True                0 : 1      =      7.2 : 1.0\n",
      "                  V_soro = True                1 : 0      =      7.1 : 1.0\n",
      "                 V_insan = True                1 : 0      =      7.0 : 1.0\n",
      "                   V_rex = True                0 : 1      =      6.9 : 1.0\n",
      "                V_weiner = True                1 : 0      =      6.9 : 1.0\n",
      "                  V_wire = True                1 : 0      =      6.6 : 1.0\n",
      "                  V_imag = True                1 : 0      =      6.4 : 1.0\n",
      "               V_mnuchin = True                0 : 1      =      6.2 : 1.0\n",
      "                  V_huma = True                1 : 0      =      6.1 : 1.0\n",
      "                V_abedin = True                1 : 0      =      6.0 : 1.0\n",
      "                  V_21st = True                1 : 0      =      5.9 : 1.0\n",
      "                   V_etc = True                1 : 0      =      5.9 : 1.0\n",
      "         V_parliamentari = True                0 : 1      =      5.9 : 1.0\n",
      "            V_referendum = True                0 : 1      =      5.4 : 1.0\n",
      "             V_crackdown = True                0 : 1      =      5.4 : 1.0\n",
      "                  V_damn = True                1 : 0      =      5.3 : 1.0\n",
      "              V_wikileak = True                1 : 0      =      5.2 : 1.0\n",
      "                   V_cop = True                1 : 0      =      5.1 : 1.0\n",
      "       V_realdonaldtrump = True                1 : 0      =      5.1 : 1.0\n",
      "           V_spokeswoman = True                0 : 1      =      5.1 : 1.0\n"
     ]
    }
   ],
   "source": [
    "print(\"1 = Fake / 0 = Real\")\n",
    "NBclassifier.show_most_informative_features(50)"
   ]
  },
  {
   "cell_type": "markdown",
   "id": "a1e8a53b",
   "metadata": {},
   "source": [
    "<h3>Test 3 Cross Validation</h3>"
   ]
  },
  {
   "cell_type": "code",
   "execution_count": 66,
   "id": "1ad8dfa1",
   "metadata": {},
   "outputs": [
    {
     "name": "stdout",
     "output_type": "stream",
     "text": [
      "Each fold size: 14011\n",
      "0 0.7857397758903718\n",
      "1 0.7796017414888302\n",
      "2 0.7794589965027479\n",
      "3 0.78502605095996\n",
      "4 0.7785311540932125\n",
      "mean accuracy 0.7816715437870244\n"
     ]
    }
   ],
   "source": [
    "# perform the cross-validation on the featuresets with word features and generate accuracy\n",
    "num_folds = 5\n",
    "cross_validation_accuracy(num_folds, text_featuresets)"
   ]
  },
  {
   "cell_type": "markdown",
   "id": "8ba23b0e",
   "metadata": {},
   "source": [
    "<h3>Test 3 Confusion Matrix & Evaluation Metrics</h3>"
   ]
  },
  {
   "cell_type": "code",
   "execution_count": 63,
   "id": "cf02f443",
   "metadata": {
    "scrolled": true
   },
   "outputs": [
    {
     "name": "stdout",
     "output_type": "stream",
     "text": [
      "\n",
      "Confusion_Matrix----\n",
      "\n",
      "   |    1    0 |\n",
      "--+-----------+\n",
      "1 |<8992>1566 |\n",
      "0 | 3000<7459>|\n",
      "--+-----------+\n",
      "(row = reference; col = test)\n",
      "\n",
      "\n",
      "\n",
      "Evaluation_Metrics----\n",
      "\n",
      "\tPrecision\tRecall\t    F1\t Specificity\n",
      "0 \t      0.826      0.713      0.766      0.852\n",
      "1 \t      0.750      0.852      0.798      0.713\n"
     ]
    }
   ],
   "source": [
    "cm_eval_print(test_set)"
   ]
  },
  {
   "cell_type": "markdown",
   "id": "bb48fc1b",
   "metadata": {},
   "source": [
    "<h3>Test 3 Discussion: NB Classifier with Ungiram Features on Title + Text Combined</h3>\n",
    "<br>\n",
    "<body>Suprisingly, adding the additional text from the 'text' column to the dataset did not imporve accuracy. In fact, it significantly <b>reduced accuracy from 84 to 78%</b>. \n",
    "<br><br>\n",
    "Interestingly, <b>Most Informative Features</b> for the combined text included several characters that appear to be from a <b>Cryllic characterset</b> (e.g. 'и', 'на','в'), and these are all strongly associated with the <b>fakenews</b> category.\n",
    "<br><br>\n",
    "Looking at the evaulation metrics, we see that with the combined text and title, there is an inversion of the relationship between the postivie and negative labels that we have been seeing in the 'title only' dataset. Here, Precision and Specificity are higher for the positive label than for the negative label, indicating that we are getting more false positives. Correspondingly, we see that Recall for the positive label is also significantly higher, indicating a bias toward predicting the fake news label.\n",
    "<br><br>\n",
    "Because the additional data in the combined text both reduces accuracy and also signficantly slows processing down, we will be focusing on the title text only in the remaining experiments. Next we will look at adjusting vocabulary length.\n",
    "</body>"
   ]
  },
  {
   "cell_type": "markdown",
   "id": "555f60a7",
   "metadata": {},
   "source": [
    "<h1>TEST 4: Comparing Effects of Vocabulary Size on Unigram Featuresets</h1>"
   ]
  },
  {
   "cell_type": "code",
   "execution_count": 67,
   "id": "064530f3",
   "metadata": {},
   "outputs": [],
   "source": [
    "# LOAD THE PRE-PROCESSED DATASET IF NEEDED\n",
    "df = pd.read_csv('~/preprocessed_fakenews_df_canonical.csv', \n",
    "                 index_col=None, \n",
    "                 header=0,\n",
    "                 names=['title', 'text', 'label'])\n",
    "\n",
    "tuple_rows = list(df.itertuples(index=False, name=None))\n",
    "document_str = [(str(text[0]), text[2]) for text in tuple_rows]\n",
    "documents = [(text[0].split(\", \"), text[1]) for text in document_str]"
   ]
  },
  {
   "cell_type": "code",
   "execution_count": 68,
   "id": "66ebbe34",
   "metadata": {},
   "outputs": [],
   "source": [
    "all_words_list = [word for (title, cat) in documents for word in title]\n",
    "all_words = nltk.FreqDist(all_words_list)"
   ]
  },
  {
   "cell_type": "markdown",
   "id": "3ae2ea40",
   "metadata": {},
   "source": [
    "<h4>Use 10% vocab</h4>"
   ]
  },
  {
   "cell_type": "code",
   "execution_count": 69,
   "id": "7603745b",
   "metadata": {},
   "outputs": [],
   "source": [
    "word_items = all_words.most_common(round((len(all_words) * 0.10)))"
   ]
  },
  {
   "cell_type": "code",
   "execution_count": 70,
   "id": "c9620642",
   "metadata": {
    "scrolled": true
   },
   "outputs": [
    {
     "name": "stdout",
     "output_type": "stream",
     "text": [
      "Accuracy with a 10% vocab:0.8603035637817005\n",
      "\n",
      "Execution time: 123.79466509819031 seconds\n"
     ]
    }
   ],
   "source": [
    "start = time.time()\n",
    "\n",
    "title_features = [word for (word,count) in word_items]\n",
    "title_featuresets = [(unigram_features(title, title_features), cat) for (title, cat) in documents]\n",
    "train_set, test_set = title_featuresets[(round(.30 * len(title_featuresets))):], title_featuresets[:(round(.30 * len(title_featuresets)))]\n",
    "NBclassifier = nltk.NaiveBayesClassifier.train(train_set)\n",
    "accuracy = nltk.classify.accuracy(NBclassifier, test_set)\n",
    "print(f\"Accuracy with a 10% vocab:{accuracy}\")\n",
    "\n",
    "end = time.time()\n",
    "print(f\"\\nExecution time: {end - start} seconds\")"
   ]
  },
  {
   "cell_type": "code",
   "execution_count": 71,
   "id": "b27af4c4",
   "metadata": {},
   "outputs": [
    {
     "data": {
      "text/plain": [
       "2577"
      ]
     },
     "execution_count": 71,
     "metadata": {},
     "output_type": "execute_result"
    }
   ],
   "source": [
    "len(title_features)"
   ]
  },
  {
   "cell_type": "code",
   "execution_count": 74,
   "id": "b2fad4b8",
   "metadata": {},
   "outputs": [
    {
     "name": "stdout",
     "output_type": "stream",
     "text": [
      "Each fold size: 14011\n",
      "0 0.8622510884305189\n",
      "1 0.8603240311184069\n",
      "2 0.8578259938619656\n",
      "3 0.860752266076654\n",
      "4 0.8543287417029477\n",
      "mean accuracy 0.8590964242380986\n"
     ]
    }
   ],
   "source": [
    "# perform the cross-validation on the featuresets with word features and generate accuracy\n",
    "num_folds = 5\n",
    "cross_validation_accuracy(num_folds, title_featuresets)"
   ]
  },
  {
   "cell_type": "code",
   "execution_count": 72,
   "id": "06347111",
   "metadata": {},
   "outputs": [
    {
     "name": "stdout",
     "output_type": "stream",
     "text": [
      "\n",
      "Confusion_Matrix----\n",
      "\n",
      "   |    1    0 |\n",
      "--+-----------+\n",
      "1 |<8891>1667 |\n",
      "0 | 1269<9190>|\n",
      "--+-----------+\n",
      "(row = reference; col = test)\n",
      "\n",
      "\n",
      "\n",
      "Evaluation_Metrics----\n",
      "\n",
      "\tPrecision\tRecall\t    F1\t Specificity\n",
      "0 \t      0.846      0.879      0.862      0.842\n",
      "1 \t      0.875      0.842      0.858      0.879\n"
     ]
    }
   ],
   "source": [
    "cm_eval_print(test_set)"
   ]
  },
  {
   "cell_type": "markdown",
   "id": "d1f9546c",
   "metadata": {},
   "source": [
    "<h4>Using 20% vocab</h4>"
   ]
  },
  {
   "cell_type": "code",
   "execution_count": 78,
   "id": "3c256f12",
   "metadata": {},
   "outputs": [
    {
     "name": "stdout",
     "output_type": "stream",
     "text": [
      "actual vocab size: 5155\n"
     ]
    }
   ],
   "source": [
    "word_items = all_words.most_common(round((len(all_words) * 0.20)))\n",
    "print(f\"actual vocab size: {len(word_items)}\")"
   ]
  },
  {
   "cell_type": "code",
   "execution_count": 79,
   "id": "124644b8",
   "metadata": {
    "scrolled": true
   },
   "outputs": [
    {
     "name": "stdout",
     "output_type": "stream",
     "text": [
      "Accuracy with a 20% vocab:0.8693438644906504\n",
      "\n",
      "Execution time: 356.29472517967224 seconds\n"
     ]
    }
   ],
   "source": [
    "# Time execution\n",
    "start = time.time()\n",
    "\n",
    "title_features = [word for (word,count) in word_items]\n",
    "title_featuresets = [(unigram_features(text, title_features), cat) for (text, cat) in documents]\n",
    "train_set, test_set = title_featuresets[(round(.30 * len(title_featuresets))):], title_featuresets[:(round(.30 * len(title_featuresets)))]\n",
    "NBclassifier = nltk.NaiveBayesClassifier.train(train_set)\n",
    "accuracy = nltk.classify.accuracy(NBclassifier, test_set)\n",
    "print(f\"Accuracy with a 20% vocab:{accuracy}\")\n",
    "\n",
    "end = time.time()\n",
    "print(f\"\\nExecution time: {end - start} seconds\")"
   ]
  },
  {
   "cell_type": "code",
   "execution_count": 80,
   "id": "49531bf0",
   "metadata": {},
   "outputs": [
    {
     "name": "stdout",
     "output_type": "stream",
     "text": [
      "Each fold size: 14011\n",
      "0 0.8711726500606666\n",
      "1 0.8701020626650489\n",
      "2 0.8669616729712369\n",
      "3 0.8692455927485547\n",
      "4 0.8652487331382486\n",
      "mean accuracy 0.868546142316751\n"
     ]
    }
   ],
   "source": [
    "# perform the cross-validation on the featuresets with word features and generate accuracy\n",
    "num_folds = 5\n",
    "cross_validation_accuracy(num_folds, title_featuresets)"
   ]
  },
  {
   "cell_type": "code",
   "execution_count": 81,
   "id": "c299da29",
   "metadata": {},
   "outputs": [
    {
     "name": "stdout",
     "output_type": "stream",
     "text": [
      "\n",
      "Confusion_Matrix----\n",
      "\n",
      "   |    1    0 |\n",
      "--+-----------+\n",
      "1 |<8987>1571 |\n",
      "0 | 1175<9284>|\n",
      "--+-----------+\n",
      "(row = reference; col = test)\n",
      "\n",
      "\n",
      "\n",
      "Evaluation_Metrics----\n",
      "\n",
      "\tPrecision\tRecall\t    F1\t Specificity\n",
      "0 \t      0.855      0.888      0.871      0.851\n",
      "1 \t      0.884      0.851      0.867      0.888\n"
     ]
    }
   ],
   "source": [
    "cm_eval_print(test_set)"
   ]
  },
  {
   "cell_type": "markdown",
   "id": "de8177d5",
   "metadata": {},
   "source": [
    "<h4>Using 15% vocab</h4>"
   ]
  },
  {
   "cell_type": "code",
   "execution_count": 82,
   "id": "b7650758",
   "metadata": {},
   "outputs": [
    {
     "name": "stdout",
     "output_type": "stream",
     "text": [
      "actual vocab size: 3866\n"
     ]
    }
   ],
   "source": [
    "word_items = all_words.most_common(round((len(all_words) * 0.15)))\n",
    "\n",
    "print(f\"actual vocab size: {len(word_items)}\")"
   ]
  },
  {
   "cell_type": "code",
   "execution_count": 83,
   "id": "e1d1e85f",
   "metadata": {},
   "outputs": [
    {
     "name": "stdout",
     "output_type": "stream",
     "text": [
      "Accuracy with a 15% vocab:0.8660132273873531\n",
      "\n",
      "Execution time: 327.28680086135864 seconds\n"
     ]
    }
   ],
   "source": [
    "start = time.time()\n",
    "\n",
    "title_features = [word for (word,count) in word_items]\n",
    "title_featuresets = [(unigram_features(text, title_features), cat) for (text, cat) in documents]\n",
    "train_set, test_set = title_featuresets[(round(.30 * len(title_featuresets))):], title_featuresets[:(round(.30 * len(title_featuresets)))]\n",
    "NBclassifier = nltk.NaiveBayesClassifier.train(train_set)\n",
    "accuracy = nltk.classify.accuracy(NBclassifier, test_set)\n",
    "print(f\"Accuracy with a 15% vocab:{accuracy}\")\n",
    "\n",
    "end = time.time()\n",
    "print(f\"\\nExecution time: {end - start} seconds\")"
   ]
  },
  {
   "cell_type": "code",
   "execution_count": 85,
   "id": "4ecb64ca",
   "metadata": {},
   "outputs": [
    {
     "name": "stdout",
     "output_type": "stream",
     "text": [
      "Each fold size: 14011\n",
      "0 0.8677467703946898\n",
      "1 0.8661765755477839\n",
      "2 0.8626079508957248\n",
      "3 0.8663906930269074\n",
      "4 0.8624652059096424\n",
      "mean accuracy 0.8650774391549497\n"
     ]
    }
   ],
   "source": [
    "# perform the cross-validation on the featuresets with word features and generate accuracy\n",
    "num_folds = 5\n",
    "cross_validation_accuracy(num_folds, title_featuresets)"
   ]
  },
  {
   "cell_type": "code",
   "execution_count": 84,
   "id": "9f7f88c1",
   "metadata": {},
   "outputs": [
    {
     "name": "stdout",
     "output_type": "stream",
     "text": [
      "\n",
      "Confusion_Matrix----\n",
      "\n",
      "   |    1    0 |\n",
      "--+-----------+\n",
      "1 |<8968>1590 |\n",
      "0 | 1226<9233>|\n",
      "--+-----------+\n",
      "(row = reference; col = test)\n",
      "\n",
      "\n",
      "\n",
      "Evaluation_Metrics----\n",
      "\n",
      "\tPrecision\tRecall\t    F1\t Specificity\n",
      "0 \t      0.853      0.883      0.868      0.849\n",
      "1 \t      0.880      0.849      0.864      0.883\n"
     ]
    }
   ],
   "source": [
    "cm_eval_print(test_set)"
   ]
  },
  {
   "cell_type": "markdown",
   "id": "0f935495",
   "metadata": {},
   "source": [
    "<h3>Test 4 Disucssion: Vocabulary Size</h3>\n",
    "<br>\n",
    "<body>\n",
    "    Systematically testing different <b>vocabulary sizes</b> for the featurests \n",
    "as a percentage of the normalized set of words in the pre-processed \n",
    "text gave improvements in accuracy as the size increased, <b>improving accuracy from 84% to 86.9%</b>.\n",
    "<br><br> \n",
    "However, there were diminishing returns even as execution time increased significantly, coming to around 6 minutes for the 20% vocab size.\n",
    "<br><br>\n",
    "Going forward, the <b>15% (word count: 3866) vocabulary with 86.6% accuracy for unigram features</b> is a reasonable compromise.\n",
    "   \n",
    "</body>"
   ]
  },
  {
   "cell_type": "markdown",
   "id": "84daf68f",
   "metadata": {},
   "source": [
    "<h1>Test 4: Baseline Cross Validation and P/R/F1 for Unigram Features</h1>"
   ]
  },
  {
   "cell_type": "code",
   "execution_count": 14,
   "id": "093562db",
   "metadata": {
    "scrolled": false
   },
   "outputs": [
    {
     "name": "stdout",
     "output_type": "stream",
     "text": [
      "Each fold size: 14011\n",
      "0 0.8677467703946898\n",
      "1 0.8661765755477839\n",
      "2 0.8626079508957248\n",
      "3 0.8663906930269074\n",
      "4 0.8624652059096424\n",
      "mean accuracy 0.8650774391549497\n"
     ]
    }
   ],
   "source": [
    "# perform the cross-validation on the featuresets with word features and generate accuracy\n",
    "num_folds = 5\n",
    "cross_validation_accuracy(num_folds, title_featuresets)"
   ]
  },
  {
   "cell_type": "code",
   "execution_count": 86,
   "id": "4addae56",
   "metadata": {},
   "outputs": [
    {
     "name": "stdout",
     "output_type": "stream",
     "text": [
      "\n",
      "Confusion_Matrix----\n",
      "\n",
      "   |    1    0 |\n",
      "--+-----------+\n",
      "1 |<8968>1590 |\n",
      "0 | 1226<9233>|\n",
      "--+-----------+\n",
      "(row = reference; col = test)\n",
      "\n",
      "\n",
      "\n",
      "Evaluation_Metrics----\n",
      "\n",
      "\tPrecision\tRecall\t    F1\t Specificity\n",
      "0 \t      0.853      0.883      0.868      0.849\n",
      "1 \t      0.880      0.849      0.864      0.883\n"
     ]
    }
   ],
   "source": [
    "cm_eval_print(test_set)"
   ]
  },
  {
   "cell_type": "markdown",
   "id": "5f6dc228",
   "metadata": {},
   "source": [
    "<h3>Test 4 Discussion: Cross Validation and Precision / Recall / F1 Baseline for a Unigram Featureset</h3>\n",
    "<br>\n",
    "<body> Using the 15% vocab unigram featureset, we performed cross validation and got a <b>Mean Accuracy of 86.5%</b>\n",
    "<br><br>\n",
    "<b>Precision/Recall/F1</b> scores were in the <b>85-88% range</b> with higher Precision \n",
    "on real news items and better Recall on fakenews items.\n",
    "<br><br>\n",
    "Next, we will export the unigram features for future use and will experiment with <b>additional n-gram features</b>.\n",
    "</body>"
   ]
  },
  {
   "cell_type": "markdown",
   "id": "a34e4369",
   "metadata": {},
   "source": [
    "<h3>Export Unigram Features to CSV for Future Use</h3>"
   ]
  },
  {
   "cell_type": "code",
   "execution_count": null,
   "id": "afcf22ae",
   "metadata": {},
   "outputs": [],
   "source": [
    "unigram_featureset_df = pd.DataFrame(title_featuresets, columns=['features', 'label'])"
   ]
  },
  {
   "cell_type": "code",
   "execution_count": 23,
   "id": "100a0c6e",
   "metadata": {},
   "outputs": [],
   "source": [
    "unigram_features_df = pd.DataFrame(unigram_featureset_df['features'].tolist())"
   ]
  },
  {
   "cell_type": "code",
   "execution_count": 24,
   "id": "2f8a9d1a",
   "metadata": {},
   "outputs": [
    {
     "data": {
      "text/html": [
       "<div>\n",
       "<style scoped>\n",
       "    .dataframe tbody tr th:only-of-type {\n",
       "        vertical-align: middle;\n",
       "    }\n",
       "\n",
       "    .dataframe tbody tr th {\n",
       "        vertical-align: top;\n",
       "    }\n",
       "\n",
       "    .dataframe thead th {\n",
       "        text-align: right;\n",
       "    }\n",
       "</style>\n",
       "<table border=\"1\" class=\"dataframe\">\n",
       "  <thead>\n",
       "    <tr style=\"text-align: right;\">\n",
       "      <th></th>\n",
       "      <th>V_trump</th>\n",
       "      <th>V_new</th>\n",
       "      <th>V_video</th>\n",
       "      <th>V_time</th>\n",
       "      <th>V_york</th>\n",
       "      <th>V_us</th>\n",
       "      <th>V_say</th>\n",
       "      <th>V_!</th>\n",
       "      <th>V_hillari</th>\n",
       "      <th>V_obama</th>\n",
       "      <th>...</th>\n",
       "      <th>V_belief</th>\n",
       "      <th>V_disarm</th>\n",
       "      <th>V_pant</th>\n",
       "      <th>V_madonna</th>\n",
       "      <th>V_onto</th>\n",
       "      <th>V_guatemala</th>\n",
       "      <th>V_clerk</th>\n",
       "      <th>V_trader</th>\n",
       "      <th>V_paus</th>\n",
       "      <th>V_unknown</th>\n",
       "    </tr>\n",
       "  </thead>\n",
       "  <tbody>\n",
       "    <tr>\n",
       "      <th>0</th>\n",
       "      <td>False</td>\n",
       "      <td>False</td>\n",
       "      <td>False</td>\n",
       "      <td>False</td>\n",
       "      <td>False</td>\n",
       "      <td>False</td>\n",
       "      <td>False</td>\n",
       "      <td>False</td>\n",
       "      <td>False</td>\n",
       "      <td>False</td>\n",
       "      <td>...</td>\n",
       "      <td>False</td>\n",
       "      <td>False</td>\n",
       "      <td>False</td>\n",
       "      <td>False</td>\n",
       "      <td>False</td>\n",
       "      <td>False</td>\n",
       "      <td>False</td>\n",
       "      <td>False</td>\n",
       "      <td>False</td>\n",
       "      <td>False</td>\n",
       "    </tr>\n",
       "    <tr>\n",
       "      <th>1</th>\n",
       "      <td>False</td>\n",
       "      <td>False</td>\n",
       "      <td>False</td>\n",
       "      <td>False</td>\n",
       "      <td>False</td>\n",
       "      <td>False</td>\n",
       "      <td>False</td>\n",
       "      <td>False</td>\n",
       "      <td>False</td>\n",
       "      <td>False</td>\n",
       "      <td>...</td>\n",
       "      <td>False</td>\n",
       "      <td>False</td>\n",
       "      <td>False</td>\n",
       "      <td>False</td>\n",
       "      <td>False</td>\n",
       "      <td>False</td>\n",
       "      <td>False</td>\n",
       "      <td>False</td>\n",
       "      <td>False</td>\n",
       "      <td>False</td>\n",
       "    </tr>\n",
       "    <tr>\n",
       "      <th>2</th>\n",
       "      <td>False</td>\n",
       "      <td>False</td>\n",
       "      <td>False</td>\n",
       "      <td>False</td>\n",
       "      <td>False</td>\n",
       "      <td>False</td>\n",
       "      <td>False</td>\n",
       "      <td>False</td>\n",
       "      <td>False</td>\n",
       "      <td>False</td>\n",
       "      <td>...</td>\n",
       "      <td>False</td>\n",
       "      <td>False</td>\n",
       "      <td>False</td>\n",
       "      <td>False</td>\n",
       "      <td>False</td>\n",
       "      <td>False</td>\n",
       "      <td>False</td>\n",
       "      <td>False</td>\n",
       "      <td>False</td>\n",
       "      <td>False</td>\n",
       "    </tr>\n",
       "    <tr>\n",
       "      <th>3</th>\n",
       "      <td>False</td>\n",
       "      <td>True</td>\n",
       "      <td>False</td>\n",
       "      <td>False</td>\n",
       "      <td>False</td>\n",
       "      <td>False</td>\n",
       "      <td>False</td>\n",
       "      <td>False</td>\n",
       "      <td>False</td>\n",
       "      <td>False</td>\n",
       "      <td>...</td>\n",
       "      <td>False</td>\n",
       "      <td>False</td>\n",
       "      <td>False</td>\n",
       "      <td>False</td>\n",
       "      <td>False</td>\n",
       "      <td>False</td>\n",
       "      <td>False</td>\n",
       "      <td>False</td>\n",
       "      <td>False</td>\n",
       "      <td>False</td>\n",
       "    </tr>\n",
       "    <tr>\n",
       "      <th>4</th>\n",
       "      <td>False</td>\n",
       "      <td>False</td>\n",
       "      <td>False</td>\n",
       "      <td>False</td>\n",
       "      <td>False</td>\n",
       "      <td>False</td>\n",
       "      <td>False</td>\n",
       "      <td>False</td>\n",
       "      <td>False</td>\n",
       "      <td>False</td>\n",
       "      <td>...</td>\n",
       "      <td>False</td>\n",
       "      <td>False</td>\n",
       "      <td>False</td>\n",
       "      <td>False</td>\n",
       "      <td>False</td>\n",
       "      <td>False</td>\n",
       "      <td>False</td>\n",
       "      <td>False</td>\n",
       "      <td>False</td>\n",
       "      <td>False</td>\n",
       "    </tr>\n",
       "    <tr>\n",
       "      <th>...</th>\n",
       "      <td>...</td>\n",
       "      <td>...</td>\n",
       "      <td>...</td>\n",
       "      <td>...</td>\n",
       "      <td>...</td>\n",
       "      <td>...</td>\n",
       "      <td>...</td>\n",
       "      <td>...</td>\n",
       "      <td>...</td>\n",
       "      <td>...</td>\n",
       "      <td>...</td>\n",
       "      <td>...</td>\n",
       "      <td>...</td>\n",
       "      <td>...</td>\n",
       "      <td>...</td>\n",
       "      <td>...</td>\n",
       "      <td>...</td>\n",
       "      <td>...</td>\n",
       "      <td>...</td>\n",
       "      <td>...</td>\n",
       "      <td>...</td>\n",
       "    </tr>\n",
       "    <tr>\n",
       "      <th>70051</th>\n",
       "      <td>True</td>\n",
       "      <td>False</td>\n",
       "      <td>False</td>\n",
       "      <td>False</td>\n",
       "      <td>False</td>\n",
       "      <td>False</td>\n",
       "      <td>False</td>\n",
       "      <td>False</td>\n",
       "      <td>False</td>\n",
       "      <td>False</td>\n",
       "      <td>...</td>\n",
       "      <td>False</td>\n",
       "      <td>False</td>\n",
       "      <td>False</td>\n",
       "      <td>False</td>\n",
       "      <td>False</td>\n",
       "      <td>False</td>\n",
       "      <td>False</td>\n",
       "      <td>False</td>\n",
       "      <td>False</td>\n",
       "      <td>False</td>\n",
       "    </tr>\n",
       "    <tr>\n",
       "      <th>70052</th>\n",
       "      <td>False</td>\n",
       "      <td>False</td>\n",
       "      <td>False</td>\n",
       "      <td>False</td>\n",
       "      <td>False</td>\n",
       "      <td>False</td>\n",
       "      <td>False</td>\n",
       "      <td>False</td>\n",
       "      <td>False</td>\n",
       "      <td>False</td>\n",
       "      <td>...</td>\n",
       "      <td>False</td>\n",
       "      <td>False</td>\n",
       "      <td>False</td>\n",
       "      <td>False</td>\n",
       "      <td>False</td>\n",
       "      <td>False</td>\n",
       "      <td>False</td>\n",
       "      <td>False</td>\n",
       "      <td>False</td>\n",
       "      <td>False</td>\n",
       "    </tr>\n",
       "    <tr>\n",
       "      <th>70053</th>\n",
       "      <td>False</td>\n",
       "      <td>False</td>\n",
       "      <td>True</td>\n",
       "      <td>True</td>\n",
       "      <td>False</td>\n",
       "      <td>False</td>\n",
       "      <td>False</td>\n",
       "      <td>True</td>\n",
       "      <td>False</td>\n",
       "      <td>False</td>\n",
       "      <td>...</td>\n",
       "      <td>False</td>\n",
       "      <td>False</td>\n",
       "      <td>False</td>\n",
       "      <td>False</td>\n",
       "      <td>False</td>\n",
       "      <td>False</td>\n",
       "      <td>False</td>\n",
       "      <td>False</td>\n",
       "      <td>False</td>\n",
       "      <td>False</td>\n",
       "    </tr>\n",
       "    <tr>\n",
       "      <th>70054</th>\n",
       "      <td>False</td>\n",
       "      <td>False</td>\n",
       "      <td>False</td>\n",
       "      <td>False</td>\n",
       "      <td>False</td>\n",
       "      <td>False</td>\n",
       "      <td>False</td>\n",
       "      <td>False</td>\n",
       "      <td>False</td>\n",
       "      <td>False</td>\n",
       "      <td>...</td>\n",
       "      <td>False</td>\n",
       "      <td>False</td>\n",
       "      <td>False</td>\n",
       "      <td>False</td>\n",
       "      <td>False</td>\n",
       "      <td>False</td>\n",
       "      <td>False</td>\n",
       "      <td>False</td>\n",
       "      <td>False</td>\n",
       "      <td>False</td>\n",
       "    </tr>\n",
       "    <tr>\n",
       "      <th>70055</th>\n",
       "      <td>True</td>\n",
       "      <td>False</td>\n",
       "      <td>False</td>\n",
       "      <td>False</td>\n",
       "      <td>False</td>\n",
       "      <td>False</td>\n",
       "      <td>False</td>\n",
       "      <td>True</td>\n",
       "      <td>False</td>\n",
       "      <td>False</td>\n",
       "      <td>...</td>\n",
       "      <td>False</td>\n",
       "      <td>False</td>\n",
       "      <td>False</td>\n",
       "      <td>False</td>\n",
       "      <td>False</td>\n",
       "      <td>False</td>\n",
       "      <td>False</td>\n",
       "      <td>False</td>\n",
       "      <td>False</td>\n",
       "      <td>False</td>\n",
       "    </tr>\n",
       "  </tbody>\n",
       "</table>\n",
       "<p>70056 rows × 3866 columns</p>\n",
       "</div>"
      ],
      "text/plain": [
       "       V_trump  V_new  V_video  V_time  V_york   V_us  V_say    V_!  \\\n",
       "0        False  False    False   False   False  False  False  False   \n",
       "1        False  False    False   False   False  False  False  False   \n",
       "2        False  False    False   False   False  False  False  False   \n",
       "3        False   True    False   False   False  False  False  False   \n",
       "4        False  False    False   False   False  False  False  False   \n",
       "...        ...    ...      ...     ...     ...    ...    ...    ...   \n",
       "70051     True  False    False   False   False  False  False  False   \n",
       "70052    False  False    False   False   False  False  False  False   \n",
       "70053    False  False     True    True   False  False  False   True   \n",
       "70054    False  False    False   False   False  False  False  False   \n",
       "70055     True  False    False   False   False  False  False   True   \n",
       "\n",
       "       V_hillari  V_obama  ...  V_belief  V_disarm  V_pant  V_madonna  V_onto  \\\n",
       "0          False    False  ...     False     False   False      False   False   \n",
       "1          False    False  ...     False     False   False      False   False   \n",
       "2          False    False  ...     False     False   False      False   False   \n",
       "3          False    False  ...     False     False   False      False   False   \n",
       "4          False    False  ...     False     False   False      False   False   \n",
       "...          ...      ...  ...       ...       ...     ...        ...     ...   \n",
       "70051      False    False  ...     False     False   False      False   False   \n",
       "70052      False    False  ...     False     False   False      False   False   \n",
       "70053      False    False  ...     False     False   False      False   False   \n",
       "70054      False    False  ...     False     False   False      False   False   \n",
       "70055      False    False  ...     False     False   False      False   False   \n",
       "\n",
       "       V_guatemala  V_clerk  V_trader  V_paus  V_unknown  \n",
       "0            False    False     False   False      False  \n",
       "1            False    False     False   False      False  \n",
       "2            False    False     False   False      False  \n",
       "3            False    False     False   False      False  \n",
       "4            False    False     False   False      False  \n",
       "...            ...      ...       ...     ...        ...  \n",
       "70051        False    False     False   False      False  \n",
       "70052        False    False     False   False      False  \n",
       "70053        False    False     False   False      False  \n",
       "70054        False    False     False   False      False  \n",
       "70055        False    False     False   False      False  \n",
       "\n",
       "[70056 rows x 3866 columns]"
      ]
     },
     "execution_count": 24,
     "metadata": {},
     "output_type": "execute_result"
    }
   ],
   "source": [
    "unigram_features_df"
   ]
  },
  {
   "cell_type": "code",
   "execution_count": 25,
   "id": "f08ccd9a",
   "metadata": {},
   "outputs": [],
   "source": [
    "df_csv = pd.concat([unigram_features_df, unigram_featureset_df ['label']], axis=1)"
   ]
  },
  {
   "cell_type": "code",
   "execution_count": 26,
   "id": "b9fab61e",
   "metadata": {},
   "outputs": [],
   "source": [
    "df_csv.to_csv('~/title_unigram_features_fakenews_df_canonical.csv', index=False)"
   ]
  },
  {
   "cell_type": "markdown",
   "id": "e0a00a1d",
   "metadata": {},
   "source": [
    "<h1>TEST 5: Combining Unigram and Bigram Features for the Title-Only Dataset</h1>"
   ]
  },
  {
   "cell_type": "code",
   "execution_count": 39,
   "id": "342b3782",
   "metadata": {},
   "outputs": [],
   "source": [
    "def bigram_document_features(document, word_features, bigram_features): \n",
    "    document_words = set(document) \n",
    "    document_bigrams = nltk.bigrams(document) \n",
    "    features = {}\n",
    "    for word in word_features:\n",
    "        features[f\"W_{word}\"] = (word in document_words)\n",
    "    for bigram in bigram_features:\n",
    "        features[f\"B_{bigram[0]}_{bigram[1]}\"] = (bigram in document_bigrams)\n",
    "    return features"
   ]
  },
  {
   "cell_type": "code",
   "execution_count": 28,
   "id": "04a6d965",
   "metadata": {},
   "outputs": [],
   "source": [
    "bigram_measures = nltk.collocations.BigramAssocMeasures()\n",
    "finder = BigramCollocationFinder.from_words(all_words_list)"
   ]
  },
  {
   "cell_type": "code",
   "execution_count": 44,
   "id": "4502e312",
   "metadata": {},
   "outputs": [],
   "source": [
    "finder.apply_word_filter(lambda w: len(w) < 2 or w.isalpha() is False)\n",
    "finder.apply_freq_filter(50)\n",
    "bigram_pmi_scored = finder.score_ngrams(bigram_measures.pmi)"
   ]
  },
  {
   "cell_type": "code",
   "execution_count": 45,
   "id": "c72fd874",
   "metadata": {},
   "outputs": [],
   "source": [
    "bigram_features_pmi = [(bigram[0:2]) for (bigram, frequency) in bigram_pmi_scored]"
   ]
  },
  {
   "cell_type": "code",
   "execution_count": 92,
   "id": "c6fa2c88",
   "metadata": {},
   "outputs": [
    {
     "name": "stdout",
     "output_type": "stream",
     "text": [
      "123\n",
      "[(('kellyann', 'conway'), 12.024244809567056), (('elizabeth', 'warren'), 11.67746030850408), (('ben', 'carson'), 11.657714679585153), (('puerto', 'rico'), 11.509450550496737), (('megyn', 'kelli'), 11.40868029774349), (('sean', 'spicer'), 11.2838263047642), (('boiler', 'room'), 11.034661425512395), (('saudi', 'arabia'), 10.306262094520516), (('room', 'ep'), 10.303478183940197), (('mike', 'penc'), 10.223732904311289), (('attorney', 'general'), 10.165917382142133), (('ted', 'cruz'), 9.977197628675324), (('prime', 'minist'), 9.882715930432095), (('sexual', 'assault'), 9.752825140046657), (('paul', 'ryan'), 9.515810764823435), (('illeg', 'alien'), 9.51235500544487), (('berni', 'sander'), 9.478932288702826), (('health', 'care'), 9.302446345320355), (('even', 'brief'), 9.291016682970678), (('live', 'matter'), 9.26025692525608), (('wall', 'street'), 9.023600004453623), (('suprem', 'court'), 8.95928182558021), (('america', 'finest'), 8.944092473450603), (('onion', 'america'), 8.879386784062788), (('plan', 'parenthood'), 8.873079313417595), (('climat', 'chang'), 8.814531220725353), (('travel', 'ban'), 8.76036117141862), (('north', 'korea'), 8.753905762140626), (('finest', 'news'), 8.604297957769727), (('north', 'carolina'), 8.535969878279218)]\n"
     ]
    }
   ],
   "source": [
    "print(len(bigram_features_pmi))\n",
    "print(bigram_pmi_scored[:30])"
   ]
  },
  {
   "cell_type": "code",
   "execution_count": 40,
   "id": "b26410e6",
   "metadata": {},
   "outputs": [],
   "source": [
    "bigram_featuresets = [(bigram_document_features(title, title_features, bigram_features_pmi), label) for (title, label) in documents]"
   ]
  },
  {
   "cell_type": "code",
   "execution_count": 42,
   "id": "fe4fd5a8",
   "metadata": {},
   "outputs": [
    {
     "name": "stdout",
     "output_type": "stream",
     "text": [
      "Stored 'pmi_bigram_featuresets' (list)\n"
     ]
    }
   ],
   "source": [
    "## Storing bigram featureset var in case kernel crashes\n",
    "# pmi_bigram_featuresets = bigram_featuresets\n",
    "# %store pmi_bigram_featuresets"
   ]
  },
  {
   "cell_type": "code",
   "execution_count": 54,
   "id": "bb18a9f9",
   "metadata": {},
   "outputs": [],
   "source": [
    "# Exporting the combined unigram-bigram featureset to a CSV for future use\n",
    "bigram_featureset_df = pd.DataFrame(bigram_featuresets, columns=['features', 'label'])\n",
    "bigram_features_df = pd.DataFrame(bigram_featureset_df['features'].tolist())\n",
    "bigram_df_csv = pd.concat([bigram_features_df, bigram_featureset_df ['label']], axis=1)\n",
    "bigram_df_csv.to_csv('~/title_bigram_features_fakenews_df_canonical.csv', index=False)"
   ]
  },
  {
   "cell_type": "code",
   "execution_count": 89,
   "id": "30153946",
   "metadata": {},
   "outputs": [],
   "source": [
    "# LOAD THE DATASET IF NEEDED\n",
    "df = pd.read_csv('~/title_bigram_features_fakenews_df_canonical.csv')\n",
    "\n",
    "bigram_featuresets = [(dict(row.drop('label').items()), row['label']) for index, row in df.iterrows()]"
   ]
  },
  {
   "cell_type": "code",
   "execution_count": null,
   "id": "7ab9b781",
   "metadata": {},
   "outputs": [],
   "source": [
    "train_set, test_set = bigram_featuresets[(round(.30 * len(bigram_featuresets))):], bigram_featuresets[:(round(.30 * len(bigram_featuresets)))]\n",
    "\n",
    "NBclassifier = nltk.NaiveBayesClassifier.train(train_set)\n",
    "accuracy = nltk.classify.accuracy(NBclassifier, test_set)"
   ]
  },
  {
   "cell_type": "code",
   "execution_count": 104,
   "id": "93f8fa27",
   "metadata": {},
   "outputs": [
    {
     "name": "stdout",
     "output_type": "stream",
     "text": [
      "0.8660132273873531\n"
     ]
    }
   ],
   "source": [
    "print(accuracy)"
   ]
  },
  {
   "cell_type": "code",
   "execution_count": 107,
   "id": "25b38552",
   "metadata": {},
   "outputs": [
    {
     "name": "stdout",
     "output_type": "stream",
     "text": [
      "Most Informative Features\n",
      "                W_hilari = True                1 : 0      =    187.1 : 1.0\n",
      "                   W_wow = True                1 : 0      =    162.3 : 1.0\n",
      "               W_myanmar = True                0 : 1      =    141.1 : 1.0\n",
      "                     W_… = True                1 : 0      =     95.7 : 1.0\n",
      "                W_awesom = True                1 : 0      =     64.6 : 1.0\n",
      "                 W_bundi = True                1 : 0      =     57.2 : 1.0\n",
      "                     W_! = True                1 : 0      =     56.9 : 1.0\n",
      "                 W_crook = True                1 : 0      =     53.9 : 1.0\n",
      "                  W_york = True                0 : 1      =     50.5 : 1.0\n",
      "               W_zimbabw = True                0 : 1      =     50.4 : 1.0\n",
      "             W_brilliant = True                1 : 0      =     49.6 : 1.0\n",
      "                 W_onion = True                1 : 0      =     49.2 : 1.0\n",
      "                W_finest = True                1 : 0      =     47.2 : 1.0\n",
      "                   W_oop = True                1 : 0      =     47.2 : 1.0\n",
      "               W_disgust = True                1 : 0      =     46.8 : 1.0\n",
      "             W_breitbart = True                0 : 1      =     45.3 : 1.0\n",
      "              W_bombshel = True                1 : 0      =     45.2 : 1.0\n",
      "                 W_mugab = True                0 : 1      =     44.8 : 1.0\n",
      "                 W_video = True                1 : 0      =     38.8 : 1.0\n",
      "                     W_– = True                1 : 0      =     37.6 : 1.0\n",
      "                W_reuter = True                0 : 1      =     36.2 : 1.0\n",
      "                W_antifa = True                1 : 0      =     35.8 : 1.0\n",
      "                   W_beg = True                1 : 0      =     33.8 : 1.0\n",
      "               W_mnuchin = True                0 : 1      =     33.5 : 1.0\n",
      "                  W_epic = True                1 : 0      =     32.8 : 1.0\n"
     ]
    }
   ],
   "source": [
    "classifier.show_most_informative_features(25)"
   ]
  },
  {
   "cell_type": "code",
   "execution_count": 106,
   "id": "8bd2baf2",
   "metadata": {},
   "outputs": [
    {
     "name": "stdout",
     "output_type": "stream",
     "text": [
      "Each fold size: 14011\n",
      "0 0.8677467703946898\n",
      "1 0.8661765755477839\n",
      "2 0.862679323388766\n",
      "3 0.8663193205338663\n",
      "4 0.8623938334166013\n",
      "mean accuracy 0.8650631646563415\n"
     ]
    }
   ],
   "source": [
    "# perform the cross-validation on the featuresets with word features and generate mean accuracy\n",
    "num_folds = 5\n",
    "cross_validation_accuracy(num_folds, bigram_featuresets)"
   ]
  },
  {
   "cell_type": "code",
   "execution_count": 103,
   "id": "c4391995",
   "metadata": {
    "scrolled": true
   },
   "outputs": [
    {
     "name": "stdout",
     "output_type": "stream",
     "text": [
      "\n",
      "Confusion_Matrix----\n",
      "\n",
      "   |    1    0 |\n",
      "--+-----------+\n",
      "1 |<8965>1593 |\n",
      "0 | 1223<9236>|\n",
      "--+-----------+\n",
      "(row = reference; col = test)\n",
      "\n",
      "\n",
      "\n",
      "Evaluation_Metrics----\n",
      "\n",
      "\tPrecision\tRecall\t    F1\t Specificity\n",
      "0 \t      0.853      0.883      0.868      0.849\n",
      "1 \t      0.880      0.849      0.864      0.883\n"
     ]
    }
   ],
   "source": [
    "cm_eval_print(test_set)"
   ]
  },
  {
   "cell_type": "markdown",
   "id": "49455112",
   "metadata": {},
   "source": [
    "<h3>Test 5 Discussion: Unigram + Bigram Features</h3>\n",
    "<br>\n",
    "<body>\n",
    "<b>Bigram features</b> were extracted with a filter applied to limit bigrams \n",
    "to alphabetic tokens with a length longer than two characters and a minimum frequency of 50 in the corpus. \n",
    "Bigrams were scored using PMI, but because the applied filters already yielded only 123 new bigram features, all of the bigrams were used, regardless of score.\n",
    "<br><br>\n",
    "Looking at the bigrams that we were able to extract from the dataset, we see that it is dominated by proper nouns\n",
    "--person and place names (e.g. Kellyann Conway, Puerto Rico).\n",
    "But there are also several that related to issues that relate directly to potentially \n",
    "politically divisive issues that might be predictive of real or fake news (e.g. 'planned parenthood', 'climate change', 'travel ban'). \n",
    "<br><br>\n",
    "Despite this, <b>adding bigram features did not ressult in an increase in accuracy over unigram features alone.</b>\n",
    "The reason for this becomes clear when looking at the <b>Most Informative Features</b>. \n",
    "Nearly all bigram features are at the very bottom of the list and have a probability ratio of 1.0:1.0.\n",
    "<br><br>\n",
    "<b>Because using a combined bigram/unigram featureset score did not improve accuracy, we did not use it in subsequent models.</b>\n",
    "</body>"
   ]
  },
  {
   "cell_type": "markdown",
   "id": "a3fd809a",
   "metadata": {},
   "source": [
    "<h1>TEST 6: Combining Title Unigram Features with Text Bigram Features</h1>"
   ]
  },
  {
   "cell_type": "code",
   "execution_count": 8,
   "id": "338bb379",
   "metadata": {},
   "outputs": [],
   "source": [
    "# LOAD THE PRE-PROCESSED DATASET IF NEEDED\n",
    "df_text = pd.read_csv('~/preprocessed_fakenews_df_canonical.csv', \n",
    "                 index_col=None, \n",
    "                 header=0,\n",
    "                 names=['title', 'text', 'label'])"
   ]
  },
  {
   "cell_type": "code",
   "execution_count": 9,
   "id": "c5bdf08d",
   "metadata": {},
   "outputs": [],
   "source": [
    "# make a tuple of 'text' text, label for each row in the df\n",
    "tuple_rows = list(df_text.itertuples(index=False, name=None))"
   ]
  },
  {
   "cell_type": "code",
   "execution_count": 10,
   "id": "4823ee28",
   "metadata": {},
   "outputs": [],
   "source": [
    "document_str = [(str(i[1]), i[2]) for i in tuple_rows]\n",
    "documents = [(i[0].split(\", \"), i[1]) for i in document_str]"
   ]
  },
  {
   "cell_type": "code",
   "execution_count": 11,
   "id": "49d46052",
   "metadata": {},
   "outputs": [],
   "source": [
    "all_words_list = [word for (text, cat) in documents for word in text]"
   ]
  },
  {
   "cell_type": "code",
   "execution_count": 12,
   "id": "97dc6a3b",
   "metadata": {},
   "outputs": [],
   "source": [
    "bigram_measures = nltk.collocations.BigramAssocMeasures()\n",
    "finder = BigramCollocationFinder.from_words(all_words_list)"
   ]
  },
  {
   "cell_type": "code",
   "execution_count": 13,
   "id": "8bd1587e",
   "metadata": {},
   "outputs": [],
   "source": [
    "finder.apply_word_filter(lambda w: len(w) < 2 or w.isalpha() is False)\n",
    "finder.apply_freq_filter(500)\n",
    "bigram_pmi_scored = finder.score_ngrams(bigram_measures.pmi)"
   ]
  },
  {
   "cell_type": "code",
   "execution_count": 14,
   "id": "46dd0da1",
   "metadata": {},
   "outputs": [],
   "source": [
    "bigram_features_pmi = [(bigram[0:2]) for (bigram, frequency) in bigram_pmi_scored]"
   ]
  },
  {
   "cell_type": "code",
   "execution_count": 53,
   "id": "932d3900",
   "metadata": {},
   "outputs": [
    {
     "name": "stdout",
     "output_type": "stream",
     "text": [
      "1252\n",
      "[(('suu', 'kyi'), 15.184964546248196), (('hong', 'kong'), 14.362837007830269), (('shi', 'ite'), 14.144952002661626), (('bashar', 'alassad'), 14.034796390238103), (('silicon', 'valley'), 13.868011069448645), (('reinc', 'priebus'), 13.772902630077997), (('antonin', 'scalia'), 13.736691233340679), (('goldman', 'sach'), 13.72170144621688), (('lindsey', 'graham'), 13.538906023049897), (('kellyann', 'conway'), 13.490162402182875), (('emmanuel', 'macron'), 13.45574856202326), (('asylum', 'seeker'), 13.454465995624247), (('las', 'vega'), 13.437025695365268), (('chancellor', 'angela'), 13.427613012991703), (('nanci', 'pelosi'), 13.376580593519066), (('puerto', 'rico'), 13.33823133934973), (('julian', 'assang'), 13.326875166123205), (('xi', 'jinp'), 13.319535893650087), (('tayyip', 'erdogan'), 13.304951220853933), (('loretta', 'lynch'), 13.141165119993829), (('kim', 'jong'), 13.0006598466225), (('huma', 'abedin'), 12.992188087481754), (('palm', 'beach'), 12.896832257968185), (('jare', 'kushner'), 12.894483031984766), (('ronald', 'reagan'), 12.86962994455262), (('benjamin', 'netanyahu'), 12.850295460501926), (('mitch', 'mcconnel'), 12.825497322977593), (('mitt', 'romney'), 12.772406034539753), (('tim', 'kain'), 12.758743770527566), (('angela', 'merkel'), 12.667713084744314), (('ethnic', 'cleans'), 12.651746359423317), (('super', 'pac'), 12.609695552310807), (('chuck', 'schumer'), 12.564520316702989), (('rex', 'tillerson'), 12.495627652954802), (('pope', 'franci'), 12.448423346599423), (('st', 'loui'), 12.436331008828656), (('le', 'pen'), 12.429335985729995), (('fossil', 'fuel'), 12.42497384132934), (('nofli', 'zone'), 12.399606594692813), (('anthoni', 'weiner'), 12.363482510089735), (('elizabeth', 'warren'), 12.357589854017906), (('megyn', 'kelli'), 12.308680202321153), (('status', 'quo'), 12.28430360528358), (('los', 'angel'), 12.243631748739752), (('san', 'bernardino'), 12.216015031106831), (('sean', 'hanniti'), 12.150324713036856), (('samesex', 'marriag'), 12.128392993885804), (('san', 'diego'), 12.12402004260596), (('san', 'francisco'), 12.095994995654515), (('plead', 'guilti'), 12.088295364871747)]\n"
     ]
    }
   ],
   "source": [
    "print(len(bigram_features_pmi))\n",
    "print(bigram_pmi_scored[:50])"
   ]
  },
  {
   "cell_type": "code",
   "execution_count": 16,
   "id": "75f041fe",
   "metadata": {},
   "outputs": [],
   "source": [
    "def bigram_only_features(document, bigram_features): \n",
    "    document_bigrams = nltk.bigrams(document) \n",
    "    features = {}\n",
    "    for bigram in bigram_features:\n",
    "        features[f\"B_{bigram[0]}_{bigram[1]}\"] = (bigram in document_bigrams)\n",
    "    return features"
   ]
  },
  {
   "cell_type": "code",
   "execution_count": 17,
   "id": "018cd094",
   "metadata": {},
   "outputs": [],
   "source": [
    "bigram_featuresets = [(bigram_only_features(text, bigram_features_pmi), label) for (text, label) in documents]"
   ]
  },
  {
   "cell_type": "code",
   "execution_count": 19,
   "id": "364b34b0",
   "metadata": {},
   "outputs": [],
   "source": [
    "# Exporting the combined unigram-bigram featureset to a CSV for future use\n",
    "bigram_featureset_df = pd.DataFrame(bigram_featuresets, columns=['features', 'label'])\n",
    "bigram_features_df = pd.DataFrame(bigram_featureset_df['features'].tolist())\n",
    "bigram_df_csv = pd.concat([bigram_features_df, bigram_featureset_df ['label']], axis=1)\n",
    "bigram_df_csv.to_csv('~/text_bigram_only_features_fakenews_df_canonical.csv', index=False)"
   ]
  },
  {
   "cell_type": "code",
   "execution_count": 21,
   "id": "dfa4bcc0",
   "metadata": {},
   "outputs": [],
   "source": [
    "df_text_bigrams = pd.read_csv('~/text_bigram_only_features_fakenews_df_canonical.csv')"
   ]
  },
  {
   "cell_type": "code",
   "execution_count": 23,
   "id": "206c5324",
   "metadata": {},
   "outputs": [
    {
     "data": {
      "text/html": [
       "<div>\n",
       "<style scoped>\n",
       "    .dataframe tbody tr th:only-of-type {\n",
       "        vertical-align: middle;\n",
       "    }\n",
       "\n",
       "    .dataframe tbody tr th {\n",
       "        vertical-align: top;\n",
       "    }\n",
       "\n",
       "    .dataframe thead th {\n",
       "        text-align: right;\n",
       "    }\n",
       "</style>\n",
       "<table border=\"1\" class=\"dataframe\">\n",
       "  <thead>\n",
       "    <tr style=\"text-align: right;\">\n",
       "      <th></th>\n",
       "      <th>B_suu_kyi</th>\n",
       "      <th>B_hong_kong</th>\n",
       "      <th>B_shi_ite</th>\n",
       "      <th>B_bashar_alassad</th>\n",
       "      <th>B_silicon_valley</th>\n",
       "      <th>B_reinc_priebus</th>\n",
       "      <th>B_antonin_scalia</th>\n",
       "      <th>B_goldman_sach</th>\n",
       "      <th>B_lindsey_graham</th>\n",
       "      <th>B_kellyann_conway</th>\n",
       "      <th>...</th>\n",
       "      <th>B_us_not</th>\n",
       "      <th>B_state_said</th>\n",
       "      <th>B_trump_clinton</th>\n",
       "      <th>B_said_like</th>\n",
       "      <th>B_one_trump</th>\n",
       "      <th>B_state_trump</th>\n",
       "      <th>B_not_trump</th>\n",
       "      <th>B_trump_trump</th>\n",
       "      <th>B_said_said</th>\n",
       "      <th>label</th>\n",
       "    </tr>\n",
       "  </thead>\n",
       "  <tbody>\n",
       "    <tr>\n",
       "      <th>0</th>\n",
       "      <td>False</td>\n",
       "      <td>False</td>\n",
       "      <td>False</td>\n",
       "      <td>False</td>\n",
       "      <td>False</td>\n",
       "      <td>False</td>\n",
       "      <td>False</td>\n",
       "      <td>False</td>\n",
       "      <td>False</td>\n",
       "      <td>False</td>\n",
       "      <td>...</td>\n",
       "      <td>False</td>\n",
       "      <td>False</td>\n",
       "      <td>False</td>\n",
       "      <td>False</td>\n",
       "      <td>False</td>\n",
       "      <td>False</td>\n",
       "      <td>False</td>\n",
       "      <td>False</td>\n",
       "      <td>False</td>\n",
       "      <td>1</td>\n",
       "    </tr>\n",
       "    <tr>\n",
       "      <th>1</th>\n",
       "      <td>False</td>\n",
       "      <td>False</td>\n",
       "      <td>False</td>\n",
       "      <td>False</td>\n",
       "      <td>False</td>\n",
       "      <td>False</td>\n",
       "      <td>False</td>\n",
       "      <td>False</td>\n",
       "      <td>False</td>\n",
       "      <td>False</td>\n",
       "      <td>...</td>\n",
       "      <td>False</td>\n",
       "      <td>False</td>\n",
       "      <td>False</td>\n",
       "      <td>False</td>\n",
       "      <td>False</td>\n",
       "      <td>False</td>\n",
       "      <td>False</td>\n",
       "      <td>False</td>\n",
       "      <td>False</td>\n",
       "      <td>1</td>\n",
       "    </tr>\n",
       "    <tr>\n",
       "      <th>2</th>\n",
       "      <td>False</td>\n",
       "      <td>False</td>\n",
       "      <td>False</td>\n",
       "      <td>False</td>\n",
       "      <td>False</td>\n",
       "      <td>False</td>\n",
       "      <td>False</td>\n",
       "      <td>False</td>\n",
       "      <td>False</td>\n",
       "      <td>False</td>\n",
       "      <td>...</td>\n",
       "      <td>False</td>\n",
       "      <td>False</td>\n",
       "      <td>False</td>\n",
       "      <td>False</td>\n",
       "      <td>False</td>\n",
       "      <td>False</td>\n",
       "      <td>False</td>\n",
       "      <td>False</td>\n",
       "      <td>False</td>\n",
       "      <td>1</td>\n",
       "    </tr>\n",
       "    <tr>\n",
       "      <th>3</th>\n",
       "      <td>False</td>\n",
       "      <td>False</td>\n",
       "      <td>False</td>\n",
       "      <td>False</td>\n",
       "      <td>False</td>\n",
       "      <td>False</td>\n",
       "      <td>False</td>\n",
       "      <td>False</td>\n",
       "      <td>False</td>\n",
       "      <td>False</td>\n",
       "      <td>...</td>\n",
       "      <td>False</td>\n",
       "      <td>False</td>\n",
       "      <td>False</td>\n",
       "      <td>False</td>\n",
       "      <td>False</td>\n",
       "      <td>False</td>\n",
       "      <td>False</td>\n",
       "      <td>False</td>\n",
       "      <td>False</td>\n",
       "      <td>1</td>\n",
       "    </tr>\n",
       "    <tr>\n",
       "      <th>4</th>\n",
       "      <td>False</td>\n",
       "      <td>False</td>\n",
       "      <td>False</td>\n",
       "      <td>False</td>\n",
       "      <td>False</td>\n",
       "      <td>False</td>\n",
       "      <td>False</td>\n",
       "      <td>False</td>\n",
       "      <td>False</td>\n",
       "      <td>False</td>\n",
       "      <td>...</td>\n",
       "      <td>False</td>\n",
       "      <td>False</td>\n",
       "      <td>False</td>\n",
       "      <td>False</td>\n",
       "      <td>False</td>\n",
       "      <td>False</td>\n",
       "      <td>False</td>\n",
       "      <td>False</td>\n",
       "      <td>False</td>\n",
       "      <td>0</td>\n",
       "    </tr>\n",
       "  </tbody>\n",
       "</table>\n",
       "<p>5 rows × 1253 columns</p>\n",
       "</div>"
      ],
      "text/plain": [
       "   B_suu_kyi  B_hong_kong  B_shi_ite  B_bashar_alassad  B_silicon_valley  \\\n",
       "0      False        False      False             False             False   \n",
       "1      False        False      False             False             False   \n",
       "2      False        False      False             False             False   \n",
       "3      False        False      False             False             False   \n",
       "4      False        False      False             False             False   \n",
       "\n",
       "   B_reinc_priebus  B_antonin_scalia  B_goldman_sach  B_lindsey_graham  \\\n",
       "0            False             False           False             False   \n",
       "1            False             False           False             False   \n",
       "2            False             False           False             False   \n",
       "3            False             False           False             False   \n",
       "4            False             False           False             False   \n",
       "\n",
       "   B_kellyann_conway  ...  B_us_not  B_state_said  B_trump_clinton  \\\n",
       "0              False  ...     False         False            False   \n",
       "1              False  ...     False         False            False   \n",
       "2              False  ...     False         False            False   \n",
       "3              False  ...     False         False            False   \n",
       "4              False  ...     False         False            False   \n",
       "\n",
       "   B_said_like  B_one_trump  B_state_trump  B_not_trump  B_trump_trump  \\\n",
       "0        False        False          False        False          False   \n",
       "1        False        False          False        False          False   \n",
       "2        False        False          False        False          False   \n",
       "3        False        False          False        False          False   \n",
       "4        False        False          False        False          False   \n",
       "\n",
       "   B_said_said  label  \n",
       "0        False      1  \n",
       "1        False      1  \n",
       "2        False      1  \n",
       "3        False      1  \n",
       "4        False      0  \n",
       "\n",
       "[5 rows x 1253 columns]"
      ]
     },
     "execution_count": 23,
     "metadata": {},
     "output_type": "execute_result"
    }
   ],
   "source": [
    "df_text_bigrams.head()"
   ]
  },
  {
   "cell_type": "code",
   "execution_count": 24,
   "id": "2584c69e",
   "metadata": {},
   "outputs": [],
   "source": [
    "df_title_unigrams = pd.read_csv('~/title_unigram_features_fakenews_df_canonical.csv')"
   ]
  },
  {
   "cell_type": "code",
   "execution_count": 30,
   "id": "9c8d6d41",
   "metadata": {},
   "outputs": [],
   "source": [
    "remove_label = df_title_unigrams.pop('label')"
   ]
  },
  {
   "cell_type": "code",
   "execution_count": 32,
   "id": "65a6df36",
   "metadata": {},
   "outputs": [],
   "source": [
    "title_uni_text_bi_df = pd.concat([df_title_unigrams, df_text_bigrams], axis=1)"
   ]
  },
  {
   "cell_type": "code",
   "execution_count": 34,
   "id": "9455fc1f",
   "metadata": {},
   "outputs": [],
   "source": [
    "title_uni_text_bi_featuresets = [(dict(row.drop('label').items()), row['label']) for index, row in title_uni_text_bi_df.iterrows()]"
   ]
  },
  {
   "cell_type": "code",
   "execution_count": 38,
   "id": "f30498de",
   "metadata": {},
   "outputs": [],
   "source": [
    "train_set, test_set = title_uni_text_bi_featuresets[(round(.30 * len(title_uni_text_bi_featuresets))):], title_uni_text_bi_featuresets[:(round(.30 * len(title_uni_text_bi_featuresets)))]"
   ]
  },
  {
   "cell_type": "code",
   "execution_count": 39,
   "id": "4ed642c0",
   "metadata": {},
   "outputs": [],
   "source": [
    "NBclassifier = nltk.NaiveBayesClassifier.train(train_set)"
   ]
  },
  {
   "cell_type": "code",
   "execution_count": 40,
   "id": "0950d3d8",
   "metadata": {},
   "outputs": [],
   "source": [
    "accuracy = nltk.classify.accuracy(NBclassifier, test_set)"
   ]
  },
  {
   "cell_type": "code",
   "execution_count": 41,
   "id": "6648bacd",
   "metadata": {},
   "outputs": [
    {
     "name": "stdout",
     "output_type": "stream",
     "text": [
      "0.865965646857306\n"
     ]
    }
   ],
   "source": [
    "print(accuracy)"
   ]
  },
  {
   "cell_type": "code",
   "execution_count": 49,
   "id": "656c589c",
   "metadata": {},
   "outputs": [
    {
     "name": "stdout",
     "output_type": "stream",
     "text": [
      "Most Informative Features\n",
      "                V_hilari = True                1 : 0      =    187.1 : 1.0\n",
      "                   V_wow = True                1 : 0      =    162.3 : 1.0\n",
      "               V_myanmar = True                0 : 1      =    141.1 : 1.0\n",
      "                     V_… = True                1 : 0      =     95.7 : 1.0\n",
      "               B_suu_kyi = True                0 : 1      =     94.6 : 1.0\n",
      "                V_awesom = True                1 : 0      =     64.6 : 1.0\n",
      "                 V_bundi = True                1 : 0      =     57.2 : 1.0\n",
      "                     V_! = True                1 : 0      =     56.9 : 1.0\n",
      "                 V_crook = True                1 : 0      =     53.9 : 1.0\n",
      "                  V_york = True                0 : 1      =     50.5 : 1.0\n",
      "               V_zimbabw = True                0 : 1      =     50.4 : 1.0\n",
      "             V_brilliant = True                1 : 0      =     49.6 : 1.0\n",
      "                 V_onion = True                1 : 0      =     49.2 : 1.0\n",
      "                V_finest = True                1 : 0      =     47.2 : 1.0\n",
      "                   V_oop = True                1 : 0      =     47.2 : 1.0\n",
      "               V_disgust = True                1 : 0      =     46.8 : 1.0\n",
      "             V_breitbart = True                0 : 1      =     45.3 : 1.0\n",
      "              V_bombshel = True                1 : 0      =     45.2 : 1.0\n",
      "                 V_mugab = True                0 : 1      =     44.8 : 1.0\n",
      "                 V_video = True                1 : 0      =     38.8 : 1.0\n",
      "                     V_– = True                1 : 0      =     37.6 : 1.0\n",
      "                V_reuter = True                0 : 1      =     36.2 : 1.0\n",
      "                V_antifa = True                1 : 0      =     35.8 : 1.0\n",
      "                   V_beg = True                1 : 0      =     33.8 : 1.0\n",
      "               V_mnuchin = True                0 : 1      =     33.5 : 1.0\n"
     ]
    }
   ],
   "source": [
    "NBclassifier.show_most_informative_features(25)"
   ]
  },
  {
   "cell_type": "code",
   "execution_count": 52,
   "id": "08a76672",
   "metadata": {},
   "outputs": [
    {
     "name": "stdout",
     "output_type": "stream",
     "text": [
      "Each fold size: 14011\n",
      "0 0.8676040254086075\n",
      "1 0.8661765755477839\n",
      "2 0.862679323388766\n",
      "3 0.866247948040825\n",
      "4 0.8628934408678895\n",
      "mean accuracy 0.8651202626507744\n"
     ]
    }
   ],
   "source": [
    "# perform the cross-validation on the featuresets with word features and generate mean accuracy\n",
    "num_folds = 5\n",
    "cross_validation_accuracy(num_folds, title_uni_text_bi_featuresets)"
   ]
  },
  {
   "cell_type": "code",
   "execution_count": 50,
   "id": "62620a54",
   "metadata": {},
   "outputs": [
    {
     "name": "stdout",
     "output_type": "stream",
     "text": [
      "\n",
      "Confusion_Matrix----\n",
      "\n",
      "   |    1    0 |\n",
      "--+-----------+\n",
      "1 |<8968>1590 |\n",
      "0 | 1227<9232>|\n",
      "--+-----------+\n",
      "(row = reference; col = test)\n",
      "\n",
      "\n",
      "\n",
      "Evaluation_Metrics----\n",
      "\n",
      "\tPrecision\tRecall\t    F1\t Specificity\n",
      "0 \t      0.853      0.883      0.868      0.849\n",
      "1 \t      0.880      0.849      0.864      0.883\n"
     ]
    }
   ],
   "source": [
    "cm_eval_print(test_set)"
   ]
  },
  {
   "cell_type": "markdown",
   "id": "e54e72f8",
   "metadata": {},
   "source": [
    "<h1>TEST 7: Combining Unigram and Trigram Features (Title Only)</h1>"
   ]
  },
  {
   "cell_type": "code",
   "execution_count": 69,
   "id": "29cb4e81",
   "metadata": {},
   "outputs": [],
   "source": [
    "def trigram_document_features(document, word_features, trigram_features): \n",
    "    document_words = set(document) \n",
    "    document_trigrams = nltk.trigrams(document) \n",
    "    features = {}\n",
    "    for word in word_features:\n",
    "        features[f\"W_{word}\"] = (word in document_words)\n",
    "    for trigram in trigram_features:\n",
    "        features[f\"T_{trigram[0]}_{trigram[1]}_{trigram[2]}\"] = (trigram in document_trigrams)\n",
    "    return features"
   ]
  },
  {
   "cell_type": "code",
   "execution_count": 71,
   "id": "bea63ac2",
   "metadata": {},
   "outputs": [
    {
     "name": "stdout",
     "output_type": "stream",
     "text": [
      "\n",
      "Scored using PMI with freq filter 25, filtering out words shorter than 2 char and punctuation:\n",
      "\n",
      "(('tresa', 'balda', 'tbalda'), 39.412388286891385)\n",
      "(('httpstwittercomlukewearechang', 'nstagram', 'httpinstagramcomlukewearechang'), 38.395415208287666)\n",
      "(('lukewearechang', 'fbook', 'httpsfacebookcomlukewearechang'), 38.32697415218579)\n",
      "(('пак', 'кын', 'хе'), 37.79374214689376)\n",
      "(('boldital', 'textememphas', 'textem'), 37.357426814047166)\n",
      "(('leasta', 'hrefhttplinkaddresscomnam', 'linka'), 37.357426814047166)\n",
      "(('bradd', 'jaffi', 'braddjaffi'), 36.68128429357141)\n",
      "(('bess', 'kalb', 'bessbel'), 36.44070590952366)\n",
      "(('читайте', 'последние', 'новости'), 36.28807699945452)\n",
      "(('alexandra', 'meador', 'wwwgalacticconnectioncom'), 36.176190066029896)\n",
      "(('degrass', 'tyson', 'neiltyson'), 35.11857500292884)\n",
      "(('snapchat', 'lukewearechang', 'fbook'), 34.997053266544896)\n",
      "(('juanita', 'broaddrick', 'atensnut'), 34.94560287479281)\n",
      "(('lauren', 'duca', 'laurenduca'), 34.696365394304266)\n",
      "(('kyaw', 'soe', 'oo'), 34.68278019317627)\n",
      "(('patton', 'oswalt', 'pattonoswalt'), 34.62364904300112)\n",
      "(('simon', 'hedlin', 'simonhedlin'), 34.40972304497154)\n",
      "(('daphn', 'caruana', 'galizia'), 34.322316593138275)\n",
      "(('troubadour', 'sail', 'hibiscus'), 34.201106796361984)\n",
      "(('kristina', 'wong', 'mskristinawong'), 34.03570417274045)\n",
      "(('erick', 'fernandez', 'erickfernandez'), 34.00510795030519)\n",
      "(('catherin', 'cortez', 'masto'), 33.933659718545826)\n",
      "(('ho', 'chi', 'minh'), 33.81948900357701)\n",
      "(('comet', 'ping', 'pong'), 33.8125056563011)\n",
      "(('luigi', 'di', 'maio'), 33.57742176578371)\n",
      "(('последние', 'новости', 'pravdaru'), 33.47312607242053)\n",
      "(('matt', 'haig', 'matthaig'), 33.42017897607139)\n",
      "(('aed', 'aegypti', 'mosquito'), 33.32460055756273)\n",
      "(('doc', 'burkhart', 'vicepresid'), 33.322956791652295)\n",
      "(('abdrabbu', 'mansour', 'hadi'), 33.31632933768411)\n"
     ]
    }
   ],
   "source": [
    "trigram_measures = nltk.collocations.TrigramAssocMeasures()\n",
    "finder = TrigramCollocationFinder.from_words(all_words_list)\n",
    "finder.apply_word_filter(lambda w: len(w) < 2 or w.isalpha() is False)\n",
    "finder.apply_freq_filter(25)\n",
    "scored = finder.score_ngrams(trigram_measures.pmi)\n",
    "print(\"\\nScored using PMI with freq filter 25, filtering out words shorter than 2 char and punctuation:\\n\")\n",
    "for tscore in scored[:30]:\n",
    "    print(tscore)"
   ]
  },
  {
   "cell_type": "code",
   "execution_count": 72,
   "id": "68e5c07c",
   "metadata": {},
   "outputs": [],
   "source": [
    "trigram_features_pmi = [(trigram[0:3]) for (trigram, frequency) in scored]"
   ]
  },
  {
   "cell_type": "code",
   "execution_count": 103,
   "id": "26f227ba",
   "metadata": {},
   "outputs": [],
   "source": [
    "trigram_featuresets = [(trigram_document_features(title, title_features, trigram_features_pmi), label) for (title, label) in documents]"
   ]
  },
  {
   "cell_type": "code",
   "execution_count": 104,
   "id": "f1adb364",
   "metadata": {},
   "outputs": [],
   "source": [
    "# Exporting the combined unigram-trigram featureset to a CSV for future use\n",
    "trigram_featureset_df = pd.DataFrame(trigram_featuresets, columns=['features', 'label'])\n",
    "trigram_features_df = pd.DataFrame(trigram_featureset_df['features'].tolist())\n",
    "trigram_df_csv = pd.concat([trigram_features_df, trigram_featureset_df ['label']], axis=1)\n",
    "trigram_df_csv.to_csv('~/title_trigram_features_fakenews_df_canonical.csv', index=False)"
   ]
  },
  {
   "cell_type": "code",
   "execution_count": 73,
   "id": "61bf4c5f",
   "metadata": {},
   "outputs": [],
   "source": [
    "uni_trigram_df = pd.read_csv('~/title_trigram_features_fakenews_df_canonical.csv')"
   ]
  },
  {
   "cell_type": "code",
   "execution_count": 74,
   "id": "93ddc22f",
   "metadata": {
    "scrolled": true
   },
   "outputs": [
    {
     "data": {
      "text/html": [
       "<div>\n",
       "<style scoped>\n",
       "    .dataframe tbody tr th:only-of-type {\n",
       "        vertical-align: middle;\n",
       "    }\n",
       "\n",
       "    .dataframe tbody tr th {\n",
       "        vertical-align: top;\n",
       "    }\n",
       "\n",
       "    .dataframe thead th {\n",
       "        text-align: right;\n",
       "    }\n",
       "</style>\n",
       "<table border=\"1\" class=\"dataframe\">\n",
       "  <thead>\n",
       "    <tr style=\"text-align: right;\">\n",
       "      <th></th>\n",
       "      <th>W_trump</th>\n",
       "      <th>W_new</th>\n",
       "      <th>W_video</th>\n",
       "      <th>W_time</th>\n",
       "      <th>W_york</th>\n",
       "      <th>W_us</th>\n",
       "      <th>W_say</th>\n",
       "      <th>W_!</th>\n",
       "      <th>W_hillari</th>\n",
       "      <th>W_obama</th>\n",
       "      <th>...</th>\n",
       "      <th>B_trump_hillari_clinton</th>\n",
       "      <th>B_say_donald_trump</th>\n",
       "      <th>B_york_time_new</th>\n",
       "      <th>B_york_time_video</th>\n",
       "      <th>B_donald_trump_video</th>\n",
       "      <th>B_trump_new_york</th>\n",
       "      <th>B_time_new_york</th>\n",
       "      <th>B_video_trump_say</th>\n",
       "      <th>B_time_trump_say</th>\n",
       "      <th>label</th>\n",
       "    </tr>\n",
       "  </thead>\n",
       "  <tbody>\n",
       "    <tr>\n",
       "      <th>0</th>\n",
       "      <td>False</td>\n",
       "      <td>False</td>\n",
       "      <td>False</td>\n",
       "      <td>False</td>\n",
       "      <td>False</td>\n",
       "      <td>False</td>\n",
       "      <td>False</td>\n",
       "      <td>False</td>\n",
       "      <td>False</td>\n",
       "      <td>False</td>\n",
       "      <td>...</td>\n",
       "      <td>False</td>\n",
       "      <td>False</td>\n",
       "      <td>False</td>\n",
       "      <td>False</td>\n",
       "      <td>False</td>\n",
       "      <td>False</td>\n",
       "      <td>False</td>\n",
       "      <td>False</td>\n",
       "      <td>False</td>\n",
       "      <td>1</td>\n",
       "    </tr>\n",
       "    <tr>\n",
       "      <th>1</th>\n",
       "      <td>False</td>\n",
       "      <td>False</td>\n",
       "      <td>False</td>\n",
       "      <td>False</td>\n",
       "      <td>False</td>\n",
       "      <td>False</td>\n",
       "      <td>False</td>\n",
       "      <td>False</td>\n",
       "      <td>False</td>\n",
       "      <td>False</td>\n",
       "      <td>...</td>\n",
       "      <td>False</td>\n",
       "      <td>False</td>\n",
       "      <td>False</td>\n",
       "      <td>False</td>\n",
       "      <td>False</td>\n",
       "      <td>False</td>\n",
       "      <td>False</td>\n",
       "      <td>False</td>\n",
       "      <td>False</td>\n",
       "      <td>1</td>\n",
       "    </tr>\n",
       "    <tr>\n",
       "      <th>2</th>\n",
       "      <td>False</td>\n",
       "      <td>False</td>\n",
       "      <td>False</td>\n",
       "      <td>False</td>\n",
       "      <td>False</td>\n",
       "      <td>False</td>\n",
       "      <td>False</td>\n",
       "      <td>False</td>\n",
       "      <td>False</td>\n",
       "      <td>False</td>\n",
       "      <td>...</td>\n",
       "      <td>False</td>\n",
       "      <td>False</td>\n",
       "      <td>False</td>\n",
       "      <td>False</td>\n",
       "      <td>False</td>\n",
       "      <td>False</td>\n",
       "      <td>False</td>\n",
       "      <td>False</td>\n",
       "      <td>False</td>\n",
       "      <td>1</td>\n",
       "    </tr>\n",
       "    <tr>\n",
       "      <th>3</th>\n",
       "      <td>False</td>\n",
       "      <td>True</td>\n",
       "      <td>False</td>\n",
       "      <td>False</td>\n",
       "      <td>False</td>\n",
       "      <td>False</td>\n",
       "      <td>False</td>\n",
       "      <td>False</td>\n",
       "      <td>False</td>\n",
       "      <td>False</td>\n",
       "      <td>...</td>\n",
       "      <td>False</td>\n",
       "      <td>False</td>\n",
       "      <td>False</td>\n",
       "      <td>False</td>\n",
       "      <td>False</td>\n",
       "      <td>False</td>\n",
       "      <td>False</td>\n",
       "      <td>False</td>\n",
       "      <td>False</td>\n",
       "      <td>1</td>\n",
       "    </tr>\n",
       "    <tr>\n",
       "      <th>4</th>\n",
       "      <td>False</td>\n",
       "      <td>False</td>\n",
       "      <td>False</td>\n",
       "      <td>False</td>\n",
       "      <td>False</td>\n",
       "      <td>False</td>\n",
       "      <td>False</td>\n",
       "      <td>False</td>\n",
       "      <td>False</td>\n",
       "      <td>False</td>\n",
       "      <td>...</td>\n",
       "      <td>False</td>\n",
       "      <td>False</td>\n",
       "      <td>False</td>\n",
       "      <td>False</td>\n",
       "      <td>False</td>\n",
       "      <td>False</td>\n",
       "      <td>False</td>\n",
       "      <td>False</td>\n",
       "      <td>False</td>\n",
       "      <td>0</td>\n",
       "    </tr>\n",
       "    <tr>\n",
       "      <th>...</th>\n",
       "      <td>...</td>\n",
       "      <td>...</td>\n",
       "      <td>...</td>\n",
       "      <td>...</td>\n",
       "      <td>...</td>\n",
       "      <td>...</td>\n",
       "      <td>...</td>\n",
       "      <td>...</td>\n",
       "      <td>...</td>\n",
       "      <td>...</td>\n",
       "      <td>...</td>\n",
       "      <td>...</td>\n",
       "      <td>...</td>\n",
       "      <td>...</td>\n",
       "      <td>...</td>\n",
       "      <td>...</td>\n",
       "      <td>...</td>\n",
       "      <td>...</td>\n",
       "      <td>...</td>\n",
       "      <td>...</td>\n",
       "      <td>...</td>\n",
       "    </tr>\n",
       "    <tr>\n",
       "      <th>70051</th>\n",
       "      <td>True</td>\n",
       "      <td>False</td>\n",
       "      <td>False</td>\n",
       "      <td>False</td>\n",
       "      <td>False</td>\n",
       "      <td>False</td>\n",
       "      <td>False</td>\n",
       "      <td>False</td>\n",
       "      <td>False</td>\n",
       "      <td>False</td>\n",
       "      <td>...</td>\n",
       "      <td>False</td>\n",
       "      <td>False</td>\n",
       "      <td>False</td>\n",
       "      <td>False</td>\n",
       "      <td>False</td>\n",
       "      <td>False</td>\n",
       "      <td>False</td>\n",
       "      <td>False</td>\n",
       "      <td>False</td>\n",
       "      <td>1</td>\n",
       "    </tr>\n",
       "    <tr>\n",
       "      <th>70052</th>\n",
       "      <td>False</td>\n",
       "      <td>False</td>\n",
       "      <td>False</td>\n",
       "      <td>False</td>\n",
       "      <td>False</td>\n",
       "      <td>False</td>\n",
       "      <td>False</td>\n",
       "      <td>False</td>\n",
       "      <td>False</td>\n",
       "      <td>False</td>\n",
       "      <td>...</td>\n",
       "      <td>False</td>\n",
       "      <td>False</td>\n",
       "      <td>False</td>\n",
       "      <td>False</td>\n",
       "      <td>False</td>\n",
       "      <td>False</td>\n",
       "      <td>False</td>\n",
       "      <td>False</td>\n",
       "      <td>False</td>\n",
       "      <td>0</td>\n",
       "    </tr>\n",
       "    <tr>\n",
       "      <th>70053</th>\n",
       "      <td>False</td>\n",
       "      <td>False</td>\n",
       "      <td>True</td>\n",
       "      <td>True</td>\n",
       "      <td>False</td>\n",
       "      <td>False</td>\n",
       "      <td>False</td>\n",
       "      <td>True</td>\n",
       "      <td>False</td>\n",
       "      <td>False</td>\n",
       "      <td>...</td>\n",
       "      <td>False</td>\n",
       "      <td>False</td>\n",
       "      <td>False</td>\n",
       "      <td>False</td>\n",
       "      <td>False</td>\n",
       "      <td>False</td>\n",
       "      <td>False</td>\n",
       "      <td>False</td>\n",
       "      <td>False</td>\n",
       "      <td>1</td>\n",
       "    </tr>\n",
       "    <tr>\n",
       "      <th>70054</th>\n",
       "      <td>False</td>\n",
       "      <td>False</td>\n",
       "      <td>False</td>\n",
       "      <td>False</td>\n",
       "      <td>False</td>\n",
       "      <td>False</td>\n",
       "      <td>False</td>\n",
       "      <td>False</td>\n",
       "      <td>False</td>\n",
       "      <td>False</td>\n",
       "      <td>...</td>\n",
       "      <td>False</td>\n",
       "      <td>False</td>\n",
       "      <td>False</td>\n",
       "      <td>False</td>\n",
       "      <td>False</td>\n",
       "      <td>False</td>\n",
       "      <td>False</td>\n",
       "      <td>False</td>\n",
       "      <td>False</td>\n",
       "      <td>0</td>\n",
       "    </tr>\n",
       "    <tr>\n",
       "      <th>70055</th>\n",
       "      <td>True</td>\n",
       "      <td>False</td>\n",
       "      <td>False</td>\n",
       "      <td>False</td>\n",
       "      <td>False</td>\n",
       "      <td>False</td>\n",
       "      <td>False</td>\n",
       "      <td>True</td>\n",
       "      <td>False</td>\n",
       "      <td>False</td>\n",
       "      <td>...</td>\n",
       "      <td>False</td>\n",
       "      <td>False</td>\n",
       "      <td>False</td>\n",
       "      <td>False</td>\n",
       "      <td>False</td>\n",
       "      <td>False</td>\n",
       "      <td>False</td>\n",
       "      <td>False</td>\n",
       "      <td>False</td>\n",
       "      <td>1</td>\n",
       "    </tr>\n",
       "  </tbody>\n",
       "</table>\n",
       "<p>70056 rows × 3989 columns</p>\n",
       "</div>"
      ],
      "text/plain": [
       "       W_trump  W_new  W_video  W_time  W_york   W_us  W_say    W_!  \\\n",
       "0        False  False    False   False   False  False  False  False   \n",
       "1        False  False    False   False   False  False  False  False   \n",
       "2        False  False    False   False   False  False  False  False   \n",
       "3        False   True    False   False   False  False  False  False   \n",
       "4        False  False    False   False   False  False  False  False   \n",
       "...        ...    ...      ...     ...     ...    ...    ...    ...   \n",
       "70051     True  False    False   False   False  False  False  False   \n",
       "70052    False  False    False   False   False  False  False  False   \n",
       "70053    False  False     True    True   False  False  False   True   \n",
       "70054    False  False    False   False   False  False  False  False   \n",
       "70055     True  False    False   False   False  False  False   True   \n",
       "\n",
       "       W_hillari  W_obama  ...  B_trump_hillari_clinton  B_say_donald_trump  \\\n",
       "0          False    False  ...                    False               False   \n",
       "1          False    False  ...                    False               False   \n",
       "2          False    False  ...                    False               False   \n",
       "3          False    False  ...                    False               False   \n",
       "4          False    False  ...                    False               False   \n",
       "...          ...      ...  ...                      ...                 ...   \n",
       "70051      False    False  ...                    False               False   \n",
       "70052      False    False  ...                    False               False   \n",
       "70053      False    False  ...                    False               False   \n",
       "70054      False    False  ...                    False               False   \n",
       "70055      False    False  ...                    False               False   \n",
       "\n",
       "       B_york_time_new  B_york_time_video  B_donald_trump_video  \\\n",
       "0                False              False                 False   \n",
       "1                False              False                 False   \n",
       "2                False              False                 False   \n",
       "3                False              False                 False   \n",
       "4                False              False                 False   \n",
       "...                ...                ...                   ...   \n",
       "70051            False              False                 False   \n",
       "70052            False              False                 False   \n",
       "70053            False              False                 False   \n",
       "70054            False              False                 False   \n",
       "70055            False              False                 False   \n",
       "\n",
       "       B_trump_new_york  B_time_new_york  B_video_trump_say  B_time_trump_say  \\\n",
       "0                 False            False              False             False   \n",
       "1                 False            False              False             False   \n",
       "2                 False            False              False             False   \n",
       "3                 False            False              False             False   \n",
       "4                 False            False              False             False   \n",
       "...                 ...              ...                ...               ...   \n",
       "70051             False            False              False             False   \n",
       "70052             False            False              False             False   \n",
       "70053             False            False              False             False   \n",
       "70054             False            False              False             False   \n",
       "70055             False            False              False             False   \n",
       "\n",
       "       label  \n",
       "0          1  \n",
       "1          1  \n",
       "2          1  \n",
       "3          1  \n",
       "4          0  \n",
       "...      ...  \n",
       "70051      1  \n",
       "70052      0  \n",
       "70053      1  \n",
       "70054      0  \n",
       "70055      1  \n",
       "\n",
       "[70056 rows x 3989 columns]"
      ]
     },
     "execution_count": 74,
     "metadata": {},
     "output_type": "execute_result"
    }
   ],
   "source": [
    "uni_trigram_df"
   ]
  },
  {
   "cell_type": "code",
   "execution_count": 75,
   "id": "a6d56aee",
   "metadata": {},
   "outputs": [],
   "source": [
    "trigram_featuresets = [(dict(row.drop('label').items()), row['label']) for index, row in uni_trigram_df.iterrows()]"
   ]
  },
  {
   "cell_type": "code",
   "execution_count": 81,
   "id": "47caa0e3",
   "metadata": {},
   "outputs": [],
   "source": [
    "train_set, test_set = trigram_featuresets[(round(.30 * len(trigram_featuresets))):], trigram_featuresets[:(round(.30 * len(trigram_featuresets)))]\n",
    "NBclassifier = nltk.NaiveBayesClassifier.train(train_set)\n",
    "accuracy = nltk.classify.accuracy(NBclassifier, test_set)"
   ]
  },
  {
   "cell_type": "code",
   "execution_count": 77,
   "id": "c1ff14e1",
   "metadata": {},
   "outputs": [
    {
     "name": "stdout",
     "output_type": "stream",
     "text": [
      "0.8660132273873531\n"
     ]
    }
   ],
   "source": [
    "print(accuracy)"
   ]
  },
  {
   "cell_type": "code",
   "execution_count": 78,
   "id": "a5a31b7d",
   "metadata": {
    "scrolled": false
   },
   "outputs": [
    {
     "name": "stdout",
     "output_type": "stream",
     "text": [
      "Most Informative Features\n",
      "                W_hilari = True                1 : 0      =    187.1 : 1.0\n",
      "                   W_wow = True                1 : 0      =    162.3 : 1.0\n",
      "               W_myanmar = True                0 : 1      =    141.1 : 1.0\n",
      "                     W_… = True                1 : 0      =     95.7 : 1.0\n",
      "                W_awesom = True                1 : 0      =     64.6 : 1.0\n",
      "                 W_bundi = True                1 : 0      =     57.2 : 1.0\n",
      "                     W_! = True                1 : 0      =     56.9 : 1.0\n",
      "                 W_crook = True                1 : 0      =     53.9 : 1.0\n",
      "                  W_york = True                0 : 1      =     50.5 : 1.0\n",
      "               W_zimbabw = True                0 : 1      =     50.4 : 1.0\n"
     ]
    }
   ],
   "source": [
    "classifier.show_most_informative_features(10)"
   ]
  },
  {
   "cell_type": "code",
   "execution_count": 141,
   "id": "ef89e77e",
   "metadata": {},
   "outputs": [
    {
     "name": "stdout",
     "output_type": "stream",
     "text": [
      "[('B_новое_восточное_обозрение', False)]\n"
     ]
    }
   ],
   "source": [
    "# Assuming 'classifier' is your trained Naive Bayes classifier\n",
    "most_informative_features = classifier.most_informative_features(5000)\n",
    "\n",
    "# Convert the list of tuples to a list of features\n",
    "features = [(feature, score) for (feature, score) in most_informative_features if re.match(r'^B_', feature)]\n",
    "\n",
    "#b_features = [feature for feature in features if re.findall(r'^[B_]*', feature)]\n",
    "\n",
    "# Print the list of features\n",
    "print(features)"
   ]
  },
  {
   "cell_type": "code",
   "execution_count": 145,
   "id": "c3197088",
   "metadata": {},
   "outputs": [
    {
     "name": "stdout",
     "output_type": "stream",
     "text": [
      "Each fold size: 14011\n",
      "0 0.8676040254086075\n",
      "1 0.8661765755477839\n",
      "2 0.862679323388766\n",
      "3 0.866247948040825\n",
      "4 0.8628934408678895\n",
      "mean accuracy 0.8651202626507744\n"
     ]
    }
   ],
   "source": [
    "# perform the cross-validation on the featuresets with word features and generate mean accuracy\n",
    "num_folds = 5\n",
    "cross_validation_accuracy(num_folds, title_uni_text_bi_featuresets)"
   ]
  },
  {
   "cell_type": "code",
   "execution_count": 82,
   "id": "d7f90d86",
   "metadata": {},
   "outputs": [
    {
     "name": "stdout",
     "output_type": "stream",
     "text": [
      "\n",
      "Confusion_Matrix----\n",
      "\n",
      "   |    1    0 |\n",
      "--+-----------+\n",
      "1 |<8967>1591 |\n",
      "0 | 1225<9234>|\n",
      "--+-----------+\n",
      "(row = reference; col = test)\n",
      "\n",
      "\n",
      "\n",
      "Evaluation_Metrics----\n",
      "\n",
      "\tPrecision\tRecall\t    F1\t Specificity\n",
      "0 \t      0.853      0.883      0.868      0.849\n",
      "1 \t      0.880      0.849      0.864      0.883\n"
     ]
    }
   ],
   "source": [
    "cm_eval_print(test_set)"
   ]
  },
  {
   "cell_type": "markdown",
   "id": "efd8fb4e",
   "metadata": {},
   "source": [
    "<h3>Test 7 Discussion: Unigram + Trigram Features</h3>\n",
    "<br>\n",
    "<body>\n",
    "<b>Trigram features</b> were extracted with a filter applied to limit bigrams \n",
    "to alphabetic tokens with a length longer than two characters and a minimum frequency of 50 in the corpus. \n",
    "Trigrams were scored using PMI, but because the applied filters already yielded only 122 new, trigram features, all of the trigrams were used, regardless of score.\n",
    "<br><br>\n",
    "Looking at the trigrams that we were able to extract from the dataset, we are getting a bit more context than we were with bigrams.\n",
    "    For instance, \"Puerto Rico\" becomes <b>\"Puerto Rican Debt\"</b> and \"Lives Matter\" becomes <b>\"Black Lives Matter\"</b>. \n",
    "    Other newsworthy items also appear in the list, such as <b>\"Dakota Access Pipeline\"</b> and <b>\"Voter ID Law\"</b>.\n",
    "<br><br>\n",
    "    It's intesting to note that the most common trigram is <b>'новое восточное обозрение'</b>, which translates to <b>\"New Eastern Outlook\"</b> (also in the  top-scoring list of trigrams). This is the name of a Russia-based online journal that has come to be associated with fakenews and was identified by the U.S. Dept. of State as part of \"Russia's disinformation and propaganda system\" in 2020.\n",
    "<br><br>\n",
    "Despite the additional context, <b>combining trigram features and unigram also did not ressult in an increase in accuracy over unigram features alone.</b>\n",
    "The reason for this again becomes clear when looking at the <b>Most Informative Features</b>. \n",
    "As with the bigram features, all trigram features are at the very bottom of the list and have a probability ratio of 1.0:1.0.\n",
    "<br><br>\n",
    "<b>Because using a combined trigram/unigram featureset did not improve accuracy of the unigram baseline, we did not use it in subsequent models.</b>\n",
    "</body>"
   ]
  },
  {
   "cell_type": "markdown",
   "id": "c58e4dda",
   "metadata": {},
   "source": [
    "<h1>Test 8: Combining Sentiment and Unigram Features</h1>"
   ]
  },
  {
   "cell_type": "code",
   "execution_count": 6,
   "id": "483f1f84",
   "metadata": {
    "scrolled": false
   },
   "outputs": [],
   "source": [
    "tokens_df = pd.read_csv('~/preprocessed_fakenews_df_canonical.csv', \n",
    "                 #index_col='index', \n",
    "                 header=0,\n",
    "                 names=['title', 'text', 'label'])"
   ]
  },
  {
   "cell_type": "code",
   "execution_count": 7,
   "id": "582df699",
   "metadata": {},
   "outputs": [],
   "source": [
    "tuple_rows = list(tokens_df.itertuples(index=False, name=None))\n",
    "document_str = [(str(i[0]), i[2]) for i in tuple_rows]\n",
    "documents = [(i[0].split(\", \"), i[1]) for i in document_str]\n",
    "\n",
    "\n",
    "#title_featuresets = [(unigram_features(title, title_features), cat) for (title, cat) in documents]\n",
    "\n",
    "all_words_list = [word for (title, cat) in documents for word in title]\n",
    "all_words = nltk.FreqDist(all_words_list)\n",
    "word_items = all_words.most_common(round((len(all_words) * 0.15)))\n",
    "\n",
    "title_features = [word for (word,count) in word_items]\n",
    "\n",
    "stemmer = nltk.SnowballStemmer('english')"
   ]
  },
  {
   "cell_type": "code",
   "execution_count": 9,
   "id": "a34be664",
   "metadata": {},
   "outputs": [
    {
     "data": {
      "text/plain": [
       "['2-face', 'abnorm', 'abolish', 'abomin', 'abort']"
      ]
     },
     "execution_count": 9,
     "metadata": {},
     "output_type": "execute_result"
    }
   ],
   "source": [
    "# LOAD THE NEGATIVE SENTIMENT LEXICON AND STEM IT USING THE SAME STEMMER AS APPLIED TO THE CORPUS\n",
    "\n",
    "df_neg = pd.read_csv('~/*/IST664/FINAL_PROJECT/SENTIMENT/negative-words.txt',\n",
    "                 names=['neg_words'])\n",
    "\n",
    "neg_lex = sorted(set([stemmer.stem(word) for word in list(df_neg.neg_words)]))\n",
    "\n",
    "neg_lex[:5]"
   ]
  },
  {
   "cell_type": "code",
   "execution_count": 10,
   "id": "681c2f2b",
   "metadata": {},
   "outputs": [],
   "source": [
    "# LOAD THE POSITIVE SENTIMENT LEXICON AND STEM IT USING THE SAME STEMMER AS APPLIED TO THE CORPUS\n",
    "\n",
    "df_pos = pd.read_csv('~/*/IST664/FINAL_PROJECT/SENTIMENT/positive-words.txt',\n",
    "                 skiprows=1,\n",
    "                 names=['pos_words'])\n",
    "\n",
    "pos_lex = sorted(set([stemmer.stem(word) for word in list(df_pos.pos_words)]))"
   ]
  },
  {
   "cell_type": "code",
   "execution_count": 11,
   "id": "c2f2ea7b",
   "metadata": {},
   "outputs": [
    {
     "data": {
      "text/plain": [
       "['abound', 'abund', 'access', 'acclaim', 'acclam']"
      ]
     },
     "execution_count": 11,
     "metadata": {},
     "output_type": "execute_result"
    }
   ],
   "source": [
    "pos_lex[:5]"
   ]
  },
  {
   "cell_type": "code",
   "execution_count": 12,
   "id": "91d80162",
   "metadata": {},
   "outputs": [],
   "source": [
    "def PosNeg_features(document, pos_lex, neg_lex):\n",
    "    \n",
    "    document_words = set(document)\n",
    "    features = {}\n",
    "    pos_count = 0\n",
    "    neg_count = 0\n",
    "    \n",
    "    for word in document_words:\n",
    "        if word in pos_lex:\n",
    "            pos_count += 1\n",
    "                \n",
    "        if word in neg_lex:\n",
    "            neg_count += 1\n",
    "        \n",
    "        features['positivecount'] = pos_count\n",
    "        features['negativecount'] = neg_count\n",
    "    \n",
    "    for word in title_features:\n",
    "        features[f'W_{word}'] = (word in document_words)\n",
    "                \n",
    "    return features"
   ]
  },
  {
   "cell_type": "code",
   "execution_count": 102,
   "id": "0d1e4efa",
   "metadata": {},
   "outputs": [],
   "source": [
    "PosNeg_featuresets = [(PosNeg_features(doc, pos_lex, neg_lex), label) for (doc, label) in documents]"
   ]
  },
  {
   "cell_type": "code",
   "execution_count": 103,
   "id": "1873bd51",
   "metadata": {},
   "outputs": [
    {
     "name": "stdout",
     "output_type": "stream",
     "text": [
      "Accuracy with combined unigram and sentiment score:0.8643954893657515\n",
      "\n",
      "Execution time: 159.67037630081177 seconds\n"
     ]
    }
   ],
   "source": [
    "start = time.time()\n",
    "\n",
    "train_set, test_set = PosNeg_featuresets[(round(.30 * len(PosNeg_featuresets))):], PosNeg_featuresets[:(round(.30 * len(PosNeg_featuresets)))]\n",
    "NBclassifier = nltk.NaiveBayesClassifier.train(train_set)\n",
    "accuracy = nltk.classify.accuracy(NBclassifier, test_set)\n",
    "print(f\"Accuracy with combined unigram and sentiment score:{accuracy}\")\n",
    "\n",
    "end = time.time()\n",
    "print(f\"\\nExecution time: {end - start} seconds\")"
   ]
  },
  {
   "cell_type": "code",
   "execution_count": 109,
   "id": "b41d950a",
   "metadata": {},
   "outputs": [
    {
     "name": "stdout",
     "output_type": "stream",
     "text": [
      "Most Informative Features\n",
      "                W_hilari = True                1 : 0      =    187.1 : 1.0\n",
      "                   W_wow = True                1 : 0      =    162.3 : 1.0\n",
      "               W_myanmar = True                0 : 1      =    141.1 : 1.0\n",
      "                     W_… = True                1 : 0      =     95.7 : 1.0\n",
      "                W_awesom = True                1 : 0      =     64.6 : 1.0\n",
      "                 W_bundi = True                1 : 0      =     57.2 : 1.0\n",
      "                     W_! = True                1 : 0      =     56.9 : 1.0\n",
      "                 W_crook = True                1 : 0      =     53.9 : 1.0\n",
      "                  W_york = True                0 : 1      =     50.5 : 1.0\n",
      "               W_zimbabw = True                0 : 1      =     50.4 : 1.0\n",
      "             W_brilliant = True                1 : 0      =     49.6 : 1.0\n",
      "                 W_onion = True                1 : 0      =     49.2 : 1.0\n",
      "                W_finest = True                1 : 0      =     47.2 : 1.0\n",
      "                   W_oop = True                1 : 0      =     47.2 : 1.0\n",
      "               W_disgust = True                1 : 0      =     46.8 : 1.0\n",
      "             W_breitbart = True                0 : 1      =     45.3 : 1.0\n",
      "              W_bombshel = True                1 : 0      =     45.2 : 1.0\n",
      "                 W_mugab = True                0 : 1      =     44.8 : 1.0\n",
      "                 W_video = True                1 : 0      =     38.8 : 1.0\n",
      "                     W_– = True                1 : 0      =     37.6 : 1.0\n",
      "                W_reuter = True                0 : 1      =     36.2 : 1.0\n",
      "                W_antifa = True                1 : 0      =     35.8 : 1.0\n",
      "                   W_beg = True                1 : 0      =     33.8 : 1.0\n",
      "               W_mnuchin = True                0 : 1      =     33.5 : 1.0\n",
      "                  W_epic = True                1 : 0      =     32.8 : 1.0\n",
      "                 W_laugh = True                1 : 0      =     32.6 : 1.0\n",
      "                  W_damn = True                1 : 0      =     32.5 : 1.0\n",
      "             W_hypocrisi = True                1 : 0      =     32.5 : 1.0\n",
      "                   W_a** = True                1 : 0      =     31.8 : 1.0\n",
      "       W_#blacklivesmatt = True                1 : 0      =     31.1 : 1.0\n",
      "                  W_thug = True                1 : 0      =     30.3 : 1.0\n",
      "                 W_gonna = True                1 : 0      =     29.8 : 1.0\n",
      "                 W_insan = True                1 : 0      =     29.1 : 1.0\n",
      "               W_furious = True                1 : 0      =     28.7 : 1.0\n",
      "                  W_sh*t = True                1 : 0      =     27.9 : 1.0\n",
      "                W_unreal = True                1 : 0      =     27.8 : 1.0\n",
      "                    W_xi = True                0 : 1      =     26.6 : 1.0\n",
      "              W_undercov = True                1 : 0      =     26.4 : 1.0\n",
      "                 W_youll = True                1 : 0      =     26.4 : 1.0\n",
      "                 W_smack = True                1 : 0      =     25.1 : 1.0\n",
      "               W_baghdad = True                0 : 1      =     24.2 : 1.0\n",
      "                 W_envoy = True                0 : 1      =     24.2 : 1.0\n",
      "             W_halloween = True                1 : 0      =     23.9 : 1.0\n",
      "                W_macron = True                0 : 1      =     23.8 : 1.0\n",
      "                   W_mic = True                1 : 0      =     23.8 : 1.0\n",
      "                    W_en = True                1 : 0      =     23.1 : 1.0\n",
      "                  W_seth = True                1 : 0      =     23.1 : 1.0\n",
      "               W_tantrum = True                1 : 0      =     22.4 : 1.0\n",
      "               W_somalia = True                0 : 1      =     22.2 : 1.0\n",
      "              W_cambodia = True                0 : 1      =     21.6 : 1.0\n",
      "                   W_rio = True                0 : 1      =     21.6 : 1.0\n",
      "                  W_brag = True                1 : 0      =     21.5 : 1.0\n",
      "                 W_viral = True                1 : 0      =     21.4 : 1.0\n",
      "                W_hyster = True                1 : 0      =     21.1 : 1.0\n",
      "                W_pathet = True                1 : 0      =     21.1 : 1.0\n",
      "                 W_shred = True                1 : 0      =     21.1 : 1.0\n",
      "                 W_expos = True                1 : 0      =     20.7 : 1.0\n",
      "              W_sanction = True                0 : 1      =     20.3 : 1.0\n",
      "                 W_idiot = True                1 : 0      =     20.3 : 1.0\n",
      "                 W_liter = True                1 : 0      =     20.2 : 1.0\n",
      "                W_bizarr = True                1 : 0      =     19.9 : 1.0\n",
      "                 W_czech = True                0 : 1      =     19.6 : 1.0\n",
      "                W_soccer = True                0 : 1      =     19.6 : 1.0\n",
      "               W_kremlin = True                0 : 1      =     19.1 : 1.0\n",
      "                W_tucker = True                1 : 0      =     19.1 : 1.0\n",
      "               W_ireland = True                0 : 1      =     18.9 : 1.0\n",
      "               W_septemb = True                0 : 1      =     18.9 : 1.0\n",
      "              W_farright = True                0 : 1      =     18.9 : 1.0\n",
      "                W_scream = True                1 : 0      =     18.7 : 1.0\n",
      "              W_hypocrit = True                1 : 0      =     18.5 : 1.0\n",
      "          W_antiamerican = True                1 : 0      =     18.4 : 1.0\n",
      "                 W_scath = True                1 : 0      =     18.4 : 1.0\n",
      "            W_disrespect = True                1 : 0      =     18.3 : 1.0\n",
      "                   W_kkk = True                1 : 0      =     18.3 : 1.0\n",
      "             W_tillerson = True                0 : 1      =     18.2 : 1.0\n",
      "               W_dumbest = True                1 : 0      =     17.7 : 1.0\n",
      "                 W_satan = True                1 : 0      =     17.7 : 1.0\n",
      "                W_incred = True                1 : 0      =     17.5 : 1.0\n",
      "                 W_egypt = True                0 : 1      =     17.4 : 1.0\n",
      "            W_girlfriend = True                1 : 0      =     17.1 : 1.0\n",
      "                   W_hed = True                1 : 0      =     17.1 : 1.0\n",
      "                  W_ouch = True                1 : 0      =     17.1 : 1.0\n",
      "              W_pedophil = True                1 : 0      =     17.1 : 1.0\n",
      "                W_predat = True                1 : 0      =     17.1 : 1.0\n",
      "                  W_quot = True                1 : 0      =     17.1 : 1.0\n",
      "                    W_pm = True                0 : 1      =     16.6 : 1.0\n",
      "                 W_freak = True                1 : 0      =     16.5 : 1.0\n",
      "               W_birther = True                1 : 0      =     16.4 : 1.0\n",
      "            W_napolitano = True                1 : 0      =     16.4 : 1.0\n",
      "                 W_roast = True                1 : 0      =     16.4 : 1.0\n",
      "                  W_rudi = True                1 : 0      =     16.4 : 1.0\n",
      "                W_thread = True                1 : 0      =     16.4 : 1.0\n",
      "                   W_abe = True                0 : 1      =     16.4 : 1.0\n",
      "                W_brutal = True                1 : 0      =     16.3 : 1.0\n",
      "                   W_feb = True                0 : 1      =     16.3 : 1.0\n",
      "                 W_polar = True                0 : 1      =     16.3 : 1.0\n",
      "                 W_screw = True                1 : 0      =     16.3 : 1.0\n",
      "                   W_kid = True                1 : 0      =     16.2 : 1.0\n",
      "               W_vicious = True                1 : 0      =     15.7 : 1.0\n",
      "              W_thailand = True                0 : 1      =     15.6 : 1.0\n",
      "               W_kurdish = True                0 : 1      =     15.5 : 1.0\n",
      "                  W_trey = True                1 : 0      =     15.5 : 1.0\n",
      "               W_perfect = True                1 : 0      =     15.4 : 1.0\n",
      "                W_rapist = True                1 : 0      =     15.3 : 1.0\n",
      "                   W_eus = True                0 : 1      =     15.3 : 1.0\n",
      "              W_watchdog = True                0 : 1      =     15.2 : 1.0\n",
      "                    W_fl = True                1 : 0      =     15.1 : 1.0\n",
      "                  W_okay = True                1 : 0      =     15.1 : 1.0\n",
      "           W_supremacist = True                1 : 0      =     15.1 : 1.0\n",
      "                    W_tx = True                1 : 0      =     15.1 : 1.0\n",
      "                W_humili = True                1 : 0      =     15.1 : 1.0\n",
      "                  W_boko = True                0 : 1      =     14.9 : 1.0\n",
      "                 W_haram = True                0 : 1      =     14.9 : 1.0\n",
      "                  W_irma = True                0 : 1      =     14.8 : 1.0\n",
      "                  W_rant = True                1 : 0      =     14.8 : 1.0\n",
      "                   W_doj = True                1 : 0      =     14.7 : 1.0\n",
      "               W_patrick = True                1 : 0      =     14.7 : 1.0\n",
      "                  W_loom = True                0 : 1      =     14.7 : 1.0\n",
      "             W_embarrass = True                1 : 0      =     14.5 : 1.0\n",
      "                 W_nafta = True                0 : 1      =     14.5 : 1.0\n",
      "                   W_blm = True                1 : 0      =     14.4 : 1.0\n",
      "                W_implod = True                1 : 0      =     14.4 : 1.0\n",
      "                W_skewer = True                1 : 0      =     14.4 : 1.0\n",
      "                  W_suck = True                1 : 0      =     14.4 : 1.0\n",
      "                 W_weird = True                1 : 0      =     14.4 : 1.0\n",
      "                 W_decri = True                0 : 1      =     14.3 : 1.0\n",
      "                  W_fate = True                0 : 1      =     14.3 : 1.0\n",
      "            W_postbrexit = True                0 : 1      =     14.3 : 1.0\n",
      "                  W_stun = True                1 : 0      =     14.2 : 1.0\n",
      "             W_flashback = True                1 : 0      =     14.0 : 1.0\n",
      "                 W_bigot = True                1 : 0      =     13.9 : 1.0\n",
      "               W_pension = True                0 : 1      =     13.7 : 1.0\n",
      "                 W_arrog = True                1 : 0      =     13.7 : 1.0\n",
      "                 W_commi = True                1 : 0      =     13.7 : 1.0\n",
      "                W_costum = True                1 : 0      =     13.7 : 1.0\n",
      "                 W_cough = True                1 : 0      =     13.7 : 1.0\n",
      "                W_surfac = True                1 : 0      =     13.7 : 1.0\n",
      "                    W_ca = True                1 : 0      =     13.6 : 1.0\n",
      "                   W_edt = True                0 : 1      =     13.6 : 1.0\n",
      "                 W_pursu = True                0 : 1      =     13.6 : 1.0\n",
      "                 W_spain = True                0 : 1      =     13.6 : 1.0\n",
      "           negativecount = 6                   1 : 0      =     13.5 : 1.0\n"
     ]
    }
   ],
   "source": [
    "NBclassifier.show_most_informative_features(142)"
   ]
  },
  {
   "cell_type": "code",
   "execution_count": 38,
   "id": "8a6bd23d",
   "metadata": {
    "scrolled": false
   },
   "outputs": [
    {
     "name": "stdout",
     "output_type": "stream",
     "text": [
      "Each fold size: 14011\n",
      "0 0.8655342231104133\n",
      "1 0.865462850617372\n",
      "2 0.8604667761044893\n",
      "3 0.8670330454642781\n",
      "4 0.8614659910070659\n",
      "mean accuracy 0.8639925772607236\n"
     ]
    }
   ],
   "source": [
    "# perform the cross-validation on the featuresets with word features and generate accuracy\n",
    "num_folds = 5\n",
    "cross_validation_accuracy(num_folds, PosNeg_featuresets)"
   ]
  },
  {
   "cell_type": "code",
   "execution_count": 138,
   "id": "53fe493d",
   "metadata": {},
   "outputs": [],
   "source": [
    "def PosNeg_Boolean_features(document, pos_lex, neg_lex):\n",
    "    \n",
    "    document_words = set(document)\n",
    "    features = {}\n",
    "    pos_count = 0\n",
    "    neg_count = 0\n",
    "    \n",
    "    for word in document_words:\n",
    "        if word in pos_lex:\n",
    "            pos_count += 1         \n",
    "            \n",
    "        if pos_count >= 2:\n",
    "            positive = True            \n",
    "        else:\n",
    "            positive = False\n",
    "            \n",
    "                \n",
    "        if word in neg_lex:\n",
    "            neg_count += 1\n",
    "            \n",
    "        if neg_count >=2:\n",
    "            negative = True           \n",
    "        else:\n",
    "            negative = False\n",
    "        \n",
    "        features['strong_positive'] = positive\n",
    "        features['strong_negative'] = negative\n",
    "    \n",
    "    for word in title_features:\n",
    "        features[f'W_{word}'] = (word in document_words)\n",
    "                \n",
    "    return features"
   ]
  },
  {
   "cell_type": "code",
   "execution_count": 139,
   "id": "0c49164a",
   "metadata": {},
   "outputs": [],
   "source": [
    "PosNeg_Boolean_featuresets = [(PosNeg_Boolean_features(doc, pos_lex, neg_lex), label) for (doc, label) in documents]"
   ]
  },
  {
   "cell_type": "code",
   "execution_count": 190,
   "id": "f225d1c0",
   "metadata": {},
   "outputs": [],
   "source": [
    "OpinionBool_df = pd.read_csv('~/boolean_opinion_features_fakenews_df_canonical.csv')"
   ]
  },
  {
   "cell_type": "code",
   "execution_count": 191,
   "id": "51385b50",
   "metadata": {},
   "outputs": [],
   "source": [
    "df_title_unigrams = pd.read_csv('~/title_unigram_features_fakenews_df_canonical.csv')\n",
    "remove_label = df_title_unigrams.pop('label')\n",
    "unigram_OpinionBool_df = pd.concat([df_title_unigrams, OpinionBool_df], axis=1)"
   ]
  },
  {
   "cell_type": "code",
   "execution_count": 193,
   "id": "9836f25c",
   "metadata": {},
   "outputs": [],
   "source": [
    "unigram_OpinionBool_featuresets = [(dict(row.drop('label').items()), row['label']) for index, row in unigram_OpinionBool_df.iterrows()]"
   ]
  },
  {
   "cell_type": "code",
   "execution_count": 195,
   "id": "dba3ba2f",
   "metadata": {
    "scrolled": true
   },
   "outputs": [
    {
     "name": "stdout",
     "output_type": "stream",
     "text": [
      "Accuracy with combined unigram and sentiment score:0.8652043583765523\n",
      "\n",
      "Execution time: 120.026606798172 seconds\n"
     ]
    }
   ],
   "source": [
    "start = time.time()\n",
    "\n",
    "train_set, test_set = unigram_OpinionBool_featuresets[(round(.30 * len(unigram_OpinionBool_featuresets))):], unigram_OpinionBool_featuresets[:(round(.30 * len(unigram_OpinionBool_featuresets)))]\n",
    "NBclassifier = nltk.NaiveBayesClassifier.train(train_set)\n",
    "accuracy = nltk.classify.accuracy(NBclassifier, test_set)\n",
    "print(f\"Accuracy with combined unigram and sentiment score:{accuracy}\")\n",
    "\n",
    "end = time.time()\n",
    "print(f\"\\nExecution time: {end - start} seconds\")"
   ]
  },
  {
   "cell_type": "code",
   "execution_count": 197,
   "id": "9d3f9b0c",
   "metadata": {},
   "outputs": [
    {
     "name": "stdout",
     "output_type": "stream",
     "text": [
      "Each fold size: 14011\n",
      "0 0.866604810506031\n",
      "1 0.8665334380129898\n",
      "2 0.8621797159374777\n",
      "3 0.8659624580686603\n",
      "4 0.8629648133609307\n",
      "mean accuracy 0.8648490471772179\n"
     ]
    }
   ],
   "source": [
    "# perform the cross-validation on the featuresets with word features and generate accuracy\n",
    "num_folds = 5\n",
    "cross_validation_accuracy(num_folds, unigram_OpinionBool_featuresets)"
   ]
  },
  {
   "cell_type": "code",
   "execution_count": 196,
   "id": "f25bff34",
   "metadata": {},
   "outputs": [
    {
     "name": "stdout",
     "output_type": "stream",
     "text": [
      "\n",
      "Confusion_Matrix----\n",
      "\n",
      "   |    1    0 |\n",
      "--+-----------+\n",
      "1 |<8925>1633 |\n",
      "0 | 1200<9259>|\n",
      "--+-----------+\n",
      "(row = reference; col = test)\n",
      "\n",
      "\n",
      "\n",
      "Evaluation_Metrics----\n",
      "\n",
      "\tPrecision\tRecall\t    F1\t Specificity\n",
      "0 \t      0.850      0.885      0.867      0.845\n",
      "1 \t      0.881      0.845      0.863      0.885\n"
     ]
    }
   ],
   "source": [
    "cm_eval_print(test_set)"
   ]
  },
  {
   "cell_type": "code",
   "execution_count": null,
   "id": "4985e1e6",
   "metadata": {},
   "outputs": [],
   "source": []
  },
  {
   "cell_type": "code",
   "execution_count": 13,
   "id": "51982b67",
   "metadata": {},
   "outputs": [],
   "source": [
    "def StrongOpinion_features(document, pos_lex, neg_lex):  \n",
    "    document_words = set(document)\n",
    "    features = {}\n",
    "    pos_count = 0\n",
    "    neg_count = 0   \n",
    "    for word in document_words:\n",
    "        if word in pos_lex:\n",
    "            pos_count += 1                       \n",
    "        if word in neg_lex:\n",
    "            neg_count += 1       \n",
    "        if pos_count + neg_count >= 2:\n",
    "            opinion_strength = True             \n",
    "        else:\n",
    "            opinion_strength = False       \n",
    "        features['strong_opinion'] = opinion_strength    \n",
    "    for word in title_features:\n",
    "        features[f'W_{word}'] = (word in document_words)\n",
    "                \n",
    "    return features"
   ]
  },
  {
   "cell_type": "code",
   "execution_count": 14,
   "id": "cb62b580",
   "metadata": {},
   "outputs": [],
   "source": [
    "StrongOpinion_featuresets = [(StrongOpinion_features(doc, pos_lex, neg_lex), label) for (doc, label) in documents]"
   ]
  },
  {
   "cell_type": "code",
   "execution_count": 34,
   "id": "7861a06b",
   "metadata": {},
   "outputs": [
    {
     "name": "stdout",
     "output_type": "stream",
     "text": [
      "Accuracy with combined unigram and opinion strength score:0.865061616786411\n",
      "\n",
      "Execution time: 161.1317481994629 seconds\n"
     ]
    }
   ],
   "source": [
    "start = time.time()\n",
    "\n",
    "train_set, test_set = StrongOpinion_featuresets[(round(.30 * len(StrongOpinion_featuresets))):], StrongOpinion_featuresets[:(round(.30 * len(StrongOpinion_featuresets)))]\n",
    "NBclassifier = nltk.NaiveBayesClassifier.train(train_set)\n",
    "accuracy = nltk.classify.accuracy(NBclassifier, test_set)\n",
    "print(f\"Accuracy with combined unigram and opinion strength score:{accuracy}\")\n",
    "\n",
    "end = time.time()\n",
    "print(f\"\\nExecution time: {end - start} seconds\")"
   ]
  },
  {
   "cell_type": "code",
   "execution_count": null,
   "id": "109e9f44",
   "metadata": {},
   "outputs": [],
   "source": [
    "# perform the cross-validation on the featuresets with word features and generate accuracy\n",
    "num_folds = 5\n",
    "cross_validation_accuracy(num_folds, PosNeg_Boolean_featuresets)"
   ]
  },
  {
   "cell_type": "markdown",
   "id": "e85033d5",
   "metadata": {},
   "source": [
    "<h3>Test 8 Discussion: Opinion Sentiment Lexicon and Unigram Featureset</h3>\n",
    "    <br>\n",
    "    <body>\n",
    "    <b>Hypothesis:</b> Fakenews will be more strongly associated with a higher use of emotinally charged language whether negative or positive.\n",
    "    <br><br>\n",
    "    To perform sentiment analysis, we used <b>Bing Liu's Opinion Lexicon*</b>. We selected this lexicon because it was an unscored binary lexicon, so we were able to stem the lexicon entries without having to handle different scores belonging to multiple words that share a common stem. \n",
    "    <br><br>Adding sentiment-based features to unigrams in our featureset did not improve accuracy using the NLTK NB Classifier. In fact, <b>it fell slightly, from 86.6 to 86.5</b>. \n",
    "Although there was some assoication between <b>higher scores in both the positive and (more strongly) the negative category for fakenews</b>, in the <b>Most Important Featuers</b> index, the highest rank -- a negative count of 6 -- rates only 143rd, so they did not affect the model significantly.\n",
    "    <br><br>Modifying the evaluation method in our feature extraction function from a count to a <b>boolean \"strong\" positive or negative</b> based on a <b>>=2 count threshold</b> gave better results. This finding makes sense in the context of fakenews evaluation, because this allows the evaluation to focus simply on strongly emotionally charged language, rather than particular discrete counts.  \n",
    "<br><br>Further simplifying the opinion feature to simplpy reflect whether the sum of the count of positive and negative for a given document was >= 2 slightly reduced accuracy.\n",
    "<br><br>\n",
    "* Citation:\n",
    "    This lexicon was first published by Bing Liu in conjunction with: Minqing Hu and Bing Liu, ``Mining and summarizing customer reviews.'', Proceedings of the ACM SIGKDD International Conference on Knowledge Discovery & Data Mining (KDD-2004), Seattle, Washington, USA, Aug 22-25, 2004.\n",
    "    </body>"
   ]
  },
  {
   "cell_type": "markdown",
   "id": "4c64b37c",
   "metadata": {},
   "source": [
    "<h3>Export Boolean Opinion Features Only (Pos/Neg) Features to CSV for Future Use</h3>"
   ]
  },
  {
   "cell_type": "code",
   "execution_count": 35,
   "id": "ac24dc7e",
   "metadata": {},
   "outputs": [],
   "source": [
    "def boolean_opinion_only_features(document, pos_lex, neg_lex):   \n",
    "    document_words = set(document)\n",
    "    features = {}\n",
    "    pos_count = 0\n",
    "    neg_count = 0  \n",
    "    for word in document_words:\n",
    "        if word in pos_lex:\n",
    "            pos_count += 1                     \n",
    "        if pos_count >= 2:\n",
    "            positive = True            \n",
    "        else:\n",
    "            positive = False \n",
    "            \n",
    "        if word in neg_lex:\n",
    "            neg_count += 1      \n",
    "        if neg_count >=2:\n",
    "            negative = True         \n",
    "        else:\n",
    "            negative = False\n",
    "        \n",
    "        features['strong_positive'] = positive\n",
    "        features['strong_negative'] = negative\n",
    "    \n",
    "    return features"
   ]
  },
  {
   "cell_type": "code",
   "execution_count": 36,
   "id": "959b9c6d",
   "metadata": {},
   "outputs": [],
   "source": [
    "boolean_opinion_only_features = [(boolean_opinion_only_features(d, pos_lex, neg_lex), l) for (d, l) in documents]"
   ]
  },
  {
   "cell_type": "code",
   "execution_count": 48,
   "id": "03226391",
   "metadata": {},
   "outputs": [],
   "source": [
    "bool_opinion_featureset_df = pd.DataFrame(boolean_opinion_only_features, columns=['features', 'label'])\n",
    "bool_opinion_features_df = pd.DataFrame(bool_opinion_featureset_df['features'].tolist())\n",
    "df_csv = pd.concat([bool_opinion_features_df, bool_opinion_featureset_df ['label']], axis=1)\n",
    "df_csv.to_csv('~/boolean_opinion_features_fakenews_df_canonical.csv', index=False)"
   ]
  },
  {
   "cell_type": "markdown",
   "id": "920e956c",
   "metadata": {},
   "source": [
    "<h1>Extracting Quantitative Linguistic Features from the Minimally Processed Dataset</h1>\n",
    "<br>\n",
    "<body>\n",
    "    Although the pre-processing steps that we undertook early in the process have been helpful in improving the Bag of Words (BoW) features, there is information loss that might be useful to building a robust classification model. \n",
    "    <br><br>\n",
    "    These quantitate linguistic features include:\n",
    "    <br>\n",
    "        * calculating the average word length (best done on unstemmed data without stopword filtering)\n",
    "        <br>\n",
    "        * calculating the percent of words in each document that are in ALL CAPS (cannot be done with lowercased tokens)\n",
    "        <br>\n",
    "        * calculating the percent of each document that is punctuation (cannot be done with data in which most or all punctuation has been removed)\n",
    "        <br>\n",
    "        * calculating the average length in words for each sentence in the main \"text\" body (cannot be done without sentence tokenization)\n",
    "    \n",
    "We extract those features in the section below and write the resulting featuresets to CSV for future use.\n",
    "    \n",
    "</body>"
   ]
  },
  {
   "cell_type": "code",
   "execution_count": 353,
   "id": "e66107eb",
   "metadata": {},
   "outputs": [],
   "source": [
    "# LOAD THE MINIMALLY PRE-PROCESSED DATASET\n",
    "\n",
    "df = pd.read_csv('~/min_process_fakenews_df_canonical.csv', \n",
    "                 index_col=None, \n",
    "                 header=0,\n",
    "                 names=['title', 'text', 'label'])\n",
    "\n",
    "# make a tuple of title, label for each row in the df\n",
    "tuple_rows = list(df.itertuples(index=False, name=None))\n",
    "\n",
    "# tokenize sentences in the title\n",
    "text_sents_tuple = [(sent_tokenize(text[1]), text[2]) for text in tuple_rows]\n",
    "text_documents = text_sents_tuple\n",
    "\n",
    "# tokenize words in the title\n",
    "title_words_tuple = [(word_tokenize(title[0]), title[2]) for title in tuple_rows]\n",
    "documents = title_words_tuple"
   ]
  },
  {
   "cell_type": "code",
   "execution_count": 6,
   "id": "ef3785b5",
   "metadata": {},
   "outputs": [],
   "source": [
    "# CREATE A FUNCTION TO CALCULATE THE AVERAGE WORD LENGTH IN EACH DOCUMENT\n",
    "\n",
    "def avg_word_length(document):\n",
    "    total_length = 0\n",
    "    word_count = 0\n",
    "    \n",
    "    for word in document:\n",
    "        total_length += len(word)\n",
    "        word_count += 1\n",
    "        \n",
    "    avg_word_len = total_length / word_count if word_count > 0 else 0\n",
    "    \n",
    "    return round(avg_word_len, 2)"
   ]
  },
  {
   "cell_type": "code",
   "execution_count": 4,
   "id": "ab108096",
   "metadata": {},
   "outputs": [],
   "source": [
    "# CREATE A FUNCTION TO CALCULATE THE PERCENT OF WORDS IN EACH DOCUMENT THAT ARE ALL CAPS\n",
    "\n",
    "def percent_ALL_CAP(document):\n",
    "    all_cap_count = 0\n",
    "    \n",
    "    for word in document:\n",
    "        if re.findall(r'([A-Z]+)\\b', word):\n",
    "            all_cap_count +=1\n",
    "\n",
    "    total_words = sum([1 for word in document if word.isalpha()])\n",
    "    \n",
    "    return round(all_cap_count/total_words, 2) if all_cap_count > 0 else 0"
   ]
  },
  {
   "cell_type": "code",
   "execution_count": 5,
   "id": "53b0aa22",
   "metadata": {},
   "outputs": [],
   "source": [
    "# CREATE A FUNCTION TO CALCULATE THE PERCENT OF CHARACTERS IN EACH DOCUMENT THAT ARE PUNCTUATION\n",
    "\n",
    "def percent_punct(document):\n",
    "    \n",
    "    count = sum([1 for token in document if token in string.punctuation])\n",
    "    \n",
    "    return round(count/(len(document)), 2) if len(document) > 0 else 0"
   ]
  },
  {
   "cell_type": "code",
   "execution_count": 207,
   "id": "9f02f298",
   "metadata": {},
   "outputs": [],
   "source": [
    "# create a featureset that combines the minimallly processed text linguistic features:\n",
    "## Average Word Length, % Capitals, % Punctuation \n",
    "\n",
    "combined_raw_featuresets = [(avg_word_length(title), percent_ALL_CAP(title), percent_punct(title),  cat) for (title, cat) in documents]"
   ]
  },
  {
   "cell_type": "code",
   "execution_count": 229,
   "id": "9a7e431a",
   "metadata": {},
   "outputs": [],
   "source": [
    "combined_raw_featuresets_df = pd.DataFrame(combined_raw_featuresets, columns=['word_length', 'all_caps', 'punct', 'label'])"
   ]
  },
  {
   "cell_type": "code",
   "execution_count": 374,
   "id": "0c76f4a1",
   "metadata": {},
   "outputs": [],
   "source": [
    "combined_raw_featuresets_df.to_csv('~/quant_linguistic_featuresets_df_canonical.csv', index=False)"
   ]
  },
  {
   "cell_type": "code",
   "execution_count": 364,
   "id": "1b0149f7",
   "metadata": {},
   "outputs": [],
   "source": [
    "# CREATE A FUNCTION TO CALCULATE SENTENCE LENGTH IN THE TEXT BODY FOR EACH DOCUMENT\n",
    "\n",
    "def avg_sentence_length(document):\n",
    "    total_words = 0\n",
    "    total_sentences = 0\n",
    "    \n",
    "    for sent in document:\n",
    "        # Tokenize the sentence into words\n",
    "        words = nltk.word_tokenize(sent)\n",
    "        \n",
    "        # Count the words in the current sentence\n",
    "        total_words += len(words)\n",
    "        \n",
    "        # Increment the total sentence count\n",
    "        total_sentences += 1\n",
    "    \n",
    "    # Calculate the average sentence length\n",
    "    returns = round(total_words / total_sentences, 2) if total_sentences > 0 else 0\n",
    "    \n",
    "    return returns"
   ]
  },
  {
   "cell_type": "code",
   "execution_count": 365,
   "id": "0aaf6089",
   "metadata": {},
   "outputs": [],
   "source": [
    "# create a featureset that combines the minimallly processed text linguistic features:\n",
    "## Average Word Length, % Capitals, % Punctuation \n",
    "\n",
    "avg_sent_len_featuresets = [(avg_sentence_length(text), cat) for (text, cat) in text_documents]"
   ]
  },
  {
   "cell_type": "code",
   "execution_count": 372,
   "id": "7cd39b94",
   "metadata": {},
   "outputs": [],
   "source": [
    "avg_sent_len_featuresets_df = pd.DataFrame(avg_sent_len_featuresets, columns=['avg_sen_length', 'label'])"
   ]
  },
  {
   "cell_type": "code",
   "execution_count": 375,
   "id": "14fe5786",
   "metadata": {},
   "outputs": [],
   "source": [
    "avg_sent_len_featuresets_df.to_csv('~/avg_sent_len_featuresets_df_canonical.csv', index=False)"
   ]
  },
  {
   "cell_type": "markdown",
   "id": "95c410ff",
   "metadata": {},
   "source": [
    "<h1>Test 9: Unigrams + Quantitative Linguistic Features</h1>"
   ]
  },
  {
   "cell_type": "code",
   "execution_count": 202,
   "id": "7c2cceb5",
   "metadata": {},
   "outputs": [],
   "source": [
    "# CREATE A DATAFRAME OF QUANTITATIVE LINGUISTIC FEATURES + UNIGRAM FEATURES\n",
    "df_title_unigrams = pd.read_csv('~/title_unigram_features_fakenews_df_canonical.csv')\n",
    "\n",
    "quant_ling_featuresets_df = pd.read_csv('~/title_quant_ling_featuresets_df_canonical.csv')\n",
    "\n",
    "remove_label1 = quant_ling_featuresets_df.pop('label')\n",
    "\n",
    "avg_sent_len_featuresets_df = pd.read_csv('~/avg_sent_len_featuresets_df_canonical.csv')\n",
    "\n",
    "remove_label2 = avg_sent_len_featuresets_df.pop('label')\n",
    "\n",
    "unigram_quant_ling_df = pd.concat([avg_sent_len_featuresets_df, quant_ling_featuresets_df, df_title_unigrams], axis=1)"
   ]
  },
  {
   "cell_type": "code",
   "execution_count": 255,
   "id": "5c009b78",
   "metadata": {},
   "outputs": [],
   "source": [
    "# CREATE A DATAFRAME OF ONLY QUANTITATIVE LINGUISTIC FEATURES\n",
    "quant_ling_featuresets_df = pd.read_csv('~/title_quant_ling_featuresets_df_canonical.csv')\n",
    "remove_label1 = quant_ling_featuresets_df.pop('label')\n",
    "avg_sent_len_featuresets_df = pd.read_csv('~/avg_sent_len_featuresets_df_canonical.csv')\n",
    "quant_ling_only_df = pd.concat([quant_ling_featuresets_df, avg_sent_len_featuresets_df], axis=1)"
   ]
  },
  {
   "cell_type": "code",
   "execution_count": 257,
   "id": "bc8a489a",
   "metadata": {},
   "outputs": [],
   "source": [
    "quant_ling_only_featuresets = [(dict(row.drop('label').items()), row['label']) for index, row in quant_ling_only_df.iterrows()]"
   ]
  },
  {
   "cell_type": "code",
   "execution_count": 258,
   "id": "51b5985c",
   "metadata": {},
   "outputs": [
    {
     "name": "stdout",
     "output_type": "stream",
     "text": [
      "Accuracy with combined unigram and quantitative linguistic features:0.7506780225531713\n",
      "\n",
      "Execution time: 0.2662849426269531 seconds\n"
     ]
    }
   ],
   "source": [
    "start = time.time()\n",
    "\n",
    "train_set, test_set = quant_ling_only_featuresets[(round(.30 * len(quant_ling_only_featuresets))):], quant_ling_only_featuresets[:(round(.30 * len(quant_ling_only_featuresets)))]\n",
    "NBclassifier = nltk.NaiveBayesClassifier.train(train_set)\n",
    "accuracy = nltk.classify.accuracy(NBclassifier, test_set)\n",
    "\n",
    "print(f\"Accuracy with combined unigram and quantitative linguistic features:{accuracy}\")\n",
    "\n",
    "end = time.time()\n",
    "print(f\"\\nExecution time: {end - start} seconds\")\n"
   ]
  },
  {
   "cell_type": "code",
   "execution_count": 263,
   "id": "ce44e311",
   "metadata": {
    "collapsed": true
   },
   "outputs": [
    {
     "name": "stdout",
     "output_type": "stream",
     "text": [
      "Most Informative Features\n",
      "                all_caps = 1.0               1.0 : 0.0    =    347.1 : 1.0\n",
      "          avg_sen_length = 0.0               1.0 : 0.0    =    338.9 : 1.0\n",
      "                all_caps = 0.36              1.0 : 0.0    =    183.1 : 1.0\n",
      "                all_caps = 0.24              1.0 : 0.0    =    144.9 : 1.0\n",
      "                all_caps = 0.43              1.0 : 0.0    =     93.4 : 1.0\n",
      "                all_caps = 0.4               1.0 : 0.0    =     67.3 : 1.0\n",
      "                all_caps = 0.19              1.0 : 0.0    =     59.7 : 1.0\n",
      "                all_caps = 0.45              1.0 : 0.0    =     59.2 : 1.0\n",
      "                all_caps = 0.21              1.0 : 0.0    =     47.3 : 1.0\n",
      "                all_caps = 0.38              1.0 : 0.0    =     42.8 : 1.0\n",
      "                all_caps = 0.5               1.0 : 0.0    =     42.1 : 1.0\n",
      "                all_caps = 0.27              1.0 : 0.0    =     36.4 : 1.0\n",
      "          avg_sen_length = 8.0               1.0 : 0.0    =     31.8 : 1.0\n",
      "                all_caps = 0.23              1.0 : 0.0    =     28.8 : 1.0\n",
      "          avg_sen_length = 13.0              1.0 : 0.0    =     28.4 : 1.0\n",
      "                   punct = 0.04              1.0 : 0.0    =     23.3 : 1.0\n",
      "             word_length = 4.52              1.0 : 0.0    =     20.3 : 1.0\n",
      "             word_length = 5.04              1.0 : 0.0    =     17.7 : 1.0\n",
      "             word_length = 4.48              1.0 : 0.0    =     15.3 : 1.0\n",
      "             word_length = 5.65              1.0 : 0.0    =     15.1 : 1.0\n"
     ]
    }
   ],
   "source": [
    "NBclassifier.show_most_informative_features(20)"
   ]
  },
  {
   "cell_type": "code",
   "execution_count": 259,
   "id": "180b97fa",
   "metadata": {},
   "outputs": [
    {
     "name": "stdout",
     "output_type": "stream",
     "text": [
      "\n",
      "Confusion_Matrix----\n",
      "\n",
      "     |    1    0 |\n",
      "    |    .    . |\n",
      "    |    0    0 |\n",
      "----+-----------+\n",
      "1.0 |<7231>3327 |\n",
      "0.0 | 1913<8546>|\n",
      "----+-----------+\n",
      "(row = reference; col = test)\n",
      "\n",
      "\n",
      "\n",
      "Evaluation_Metrics----\n",
      "\n",
      "\tPrecision\tRecall\t    F1\t Specificity\n",
      "0.0 \t      0.720      0.817      0.765      0.685\n",
      "1.0 \t      0.791      0.685      0.734      0.817\n"
     ]
    }
   ],
   "source": [
    "cm_eval_print(test_set)"
   ]
  },
  {
   "cell_type": "code",
   "execution_count": 211,
   "id": "04b77249",
   "metadata": {
    "scrolled": true
   },
   "outputs": [
    {
     "data": {
      "text/html": [
       "<div>\n",
       "<style scoped>\n",
       "    .dataframe tbody tr th:only-of-type {\n",
       "        vertical-align: middle;\n",
       "    }\n",
       "\n",
       "    .dataframe tbody tr th {\n",
       "        vertical-align: top;\n",
       "    }\n",
       "\n",
       "    .dataframe thead th {\n",
       "        text-align: right;\n",
       "    }\n",
       "</style>\n",
       "<table border=\"1\" class=\"dataframe\">\n",
       "  <thead>\n",
       "    <tr style=\"text-align: right;\">\n",
       "      <th></th>\n",
       "      <th>avg_sen_length</th>\n",
       "      <th>word_length</th>\n",
       "      <th>all_caps</th>\n",
       "      <th>punct</th>\n",
       "      <th>V_trump</th>\n",
       "      <th>V_new</th>\n",
       "      <th>V_video</th>\n",
       "      <th>V_time</th>\n",
       "      <th>V_york</th>\n",
       "      <th>V_us</th>\n",
       "      <th>...</th>\n",
       "      <th>V_disarm</th>\n",
       "      <th>V_pant</th>\n",
       "      <th>V_madonna</th>\n",
       "      <th>V_onto</th>\n",
       "      <th>V_guatemala</th>\n",
       "      <th>V_clerk</th>\n",
       "      <th>V_trader</th>\n",
       "      <th>V_paus</th>\n",
       "      <th>V_unknown</th>\n",
       "      <th>label</th>\n",
       "    </tr>\n",
       "  </thead>\n",
       "  <tbody>\n",
       "    <tr>\n",
       "      <th>0</th>\n",
       "      <td>24.86</td>\n",
       "      <td>3.00</td>\n",
       "      <td>0.60</td>\n",
       "      <td>0.27</td>\n",
       "      <td>False</td>\n",
       "      <td>False</td>\n",
       "      <td>False</td>\n",
       "      <td>False</td>\n",
       "      <td>False</td>\n",
       "      <td>False</td>\n",
       "      <td>...</td>\n",
       "      <td>False</td>\n",
       "      <td>False</td>\n",
       "      <td>False</td>\n",
       "      <td>False</td>\n",
       "      <td>False</td>\n",
       "      <td>False</td>\n",
       "      <td>False</td>\n",
       "      <td>False</td>\n",
       "      <td>False</td>\n",
       "      <td>1</td>\n",
       "    </tr>\n",
       "    <tr>\n",
       "      <th>1</th>\n",
       "      <td>22.41</td>\n",
       "      <td>7.00</td>\n",
       "      <td>0.00</td>\n",
       "      <td>0.11</td>\n",
       "      <td>False</td>\n",
       "      <td>False</td>\n",
       "      <td>False</td>\n",
       "      <td>False</td>\n",
       "      <td>False</td>\n",
       "      <td>False</td>\n",
       "      <td>...</td>\n",
       "      <td>False</td>\n",
       "      <td>False</td>\n",
       "      <td>False</td>\n",
       "      <td>False</td>\n",
       "      <td>False</td>\n",
       "      <td>False</td>\n",
       "      <td>False</td>\n",
       "      <td>False</td>\n",
       "      <td>False</td>\n",
       "      <td>1</td>\n",
       "    </tr>\n",
       "    <tr>\n",
       "      <th>2</th>\n",
       "      <td>20.24</td>\n",
       "      <td>4.50</td>\n",
       "      <td>0.00</td>\n",
       "      <td>0.00</td>\n",
       "      <td>False</td>\n",
       "      <td>False</td>\n",
       "      <td>False</td>\n",
       "      <td>False</td>\n",
       "      <td>False</td>\n",
       "      <td>False</td>\n",
       "      <td>...</td>\n",
       "      <td>False</td>\n",
       "      <td>False</td>\n",
       "      <td>False</td>\n",
       "      <td>False</td>\n",
       "      <td>False</td>\n",
       "      <td>False</td>\n",
       "      <td>False</td>\n",
       "      <td>False</td>\n",
       "      <td>False</td>\n",
       "      <td>1</td>\n",
       "    </tr>\n",
       "    <tr>\n",
       "      <th>3</th>\n",
       "      <td>39.62</td>\n",
       "      <td>4.48</td>\n",
       "      <td>0.00</td>\n",
       "      <td>0.08</td>\n",
       "      <td>False</td>\n",
       "      <td>True</td>\n",
       "      <td>False</td>\n",
       "      <td>False</td>\n",
       "      <td>False</td>\n",
       "      <td>False</td>\n",
       "      <td>...</td>\n",
       "      <td>False</td>\n",
       "      <td>False</td>\n",
       "      <td>False</td>\n",
       "      <td>False</td>\n",
       "      <td>False</td>\n",
       "      <td>False</td>\n",
       "      <td>False</td>\n",
       "      <td>False</td>\n",
       "      <td>False</td>\n",
       "      <td>1</td>\n",
       "    </tr>\n",
       "    <tr>\n",
       "      <th>4</th>\n",
       "      <td>25.65</td>\n",
       "      <td>3.39</td>\n",
       "      <td>0.11</td>\n",
       "      <td>0.17</td>\n",
       "      <td>False</td>\n",
       "      <td>False</td>\n",
       "      <td>False</td>\n",
       "      <td>False</td>\n",
       "      <td>False</td>\n",
       "      <td>False</td>\n",
       "      <td>...</td>\n",
       "      <td>False</td>\n",
       "      <td>False</td>\n",
       "      <td>False</td>\n",
       "      <td>False</td>\n",
       "      <td>False</td>\n",
       "      <td>False</td>\n",
       "      <td>False</td>\n",
       "      <td>False</td>\n",
       "      <td>False</td>\n",
       "      <td>0</td>\n",
       "    </tr>\n",
       "  </tbody>\n",
       "</table>\n",
       "<p>5 rows × 3871 columns</p>\n",
       "</div>"
      ],
      "text/plain": [
       "   avg_sen_length  word_length  all_caps  punct  V_trump  V_new  V_video  \\\n",
       "0           24.86         3.00      0.60   0.27    False  False    False   \n",
       "1           22.41         7.00      0.00   0.11    False  False    False   \n",
       "2           20.24         4.50      0.00   0.00    False  False    False   \n",
       "3           39.62         4.48      0.00   0.08    False   True    False   \n",
       "4           25.65         3.39      0.11   0.17    False  False    False   \n",
       "\n",
       "   V_time  V_york   V_us  ...  V_disarm  V_pant  V_madonna  V_onto  \\\n",
       "0   False   False  False  ...     False   False      False   False   \n",
       "1   False   False  False  ...     False   False      False   False   \n",
       "2   False   False  False  ...     False   False      False   False   \n",
       "3   False   False  False  ...     False   False      False   False   \n",
       "4   False   False  False  ...     False   False      False   False   \n",
       "\n",
       "   V_guatemala  V_clerk  V_trader  V_paus  V_unknown  label  \n",
       "0        False    False     False   False      False      1  \n",
       "1        False    False     False   False      False      1  \n",
       "2        False    False     False   False      False      1  \n",
       "3        False    False     False   False      False      1  \n",
       "4        False    False     False   False      False      0  \n",
       "\n",
       "[5 rows x 3871 columns]"
      ]
     },
     "execution_count": 211,
     "metadata": {},
     "output_type": "execute_result"
    }
   ],
   "source": [
    "unigram_quant_ling_df.head()"
   ]
  },
  {
   "cell_type": "code",
   "execution_count": 212,
   "id": "a653c67c",
   "metadata": {},
   "outputs": [],
   "source": [
    "unigram_quant_ling_featuresets = [(dict(row.drop('label').items()), row['label']) for index, row in unigram_quant_ling_df.iterrows()]"
   ]
  },
  {
   "cell_type": "code",
   "execution_count": 213,
   "id": "72dd38a8",
   "metadata": {},
   "outputs": [
    {
     "name": "stdout",
     "output_type": "stream",
     "text": [
      "Accuracy with combined unigram and quantitative linguistic features:0.8801446448113432\n",
      "\n",
      "Execution time: 120.22409510612488 seconds\n"
     ]
    }
   ],
   "source": [
    "start = time.time()\n",
    "\n",
    "train_set, test_set = unigram_quant_ling_featuresets[(round(.30 * len(unigram_quant_ling_featuresets))):], unigram_quant_ling_featuresets[:(round(.30 * len(unigram_quant_ling_featuresets)))]\n",
    "NBclassifier = nltk.NaiveBayesClassifier.train(train_set)\n",
    "accuracy = nltk.classify.accuracy(NBclassifier, test_set)\n",
    "\n",
    "print(f\"Accuracy with combined unigram and quantitative linguistic features:{accuracy}\")\n",
    "\n",
    "end = time.time()\n",
    "print(f\"\\nExecution time: {end - start} seconds\")\n"
   ]
  },
  {
   "cell_type": "code",
   "execution_count": 215,
   "id": "c8af5390",
   "metadata": {
    "collapsed": true
   },
   "outputs": [
    {
     "name": "stdout",
     "output_type": "stream",
     "text": [
      "Most Informative Features\n",
      "                all_caps = 1.0                 1 : 0      =    347.1 : 1.0\n",
      "          avg_sen_length = 0.0                 1 : 0      =    338.9 : 1.0\n",
      "                V_hilari = True                1 : 0      =    187.1 : 1.0\n",
      "                all_caps = 0.36                1 : 0      =    183.1 : 1.0\n",
      "                   V_wow = True                1 : 0      =    162.3 : 1.0\n",
      "                all_caps = 0.24                1 : 0      =    144.9 : 1.0\n",
      "               V_myanmar = True                0 : 1      =    141.1 : 1.0\n",
      "                     V_… = True                1 : 0      =     95.7 : 1.0\n",
      "                all_caps = 0.43                1 : 0      =     93.4 : 1.0\n",
      "                all_caps = 0.4                 1 : 0      =     67.3 : 1.0\n",
      "                V_awesom = True                1 : 0      =     64.6 : 1.0\n",
      "                all_caps = 0.19                1 : 0      =     59.7 : 1.0\n",
      "                all_caps = 0.45                1 : 0      =     59.2 : 1.0\n",
      "                 V_bundi = True                1 : 0      =     57.2 : 1.0\n",
      "                     V_! = True                1 : 0      =     56.9 : 1.0\n",
      "                 V_crook = True                1 : 0      =     53.9 : 1.0\n",
      "                  V_york = True                0 : 1      =     50.5 : 1.0\n",
      "               V_zimbabw = True                0 : 1      =     50.4 : 1.0\n",
      "             V_brilliant = True                1 : 0      =     49.6 : 1.0\n",
      "                 V_onion = True                1 : 0      =     49.2 : 1.0\n",
      "                all_caps = 0.21                1 : 0      =     47.3 : 1.0\n",
      "                V_finest = True                1 : 0      =     47.2 : 1.0\n",
      "                   V_oop = True                1 : 0      =     47.2 : 1.0\n",
      "               V_disgust = True                1 : 0      =     46.8 : 1.0\n",
      "             V_breitbart = True                0 : 1      =     45.3 : 1.0\n",
      "              V_bombshel = True                1 : 0      =     45.2 : 1.0\n",
      "                 V_mugab = True                0 : 1      =     44.8 : 1.0\n",
      "                all_caps = 0.38                1 : 0      =     42.8 : 1.0\n",
      "                all_caps = 0.5                 1 : 0      =     42.1 : 1.0\n",
      "                 V_video = True                1 : 0      =     38.8 : 1.0\n",
      "                     V_– = True                1 : 0      =     37.6 : 1.0\n",
      "                all_caps = 0.27                1 : 0      =     36.4 : 1.0\n",
      "                V_reuter = True                0 : 1      =     36.2 : 1.0\n",
      "                V_antifa = True                1 : 0      =     35.8 : 1.0\n",
      "                   V_beg = True                1 : 0      =     33.8 : 1.0\n",
      "               V_mnuchin = True                0 : 1      =     33.5 : 1.0\n",
      "                  V_epic = True                1 : 0      =     32.8 : 1.0\n",
      "                 V_laugh = True                1 : 0      =     32.6 : 1.0\n",
      "                  V_damn = True                1 : 0      =     32.5 : 1.0\n",
      "             V_hypocrisi = True                1 : 0      =     32.5 : 1.0\n",
      "                   V_a** = True                1 : 0      =     31.8 : 1.0\n",
      "          avg_sen_length = 8.0                 1 : 0      =     31.8 : 1.0\n",
      "       V_#blacklivesmatt = True                1 : 0      =     31.1 : 1.0\n",
      "                  V_thug = True                1 : 0      =     30.3 : 1.0\n",
      "                 V_gonna = True                1 : 0      =     29.8 : 1.0\n",
      "                 V_insan = True                1 : 0      =     29.1 : 1.0\n",
      "                all_caps = 0.23                1 : 0      =     28.8 : 1.0\n",
      "               V_furious = True                1 : 0      =     28.7 : 1.0\n",
      "          avg_sen_length = 13.0                1 : 0      =     28.4 : 1.0\n",
      "                  V_sh*t = True                1 : 0      =     27.9 : 1.0\n",
      "                V_unreal = True                1 : 0      =     27.8 : 1.0\n",
      "                    V_xi = True                0 : 1      =     26.6 : 1.0\n",
      "              V_undercov = True                1 : 0      =     26.4 : 1.0\n",
      "                 V_youll = True                1 : 0      =     26.4 : 1.0\n",
      "                 V_smack = True                1 : 0      =     25.1 : 1.0\n",
      "               V_baghdad = True                0 : 1      =     24.2 : 1.0\n",
      "                 V_envoy = True                0 : 1      =     24.2 : 1.0\n",
      "             V_halloween = True                1 : 0      =     23.9 : 1.0\n",
      "                V_macron = True                0 : 1      =     23.8 : 1.0\n",
      "                   V_mic = True                1 : 0      =     23.8 : 1.0\n",
      "                   punct = 0.04                1 : 0      =     23.3 : 1.0\n",
      "                    V_en = True                1 : 0      =     23.1 : 1.0\n",
      "                  V_seth = True                1 : 0      =     23.1 : 1.0\n",
      "               V_tantrum = True                1 : 0      =     22.4 : 1.0\n",
      "               V_somalia = True                0 : 1      =     22.2 : 1.0\n",
      "              V_cambodia = True                0 : 1      =     21.6 : 1.0\n",
      "                   V_rio = True                0 : 1      =     21.6 : 1.0\n",
      "                  V_brag = True                1 : 0      =     21.5 : 1.0\n",
      "                 V_viral = True                1 : 0      =     21.4 : 1.0\n",
      "                V_hyster = True                1 : 0      =     21.1 : 1.0\n",
      "                V_pathet = True                1 : 0      =     21.1 : 1.0\n",
      "                 V_shred = True                1 : 0      =     21.1 : 1.0\n",
      "                 V_expos = True                1 : 0      =     20.7 : 1.0\n",
      "              V_sanction = True                0 : 1      =     20.3 : 1.0\n",
      "                 V_idiot = True                1 : 0      =     20.3 : 1.0\n",
      "             word_length = 4.52                1 : 0      =     20.3 : 1.0\n",
      "                 V_liter = True                1 : 0      =     20.2 : 1.0\n",
      "                V_bizarr = True                1 : 0      =     19.9 : 1.0\n",
      "                 V_czech = True                0 : 1      =     19.6 : 1.0\n",
      "                V_soccer = True                0 : 1      =     19.6 : 1.0\n",
      "               V_kremlin = True                0 : 1      =     19.1 : 1.0\n",
      "                V_tucker = True                1 : 0      =     19.1 : 1.0\n",
      "               V_ireland = True                0 : 1      =     18.9 : 1.0\n",
      "               V_septemb = True                0 : 1      =     18.9 : 1.0\n",
      "              V_farright = True                0 : 1      =     18.9 : 1.0\n",
      "                V_scream = True                1 : 0      =     18.7 : 1.0\n",
      "              V_hypocrit = True                1 : 0      =     18.5 : 1.0\n",
      "          V_antiamerican = True                1 : 0      =     18.4 : 1.0\n",
      "                 V_scath = True                1 : 0      =     18.4 : 1.0\n",
      "            V_disrespect = True                1 : 0      =     18.3 : 1.0\n",
      "                   V_kkk = True                1 : 0      =     18.3 : 1.0\n",
      "             V_tillerson = True                0 : 1      =     18.2 : 1.0\n",
      "               V_dumbest = True                1 : 0      =     17.7 : 1.0\n",
      "                 V_satan = True                1 : 0      =     17.7 : 1.0\n",
      "             word_length = 5.04                1 : 0      =     17.7 : 1.0\n",
      "                V_incred = True                1 : 0      =     17.5 : 1.0\n",
      "                 V_egypt = True                0 : 1      =     17.4 : 1.0\n",
      "            V_girlfriend = True                1 : 0      =     17.1 : 1.0\n",
      "                   V_hed = True                1 : 0      =     17.1 : 1.0\n",
      "                  V_ouch = True                1 : 0      =     17.1 : 1.0\n"
     ]
    }
   ],
   "source": [
    "NBclassifier.show_most_informative_features(100)"
   ]
  },
  {
   "cell_type": "markdown",
   "id": "431eee63",
   "metadata": {},
   "source": [
    "<h3>Inspecting the Dataset for Empty Text Fields</h3>"
   ]
  },
  {
   "cell_type": "code",
   "execution_count": 218,
   "id": "38a68847",
   "metadata": {},
   "outputs": [],
   "source": [
    "sen_lens = avg_sent_len_featuresets_df['avg_sen_length'].to_list()"
   ]
  },
  {
   "cell_type": "code",
   "execution_count": 247,
   "id": "21937e70",
   "metadata": {},
   "outputs": [
    {
     "data": {
      "text/plain": [
       "703"
      ]
     },
     "execution_count": 247,
     "metadata": {},
     "output_type": "execute_result"
    }
   ],
   "source": [
    "zero_sent = [sen for sen in sen_lens if sen==0.0]\n",
    "len(zero_sent)"
   ]
  },
  {
   "cell_type": "code",
   "execution_count": 250,
   "id": "8373a88a",
   "metadata": {},
   "outputs": [
    {
     "name": "stdout",
     "output_type": "stream",
     "text": [
      "[114, 123, 169, 214, 289]\n"
     ]
    }
   ],
   "source": [
    "def find_zero_sens(sen_lens):\n",
    "    zero_sens = []\n",
    "    for i, sen in enumerate(sen_lens):\n",
    "        if sen == 0.0:\n",
    "            zero_sens.append(i) # Append the index directly\n",
    "    return zero_sens\n",
    "\n",
    "print(find_zero_sens(sen_lens)[:5])"
   ]
  },
  {
   "cell_type": "code",
   "execution_count": 248,
   "id": "c3b15878",
   "metadata": {},
   "outputs": [
    {
     "data": {
      "text/html": [
       "<div>\n",
       "<style scoped>\n",
       "    .dataframe tbody tr th:only-of-type {\n",
       "        vertical-align: middle;\n",
       "    }\n",
       "\n",
       "    .dataframe tbody tr th {\n",
       "        vertical-align: top;\n",
       "    }\n",
       "\n",
       "    .dataframe thead th {\n",
       "        text-align: right;\n",
       "    }\n",
       "</style>\n",
       "<table border=\"1\" class=\"dataframe\">\n",
       "  <thead>\n",
       "    <tr style=\"text-align: right;\">\n",
       "      <th></th>\n",
       "      <th>title</th>\n",
       "      <th>text</th>\n",
       "      <th>label</th>\n",
       "    </tr>\n",
       "  </thead>\n",
       "  <tbody>\n",
       "    <tr>\n",
       "      <th>114</th>\n",
       "      <td>FAKE NEWS! MAXINE WATERS and JOY REID Make Out...</td>\n",
       "      <td></td>\n",
       "      <td>1</td>\n",
       "    </tr>\n",
       "    <tr>\n",
       "      <th>123</th>\n",
       "      <td>TRUMP’S GREAT ANSWER On Terror Attack: “It’s a...</td>\n",
       "      <td></td>\n",
       "      <td>1</td>\n",
       "    </tr>\n",
       "    <tr>\n",
       "      <th>169</th>\n",
       "      <td>TOMI LAHREN: “AFTER 8 YEARS…We were part of a ...</td>\n",
       "      <td></td>\n",
       "      <td>1</td>\n",
       "    </tr>\n",
       "    <tr>\n",
       "      <th>214</th>\n",
       "      <td>MICHAEL FLYNN’S LAWYER Releases Statement Scor...</td>\n",
       "      <td></td>\n",
       "      <td>1</td>\n",
       "    </tr>\n",
       "    <tr>\n",
       "      <th>289</th>\n",
       "      <td>FAKE NEWS ALERT! FORMER GOV OF MARYLAND Calls ...</td>\n",
       "      <td></td>\n",
       "      <td>1</td>\n",
       "    </tr>\n",
       "  </tbody>\n",
       "</table>\n",
       "</div>"
      ],
      "text/plain": [
       "                                                 title text  label\n",
       "114  FAKE NEWS! MAXINE WATERS and JOY REID Make Out...           1\n",
       "123  TRUMP’S GREAT ANSWER On Terror Attack: “It’s a...           1\n",
       "169  TOMI LAHREN: “AFTER 8 YEARS…We were part of a ...           1\n",
       "214  MICHAEL FLYNN’S LAWYER Releases Statement Scor...           1\n",
       "289  FAKE NEWS ALERT! FORMER GOV OF MARYLAND Calls ...           1"
      ]
     },
     "execution_count": 248,
     "metadata": {},
     "output_type": "execute_result"
    }
   ],
   "source": [
    "df.loc[[114, 123, 169, 214, 289]]"
   ]
  },
  {
   "cell_type": "code",
   "execution_count": 254,
   "id": "14c54341",
   "metadata": {},
   "outputs": [
    {
     "name": "stdout",
     "output_type": "stream",
     "text": [
      "Each fold size: 14011\n",
      "0 0.8811647990864321\n",
      "1 0.8821640139890087\n",
      "2 0.872885589893655\n",
      "3 0.883876953821997\n",
      "4 0.8763114695596317\n",
      "mean accuracy 0.8792805652701448\n"
     ]
    }
   ],
   "source": [
    "# perform the cross-validation on the featuresets with word features and generate accuracy\n",
    "num_folds = 5\n",
    "cross_validation_accuracy(num_folds, unigram_quant_ling_featuresets)"
   ]
  },
  {
   "cell_type": "code",
   "execution_count": 214,
   "id": "7a6e547e",
   "metadata": {
    "scrolled": true
   },
   "outputs": [
    {
     "name": "stdout",
     "output_type": "stream",
     "text": [
      "\n",
      "Confusion_Matrix----\n",
      "\n",
      "   |    1    0 |\n",
      "--+-----------+\n",
      "1 |<8898>1660 |\n",
      "0 |  859<9600>|\n",
      "--+-----------+\n",
      "(row = reference; col = test)\n",
      "\n",
      "\n",
      "\n",
      "Evaluation_Metrics----\n",
      "\n",
      "\tPrecision\tRecall\t    F1\t Specificity\n",
      "0 \t      0.853      0.918      0.884      0.843\n",
      "1 \t      0.912      0.843      0.876      0.918\n"
     ]
    }
   ],
   "source": [
    "cm_eval_print(test_set)"
   ]
  },
  {
   "cell_type": "markdown",
   "id": "c83ecc38",
   "metadata": {},
   "source": [
    "<h1>Test 10: Large Composite Featureset:</h1><h3>Title Unigrams/Text Bigrams/Opinion Lexicon/Quantitative Linguistic Features</h3>"
   ]
  },
  {
   "cell_type": "code",
   "execution_count": 264,
   "id": "92cc0faf",
   "metadata": {},
   "outputs": [],
   "source": [
    "# CREATE A DATAFRAME OF QUANTITATIVE LINGUISTIC FEATURES + UNIGRAM FEATURES\n",
    "title_unigrams_df = pd.read_csv('~/title_unigram_features_fakenews_df_canonical.csv')\n",
    "\n",
    "text_bigrams_df = pd.read_csv('~/text_bigram_only_features_fakenews_df_canonical.csv')\n",
    "remove_label1 = text_bigrams_df.pop('label')\n",
    "\n",
    "quant_ling_featuresets_df = pd.read_csv('~/title_quant_ling_featuresets_df_canonical.csv')\n",
    "remove_label2 = quant_ling_featuresets_df.pop('label')\n",
    "\n",
    "avg_sent_len_featuresets_df = pd.read_csv('~/avg_sent_len_featuresets_df_canonical.csv')\n",
    "remove_label3 = avg_sent_len_featuresets_df.pop('label')\n",
    "\n",
    "opinion_only_df = pd.read_csv('~/sentiment_unigram_features_fakenews_df_canonical.csv')\n",
    "remove_label4 = opinion_only_df.pop('label')"
   ]
  },
  {
   "cell_type": "code",
   "execution_count": 265,
   "id": "e3862fa2",
   "metadata": {},
   "outputs": [],
   "source": [
    "large_composite_df = pd.concat([avg_sent_len_featuresets_df, quant_ling_featuresets_df,opinion_only_df, text_bigrams_df, title_unigrams_df], axis=1)"
   ]
  },
  {
   "cell_type": "code",
   "execution_count": 267,
   "id": "5f9e01d8",
   "metadata": {
    "scrolled": true
   },
   "outputs": [
    {
     "data": {
      "text/html": [
       "<div>\n",
       "<style scoped>\n",
       "    .dataframe tbody tr th:only-of-type {\n",
       "        vertical-align: middle;\n",
       "    }\n",
       "\n",
       "    .dataframe tbody tr th {\n",
       "        vertical-align: top;\n",
       "    }\n",
       "\n",
       "    .dataframe thead th {\n",
       "        text-align: right;\n",
       "    }\n",
       "</style>\n",
       "<table border=\"1\" class=\"dataframe\">\n",
       "  <thead>\n",
       "    <tr style=\"text-align: right;\">\n",
       "      <th></th>\n",
       "      <th>avg_sen_length</th>\n",
       "      <th>word_length</th>\n",
       "      <th>all_caps</th>\n",
       "      <th>punct</th>\n",
       "      <th>positivecount</th>\n",
       "      <th>negativecount</th>\n",
       "      <th>B_suu_kyi</th>\n",
       "      <th>B_hong_kong</th>\n",
       "      <th>B_shi_ite</th>\n",
       "      <th>B_bashar_alassad</th>\n",
       "      <th>...</th>\n",
       "      <th>V_disarm</th>\n",
       "      <th>V_pant</th>\n",
       "      <th>V_madonna</th>\n",
       "      <th>V_onto</th>\n",
       "      <th>V_guatemala</th>\n",
       "      <th>V_clerk</th>\n",
       "      <th>V_trader</th>\n",
       "      <th>V_paus</th>\n",
       "      <th>V_unknown</th>\n",
       "      <th>label</th>\n",
       "    </tr>\n",
       "  </thead>\n",
       "  <tbody>\n",
       "    <tr>\n",
       "      <th>0</th>\n",
       "      <td>24.86</td>\n",
       "      <td>3.00</td>\n",
       "      <td>0.60</td>\n",
       "      <td>0.27</td>\n",
       "      <td>1</td>\n",
       "      <td>1</td>\n",
       "      <td>False</td>\n",
       "      <td>False</td>\n",
       "      <td>False</td>\n",
       "      <td>False</td>\n",
       "      <td>...</td>\n",
       "      <td>False</td>\n",
       "      <td>False</td>\n",
       "      <td>False</td>\n",
       "      <td>False</td>\n",
       "      <td>False</td>\n",
       "      <td>False</td>\n",
       "      <td>False</td>\n",
       "      <td>False</td>\n",
       "      <td>False</td>\n",
       "      <td>1</td>\n",
       "    </tr>\n",
       "    <tr>\n",
       "      <th>1</th>\n",
       "      <td>22.41</td>\n",
       "      <td>7.00</td>\n",
       "      <td>0.00</td>\n",
       "      <td>0.11</td>\n",
       "      <td>0</td>\n",
       "      <td>1</td>\n",
       "      <td>False</td>\n",
       "      <td>False</td>\n",
       "      <td>False</td>\n",
       "      <td>False</td>\n",
       "      <td>...</td>\n",
       "      <td>False</td>\n",
       "      <td>False</td>\n",
       "      <td>False</td>\n",
       "      <td>False</td>\n",
       "      <td>False</td>\n",
       "      <td>False</td>\n",
       "      <td>False</td>\n",
       "      <td>False</td>\n",
       "      <td>False</td>\n",
       "      <td>1</td>\n",
       "    </tr>\n",
       "    <tr>\n",
       "      <th>2</th>\n",
       "      <td>20.24</td>\n",
       "      <td>4.50</td>\n",
       "      <td>0.00</td>\n",
       "      <td>0.00</td>\n",
       "      <td>1</td>\n",
       "      <td>3</td>\n",
       "      <td>False</td>\n",
       "      <td>False</td>\n",
       "      <td>False</td>\n",
       "      <td>False</td>\n",
       "      <td>...</td>\n",
       "      <td>False</td>\n",
       "      <td>False</td>\n",
       "      <td>False</td>\n",
       "      <td>False</td>\n",
       "      <td>False</td>\n",
       "      <td>False</td>\n",
       "      <td>False</td>\n",
       "      <td>False</td>\n",
       "      <td>False</td>\n",
       "      <td>1</td>\n",
       "    </tr>\n",
       "    <tr>\n",
       "      <th>3</th>\n",
       "      <td>39.62</td>\n",
       "      <td>4.48</td>\n",
       "      <td>0.00</td>\n",
       "      <td>0.08</td>\n",
       "      <td>1</td>\n",
       "      <td>1</td>\n",
       "      <td>False</td>\n",
       "      <td>False</td>\n",
       "      <td>False</td>\n",
       "      <td>False</td>\n",
       "      <td>...</td>\n",
       "      <td>False</td>\n",
       "      <td>False</td>\n",
       "      <td>False</td>\n",
       "      <td>False</td>\n",
       "      <td>False</td>\n",
       "      <td>False</td>\n",
       "      <td>False</td>\n",
       "      <td>False</td>\n",
       "      <td>False</td>\n",
       "      <td>1</td>\n",
       "    </tr>\n",
       "    <tr>\n",
       "      <th>4</th>\n",
       "      <td>25.65</td>\n",
       "      <td>3.39</td>\n",
       "      <td>0.11</td>\n",
       "      <td>0.17</td>\n",
       "      <td>0</td>\n",
       "      <td>2</td>\n",
       "      <td>False</td>\n",
       "      <td>False</td>\n",
       "      <td>False</td>\n",
       "      <td>False</td>\n",
       "      <td>...</td>\n",
       "      <td>False</td>\n",
       "      <td>False</td>\n",
       "      <td>False</td>\n",
       "      <td>False</td>\n",
       "      <td>False</td>\n",
       "      <td>False</td>\n",
       "      <td>False</td>\n",
       "      <td>False</td>\n",
       "      <td>False</td>\n",
       "      <td>0</td>\n",
       "    </tr>\n",
       "  </tbody>\n",
       "</table>\n",
       "<p>5 rows × 5125 columns</p>\n",
       "</div>"
      ],
      "text/plain": [
       "   avg_sen_length  word_length  all_caps  punct  positivecount  negativecount  \\\n",
       "0           24.86         3.00      0.60   0.27              1              1   \n",
       "1           22.41         7.00      0.00   0.11              0              1   \n",
       "2           20.24         4.50      0.00   0.00              1              3   \n",
       "3           39.62         4.48      0.00   0.08              1              1   \n",
       "4           25.65         3.39      0.11   0.17              0              2   \n",
       "\n",
       "   B_suu_kyi  B_hong_kong  B_shi_ite  B_bashar_alassad  ...  V_disarm  V_pant  \\\n",
       "0      False        False      False             False  ...     False   False   \n",
       "1      False        False      False             False  ...     False   False   \n",
       "2      False        False      False             False  ...     False   False   \n",
       "3      False        False      False             False  ...     False   False   \n",
       "4      False        False      False             False  ...     False   False   \n",
       "\n",
       "   V_madonna  V_onto  V_guatemala  V_clerk  V_trader  V_paus  V_unknown  label  \n",
       "0      False   False        False    False     False   False      False      1  \n",
       "1      False   False        False    False     False   False      False      1  \n",
       "2      False   False        False    False     False   False      False      1  \n",
       "3      False   False        False    False     False   False      False      1  \n",
       "4      False   False        False    False     False   False      False      0  \n",
       "\n",
       "[5 rows x 5125 columns]"
      ]
     },
     "execution_count": 267,
     "metadata": {},
     "output_type": "execute_result"
    }
   ],
   "source": [
    "large_composite_df.head()"
   ]
  },
  {
   "cell_type": "code",
   "execution_count": 268,
   "id": "c251bff5",
   "metadata": {},
   "outputs": [],
   "source": [
    "large_composite_featuresets = [(dict(row.drop('label').items()), row['label']) for index, row in large_composite_df.iterrows()]"
   ]
  },
  {
   "cell_type": "code",
   "execution_count": 282,
   "id": "79650157",
   "metadata": {},
   "outputs": [
    {
     "name": "stdout",
     "output_type": "stream",
     "text": [
      "Accuracy with combined unigram and quantitative linguistic features:0.8780035209592235\n",
      "\n",
      "Execution time: 166.2221622467041 seconds\n"
     ]
    }
   ],
   "source": [
    "start = time.time()\n",
    "\n",
    "train_set, test_set = large_composite_featuresets[(round(.30 * len(large_composite_featuresets))):], large_composite_featuresets[:(round(.30 * len(large_composite_featuresets)))]\n",
    "NBclassifier = nltk.NaiveBayesClassifier.train(train_set)\n",
    "accuracy = nltk.classify.accuracy(NBclassifier, test_set)\n",
    "\n",
    "print(f\"Accuracy with combined unigram and quantitative linguistic features:{accuracy}\")\n",
    "\n",
    "end = time.time()\n",
    "print(f\"\\nExecution time: {end - start} seconds\")\n"
   ]
  },
  {
   "cell_type": "code",
   "execution_count": 271,
   "id": "02003edd",
   "metadata": {},
   "outputs": [
    {
     "name": "stdout",
     "output_type": "stream",
     "text": [
      "\n",
      "Confusion_Matrix----\n",
      "\n",
      "   |    1    0 |\n",
      "--+-----------+\n",
      "1 |<8866>1692 |\n",
      "0 |  872<9587>|\n",
      "--+-----------+\n",
      "(row = reference; col = test)\n",
      "\n",
      "\n",
      "\n",
      "Evaluation_Metrics----\n",
      "\n",
      "\tPrecision\tRecall\t    F1\t Specificity\n",
      "0 \t      0.850      0.917      0.882      0.840\n",
      "1 \t      0.910      0.840      0.874      0.917\n"
     ]
    }
   ],
   "source": [
    "cm_eval_print(test_set)"
   ]
  },
  {
   "cell_type": "code",
   "execution_count": 281,
   "id": "1fd76a6c",
   "metadata": {},
   "outputs": [
    {
     "name": "stdout",
     "output_type": "stream",
     "text": [
      "Each fold size: 14011\n",
      "0 0.8792377417743201\n",
      "1 0.8805224466490614\n",
      "2 0.8716722575119549\n",
      "3 0.8827349939333381\n",
      "4 0.8753836271500963\n",
      "mean accuracy 0.8779102134037542\n"
     ]
    }
   ],
   "source": [
    "# perform the cross-validation on the featuresets with word features and generate accuracy\n",
    "num_folds = 5\n",
    "cross_validation_accuracy(num_folds, large_composite_featuresets)"
   ]
  },
  {
   "cell_type": "code",
   "execution_count": 284,
   "id": "51285b74",
   "metadata": {},
   "outputs": [
    {
     "name": "stdout",
     "output_type": "stream",
     "text": [
      "Most Informative Features\n",
      "                all_caps = 1.0                 1 : 0      =    347.1 : 1.0\n",
      "          avg_sen_length = 0.0                 1 : 0      =    338.9 : 1.0\n",
      "                V_hilari = True                1 : 0      =    187.1 : 1.0\n",
      "                all_caps = 0.36                1 : 0      =    183.1 : 1.0\n",
      "                   V_wow = True                1 : 0      =    162.3 : 1.0\n",
      "                all_caps = 0.24                1 : 0      =    144.9 : 1.0\n",
      "               V_myanmar = True                0 : 1      =    141.1 : 1.0\n",
      "                     V_… = True                1 : 0      =     95.7 : 1.0\n",
      "               B_suu_kyi = True                0 : 1      =     94.6 : 1.0\n",
      "                all_caps = 0.43                1 : 0      =     93.4 : 1.0\n",
      "                all_caps = 0.4                 1 : 0      =     67.3 : 1.0\n",
      "                V_awesom = True                1 : 0      =     64.6 : 1.0\n",
      "                all_caps = 0.19                1 : 0      =     59.7 : 1.0\n",
      "                all_caps = 0.45                1 : 0      =     59.2 : 1.0\n",
      "                 V_bundi = True                1 : 0      =     57.2 : 1.0\n",
      "                     V_! = True                1 : 0      =     56.9 : 1.0\n",
      "                 V_crook = True                1 : 0      =     53.9 : 1.0\n",
      "                  V_york = True                0 : 1      =     50.5 : 1.0\n",
      "               V_zimbabw = True                0 : 1      =     50.4 : 1.0\n",
      "             V_brilliant = True                1 : 0      =     49.6 : 1.0\n",
      "                 V_onion = True                1 : 0      =     49.2 : 1.0\n",
      "                all_caps = 0.21                1 : 0      =     47.3 : 1.0\n",
      "                V_finest = True                1 : 0      =     47.2 : 1.0\n",
      "                   V_oop = True                1 : 0      =     47.2 : 1.0\n",
      "               V_disgust = True                1 : 0      =     46.8 : 1.0\n",
      "             V_breitbart = True                0 : 1      =     45.3 : 1.0\n",
      "              V_bombshel = True                1 : 0      =     45.2 : 1.0\n",
      "                 V_mugab = True                0 : 1      =     44.8 : 1.0\n",
      "                all_caps = 0.38                1 : 0      =     42.8 : 1.0\n",
      "                all_caps = 0.5                 1 : 0      =     42.1 : 1.0\n",
      "                 V_video = True                1 : 0      =     38.8 : 1.0\n",
      "                     V_– = True                1 : 0      =     37.6 : 1.0\n",
      "                all_caps = 0.27                1 : 0      =     36.4 : 1.0\n",
      "                V_reuter = True                0 : 1      =     36.2 : 1.0\n",
      "                V_antifa = True                1 : 0      =     35.8 : 1.0\n",
      "                   V_beg = True                1 : 0      =     33.8 : 1.0\n",
      "               V_mnuchin = True                0 : 1      =     33.5 : 1.0\n",
      "                  V_epic = True                1 : 0      =     32.8 : 1.0\n",
      "                 V_laugh = True                1 : 0      =     32.6 : 1.0\n",
      "                  V_damn = True                1 : 0      =     32.5 : 1.0\n",
      "             V_hypocrisi = True                1 : 0      =     32.5 : 1.0\n",
      "                   V_a** = True                1 : 0      =     31.8 : 1.0\n",
      "          avg_sen_length = 8.0                 1 : 0      =     31.8 : 1.0\n",
      "       V_#blacklivesmatt = True                1 : 0      =     31.1 : 1.0\n",
      "                  V_thug = True                1 : 0      =     30.3 : 1.0\n",
      "                 V_gonna = True                1 : 0      =     29.8 : 1.0\n",
      "                 V_insan = True                1 : 0      =     29.1 : 1.0\n",
      "                all_caps = 0.23                1 : 0      =     28.8 : 1.0\n",
      "               V_furious = True                1 : 0      =     28.7 : 1.0\n",
      "          avg_sen_length = 13.0                1 : 0      =     28.4 : 1.0\n",
      "                  V_sh*t = True                1 : 0      =     27.9 : 1.0\n",
      "                V_unreal = True                1 : 0      =     27.8 : 1.0\n",
      "                    V_xi = True                0 : 1      =     26.6 : 1.0\n",
      "              V_undercov = True                1 : 0      =     26.4 : 1.0\n",
      "                 V_youll = True                1 : 0      =     26.4 : 1.0\n",
      "                 V_smack = True                1 : 0      =     25.1 : 1.0\n",
      "               V_baghdad = True                0 : 1      =     24.2 : 1.0\n",
      "                 V_envoy = True                0 : 1      =     24.2 : 1.0\n",
      "             V_halloween = True                1 : 0      =     23.9 : 1.0\n",
      "                V_macron = True                0 : 1      =     23.8 : 1.0\n",
      "                   V_mic = True                1 : 0      =     23.8 : 1.0\n",
      "                   punct = 0.04                1 : 0      =     23.3 : 1.0\n",
      "                    V_en = True                1 : 0      =     23.1 : 1.0\n",
      "                  V_seth = True                1 : 0      =     23.1 : 1.0\n",
      "               V_tantrum = True                1 : 0      =     22.4 : 1.0\n",
      "               V_somalia = True                0 : 1      =     22.2 : 1.0\n",
      "              V_cambodia = True                0 : 1      =     21.6 : 1.0\n",
      "                   V_rio = True                0 : 1      =     21.6 : 1.0\n",
      "                  V_brag = True                1 : 0      =     21.5 : 1.0\n",
      "                 V_viral = True                1 : 0      =     21.4 : 1.0\n",
      "                V_hyster = True                1 : 0      =     21.1 : 1.0\n",
      "                V_pathet = True                1 : 0      =     21.1 : 1.0\n",
      "                 V_shred = True                1 : 0      =     21.1 : 1.0\n",
      "                 V_expos = True                1 : 0      =     20.7 : 1.0\n",
      "              V_sanction = True                0 : 1      =     20.3 : 1.0\n",
      "                 V_idiot = True                1 : 0      =     20.3 : 1.0\n",
      "             word_length = 4.52                1 : 0      =     20.3 : 1.0\n",
      "                 V_liter = True                1 : 0      =     20.2 : 1.0\n",
      "                V_bizarr = True                1 : 0      =     19.9 : 1.0\n",
      "                 V_czech = True                0 : 1      =     19.6 : 1.0\n",
      "                V_soccer = True                0 : 1      =     19.6 : 1.0\n",
      "               V_kremlin = True                0 : 1      =     19.1 : 1.0\n",
      "                V_tucker = True                1 : 0      =     19.1 : 1.0\n",
      "               V_ireland = True                0 : 1      =     18.9 : 1.0\n",
      "               V_septemb = True                0 : 1      =     18.9 : 1.0\n",
      "              V_farright = True                0 : 1      =     18.9 : 1.0\n",
      "                V_scream = True                1 : 0      =     18.7 : 1.0\n",
      "              V_hypocrit = True                1 : 0      =     18.5 : 1.0\n",
      "          V_antiamerican = True                1 : 0      =     18.4 : 1.0\n",
      "                 V_scath = True                1 : 0      =     18.4 : 1.0\n",
      "            V_disrespect = True                1 : 0      =     18.3 : 1.0\n",
      "                   V_kkk = True                1 : 0      =     18.3 : 1.0\n",
      "             V_tillerson = True                0 : 1      =     18.2 : 1.0\n",
      "               V_dumbest = True                1 : 0      =     17.7 : 1.0\n",
      "                 V_satan = True                1 : 0      =     17.7 : 1.0\n",
      "             word_length = 5.04                1 : 0      =     17.7 : 1.0\n",
      "                V_incred = True                1 : 0      =     17.5 : 1.0\n",
      "                 V_egypt = True                0 : 1      =     17.4 : 1.0\n",
      "            V_girlfriend = True                1 : 0      =     17.1 : 1.0\n",
      "                   V_hed = True                1 : 0      =     17.1 : 1.0\n",
      "                  V_ouch = True                1 : 0      =     17.1 : 1.0\n",
      "              V_pedophil = True                1 : 0      =     17.1 : 1.0\n",
      "                V_predat = True                1 : 0      =     17.1 : 1.0\n",
      "                  V_quot = True                1 : 0      =     17.1 : 1.0\n",
      "                    V_pm = True                0 : 1      =     16.6 : 1.0\n",
      "                 V_freak = True                1 : 0      =     16.5 : 1.0\n",
      "               V_birther = True                1 : 0      =     16.4 : 1.0\n",
      "            V_napolitano = True                1 : 0      =     16.4 : 1.0\n",
      "                 V_roast = True                1 : 0      =     16.4 : 1.0\n",
      "                  V_rudi = True                1 : 0      =     16.4 : 1.0\n",
      "                V_thread = True                1 : 0      =     16.4 : 1.0\n",
      "                   V_abe = True                0 : 1      =     16.4 : 1.0\n",
      "                V_brutal = True                1 : 0      =     16.3 : 1.0\n",
      "                   V_feb = True                0 : 1      =     16.3 : 1.0\n",
      "                 V_polar = True                0 : 1      =     16.3 : 1.0\n",
      "                 V_screw = True                1 : 0      =     16.3 : 1.0\n",
      "                   V_kid = True                1 : 0      =     16.2 : 1.0\n",
      "               V_vicious = True                1 : 0      =     15.7 : 1.0\n",
      "              V_thailand = True                0 : 1      =     15.6 : 1.0\n",
      "               V_kurdish = True                0 : 1      =     15.5 : 1.0\n",
      "                  V_trey = True                1 : 0      =     15.5 : 1.0\n",
      "               V_perfect = True                1 : 0      =     15.4 : 1.0\n",
      "                V_rapist = True                1 : 0      =     15.3 : 1.0\n",
      "             word_length = 4.48                1 : 0      =     15.3 : 1.0\n",
      "                   V_eus = True                0 : 1      =     15.3 : 1.0\n",
      "              V_watchdog = True                0 : 1      =     15.2 : 1.0\n",
      "                    V_fl = True                1 : 0      =     15.1 : 1.0\n",
      "                  V_okay = True                1 : 0      =     15.1 : 1.0\n",
      "           V_supremacist = True                1 : 0      =     15.1 : 1.0\n",
      "                    V_tx = True                1 : 0      =     15.1 : 1.0\n",
      "                V_humili = True                1 : 0      =     15.1 : 1.0\n",
      "             word_length = 5.65                1 : 0      =     15.1 : 1.0\n",
      "          avg_sen_length = 36.6                1 : 0      =     15.1 : 1.0\n",
      "                  V_boko = True                0 : 1      =     14.9 : 1.0\n",
      "                 V_haram = True                0 : 1      =     14.9 : 1.0\n",
      "                  V_irma = True                0 : 1      =     14.8 : 1.0\n",
      "                  V_rant = True                1 : 0      =     14.8 : 1.0\n",
      "                   V_doj = True                1 : 0      =     14.7 : 1.0\n",
      "               V_patrick = True                1 : 0      =     14.7 : 1.0\n",
      "                  V_loom = True                0 : 1      =     14.7 : 1.0\n",
      "             V_embarrass = True                1 : 0      =     14.5 : 1.0\n",
      "                 V_nafta = True                0 : 1      =     14.5 : 1.0\n",
      "                   V_blm = True                1 : 0      =     14.4 : 1.0\n",
      "                V_implod = True                1 : 0      =     14.4 : 1.0\n",
      "                V_skewer = True                1 : 0      =     14.4 : 1.0\n",
      "                  V_suck = True                1 : 0      =     14.4 : 1.0\n",
      "                 V_weird = True                1 : 0      =     14.4 : 1.0\n",
      "          avg_sen_length = 6.0                 1 : 0      =     14.4 : 1.0\n",
      "                 V_decri = True                0 : 1      =     14.3 : 1.0\n",
      "                  V_fate = True                0 : 1      =     14.3 : 1.0\n",
      "            V_postbrexit = True                0 : 1      =     14.3 : 1.0\n",
      "                  V_stun = True                1 : 0      =     14.2 : 1.0\n",
      "             V_flashback = True                1 : 0      =     14.0 : 1.0\n",
      "                 V_bigot = True                1 : 0      =     13.9 : 1.0\n",
      "          avg_sen_length = 15.67               1 : 0      =     13.9 : 1.0\n",
      "               V_pension = True                0 : 1      =     13.7 : 1.0\n",
      "                 V_arrog = True                1 : 0      =     13.7 : 1.0\n",
      "                 V_commi = True                1 : 0      =     13.7 : 1.0\n",
      "                V_costum = True                1 : 0      =     13.7 : 1.0\n",
      "                 V_cough = True                1 : 0      =     13.7 : 1.0\n",
      "                V_surfac = True                1 : 0      =     13.7 : 1.0\n",
      "                    V_ca = True                1 : 0      =     13.6 : 1.0\n",
      "                   V_edt = True                0 : 1      =     13.6 : 1.0\n",
      "                 V_pursu = True                0 : 1      =     13.6 : 1.0\n",
      "                 V_spain = True                0 : 1      =     13.6 : 1.0\n",
      "           negativecount = 6                   1 : 0      =     13.5 : 1.0\n",
      "               V_taliban = True                0 : 1      =     13.3 : 1.0\n",
      "                  V_amaz = True                1 : 0      =     13.3 : 1.0\n",
      "                 V_craig = True                1 : 0      =     13.1 : 1.0\n",
      "                  V_flip = True                1 : 0      =     13.1 : 1.0\n",
      "                   V_hey = True                1 : 0      =     13.1 : 1.0\n",
      "                  V_prof = True                1 : 0      =     13.1 : 1.0\n",
      "                     V_u = True                1 : 0      =     13.1 : 1.0\n",
      "             word_length = 5.94                1 : 0      =     13.1 : 1.0\n",
      "               V_opposit = True                0 : 1      =     13.0 : 1.0\n",
      "                all_caps = 0.33                1 : 0      =     13.0 : 1.0\n",
      "                 V_avert = True                0 : 1      =     12.9 : 1.0\n",
      "               V_setback = True                0 : 1      =     12.9 : 1.0\n",
      "              V_wikileak = True                1 : 0      =     12.7 : 1.0\n",
      "                   V_cop = True                1 : 0      =     12.7 : 1.0\n",
      "             V_communism = True                1 : 0      =     12.4 : 1.0\n",
      "              V_demolish = True                1 : 0      =     12.4 : 1.0\n",
      "                  V_eras = True                1 : 0      =     12.4 : 1.0\n",
      "                 V_pirro = True                1 : 0      =     12.4 : 1.0\n",
      "                  V_rude = True                1 : 0      =     12.4 : 1.0\n",
      "             V_smackdown = True                1 : 0      =     12.4 : 1.0\n",
      "               V_deficit = True                0 : 1      =     12.3 : 1.0\n",
      "                  V_exil = True                0 : 1      =     12.3 : 1.0\n",
      "              V_thursday = True                0 : 1      =     12.2 : 1.0\n",
      "                 V_watch = True                1 : 0      =     12.2 : 1.0\n",
      "                  V_nail = True                1 : 0      =     12.2 : 1.0\n",
      "                all_caps = 0.3                 1 : 0      =     12.0 : 1.0\n",
      "                V_stupid = True                1 : 0      =     12.0 : 1.0\n",
      "                 V_proof = True                1 : 0      =     12.0 : 1.0\n",
      "                 V_chill = True                1 : 0      =     11.9 : 1.0\n",
      "                 V_guest = True                1 : 0      =     11.8 : 1.0\n",
      "               V_dialogu = True                0 : 1      =     11.8 : 1.0\n",
      "                 V_audio = True                1 : 0      =     11.8 : 1.0\n",
      "                 V_dutch = True                0 : 1      =     11.8 : 1.0\n",
      "                    V_ha = True                1 : 0      =     11.7 : 1.0\n",
      "                V_molest = True                1 : 0      =     11.7 : 1.0\n",
      "                   V_sum = True                1 : 0      =     11.7 : 1.0\n",
      "          avg_sen_length = 40.6                1 : 0      =     11.7 : 1.0\n",
      "          avg_sen_length = 30.19               0 : 1      =     11.6 : 1.0\n",
      "                  V_curb = True                0 : 1      =     11.6 : 1.0\n",
      "                  V_abba = True                0 : 1      =     11.6 : 1.0\n",
      "               V_displac = True                0 : 1      =     11.6 : 1.0\n",
      "                  V_emir = True                0 : 1      =     11.6 : 1.0\n",
      "                 V_hurdl = True                0 : 1      =     11.6 : 1.0\n",
      "                V_labour = True                0 : 1      =     11.6 : 1.0\n",
      "               V_persist = True                0 : 1      =     11.6 : 1.0\n",
      "                V_provoc = True                0 : 1      =     11.6 : 1.0\n",
      "                V_runoff = True                0 : 1      =     11.6 : 1.0\n",
      "               V_tougher = True                0 : 1      =     11.6 : 1.0\n",
      "           V_uncertainti = True                0 : 1      =     11.6 : 1.0\n",
      "                 V_troll = True                1 : 0      =     11.6 : 1.0\n",
      "               V_disturb = True                1 : 0      =     11.5 : 1.0\n",
      "                    V_oh = True                1 : 0      =     11.4 : 1.0\n",
      "               V_deadlin = True                0 : 1      =     11.4 : 1.0\n",
      "                V_madrid = True                0 : 1      =     11.4 : 1.0\n",
      "                V_resolv = True                0 : 1      =     11.4 : 1.0\n",
      "                  V_f*ck = True                1 : 0      =     11.4 : 1.0\n",
      "                 V_jesus = True                1 : 0      =     11.3 : 1.0\n",
      "             word_length = 4.84                1 : 0      =     11.3 : 1.0\n",
      "                  V_bibl = True                1 : 0      =     11.0 : 1.0\n",
      "               V_destroy = True                1 : 0      =     11.0 : 1.0\n",
      "             V_discoveri = True                1 : 0      =     11.0 : 1.0\n",
      "                 V_exact = True                1 : 0      =     11.0 : 1.0\n",
      "                  V_nypd = True                1 : 0      =     11.0 : 1.0\n",
      "                    V_qb = True                1 : 0      =     11.0 : 1.0\n",
      "                  V_vinc = True                1 : 0      =     11.0 : 1.0\n",
      "              V_vineyard = True                1 : 0      =     11.0 : 1.0\n",
      "             word_length = 6.07                1 : 0      =     11.0 : 1.0\n",
      "          avg_sen_length = 14.0                1 : 0      =     11.0 : 1.0\n",
      "          avg_sen_length = 64.0                1 : 0      =     11.0 : 1.0\n",
      "                V_racist = True                1 : 0      =     11.0 : 1.0\n",
      "               V_contend = True                0 : 1      =     11.0 : 1.0\n",
      "                 V_malta = True                0 : 1      =     11.0 : 1.0\n",
      "               V_reassur = True                0 : 1      =     11.0 : 1.0\n",
      "               V_podesta = True                1 : 0      =     10.9 : 1.0\n",
      "                  V_time = True                0 : 1      =     10.9 : 1.0\n",
      "                   V_dad = True                1 : 0      =     10.9 : 1.0\n",
      "                  V_imag = True                1 : 0      =     10.9 : 1.0\n",
      "                  V_seek = True                0 : 1      =     10.9 : 1.0\n",
      "              V_confeder = True                1 : 0      =     10.9 : 1.0\n",
      "                V_caught = True                1 : 0      =     10.8 : 1.0\n",
      "                all_caps = 0.13                1 : 0      =     10.8 : 1.0\n",
      "               V_couldnt = True                1 : 0      =     10.8 : 1.0\n",
      "                  V_room = True                1 : 0      =     10.7 : 1.0\n",
      "                  V_shes = True                1 : 0      =     10.6 : 1.0\n",
      "                   V_wsj = True                0 : 1      =     10.6 : 1.0\n",
      "                V_anchor = True                1 : 0      =     10.4 : 1.0\n",
      "                V_detent = True                0 : 1      =     10.4 : 1.0\n",
      "               V_blatant = True                1 : 0      =     10.4 : 1.0\n",
      "                 V_truli = True                1 : 0      =     10.4 : 1.0\n",
      "                V_valeri = True                1 : 0      =     10.4 : 1.0\n",
      "          avg_sen_length = 39.4                1 : 0      =     10.4 : 1.0\n",
      "          avg_sen_length = 23.09               0 : 1      =     10.3 : 1.0\n",
      "                   V_kyi = True                0 : 1      =     10.3 : 1.0\n",
      "                  V_mali = True                0 : 1      =     10.3 : 1.0\n",
      "                  V_rein = True                0 : 1      =     10.3 : 1.0\n",
      "                   V_suu = True                0 : 1      =     10.3 : 1.0\n",
      "                  V_milo = True                0 : 1      =     10.2 : 1.0\n",
      "              V_northern = True                0 : 1      =     10.2 : 1.0\n",
      "                V_taiwan = True                0 : 1      =     10.2 : 1.0\n",
      "                  V_euro = True                0 : 1      =     10.2 : 1.0\n",
      "                V_coward = True                1 : 0      =     10.2 : 1.0\n",
      "                 V_guess = True                1 : 0      =     10.2 : 1.0\n",
      "                   V_eas = True                0 : 1      =     10.1 : 1.0\n",
      "                 V_break = True                1 : 0      =     10.0 : 1.0\n",
      "                V_anonym = True                1 : 0      =      9.9 : 1.0\n",
      "             V_spokesman = True                0 : 1      =      9.9 : 1.0\n",
      "               V_inquiri = True                0 : 1      =      9.8 : 1.0\n",
      "                V_explod = True                1 : 0      =      9.8 : 1.0\n",
      "                 V_invad = True                1 : 0      =      9.8 : 1.0\n",
      "                    V_pa = True                1 : 0      =      9.8 : 1.0\n",
      "          avg_sen_length = 13.5                1 : 0      =      9.8 : 1.0\n",
      "                all_caps = 0.15                1 : 0      =      9.8 : 1.0\n",
      "             word_length = 7.14                0 : 1      =      9.8 : 1.0\n",
      "              V_brooklyn = True                0 : 1      =      9.8 : 1.0\n",
      "                  V_soro = True                1 : 0      =      9.7 : 1.0\n",
      "                 V_kenya = True                0 : 1      =      9.7 : 1.0\n",
      "                  V_kurd = True                0 : 1      =      9.7 : 1.0\n",
      "                V_christ = True                1 : 0      =      9.7 : 1.0\n",
      "                  V_hook = True                1 : 0      =      9.7 : 1.0\n",
      "               V_horizon = True                1 : 0      =      9.7 : 1.0\n",
      "                  V_pure = True                1 : 0      =      9.7 : 1.0\n",
      "                V_watter = True                1 : 0      =      9.7 : 1.0\n",
      "                all_caps = 0.8                 1 : 0      =      9.7 : 1.0\n",
      "             word_length = 5.95                1 : 0      =      9.7 : 1.0\n",
      "          avg_sen_length = 11.5                1 : 0      =      9.7 : 1.0\n",
      "          avg_sen_length = 38.78               1 : 0      =      9.7 : 1.0\n",
      "                V_coalit = True                0 : 1      =      9.7 : 1.0\n",
      "                V_oregon = True                1 : 0      =      9.7 : 1.0\n",
      "                V_atlant = True                0 : 1      =      9.6 : 1.0\n",
      "               V_extrump = True                0 : 1      =      9.6 : 1.0\n",
      "                V_lockhe = True                0 : 1      =      9.6 : 1.0\n",
      "                  V_peru = True                0 : 1      =      9.6 : 1.0\n",
      "                 V_rajoy = True                0 : 1      =      9.6 : 1.0\n",
      "                V_trader = True                0 : 1      =      9.6 : 1.0\n",
      "                V_region = True                0 : 1      =      9.6 : 1.0\n",
      "              V_shutdown = True                0 : 1      =      9.6 : 1.0\n",
      "             V_indonesia = True                0 : 1      =      9.5 : 1.0\n",
      "                V_hammer = True                1 : 0      =      9.5 : 1.0\n",
      "                V_extend = True                0 : 1      =      9.5 : 1.0\n",
      "             V_wednesday = True                0 : 1      =      9.5 : 1.0\n",
      "                V_someth = True                1 : 0      =      9.5 : 1.0\n",
      "                V_feloni = True                1 : 0      =      9.4 : 1.0\n",
      "                 V_sleep = True                1 : 0      =      9.4 : 1.0\n",
      "                 V_whine = True                1 : 0      =      9.4 : 1.0\n",
      "                 V_shock = True                1 : 0      =      9.4 : 1.0\n",
      "                 V_prove = True                1 : 0      =      9.4 : 1.0\n",
      "                  V_rico = True                0 : 1      =      9.4 : 1.0\n",
      "             word_length = 3.96                1 : 0      =      9.4 : 1.0\n",
      "                  V_lash = True                1 : 0      =      9.3 : 1.0\n",
      "                 V_japan = True                0 : 1      =      9.3 : 1.0\n",
      "              V_accident = True                1 : 0      =      9.2 : 1.0\n",
      "                  V_huma = True                1 : 0      =      9.2 : 1.0\n",
      "            V_parliament = True                0 : 1      =      9.2 : 1.0\n",
      "                V_assang = True                1 : 0      =      9.2 : 1.0\n",
      "                 V_trash = True                1 : 0      =      9.2 : 1.0\n",
      "                V_exampl = True                1 : 0      =      9.0 : 1.0\n",
      "                 V_gitmo = True                1 : 0      =      9.0 : 1.0\n",
      "                  V_vile = True                1 : 0      =      9.0 : 1.0\n",
      "                 V_brave = True                1 : 0      =      9.0 : 1.0\n",
      "          avg_sen_length = 2.0                 1 : 0      =      9.0 : 1.0\n",
      "          avg_sen_length = 40.11               1 : 0      =      9.0 : 1.0\n",
      "                 V_boost = True                0 : 1      =      9.0 : 1.0\n",
      "               V_lebanon = True                0 : 1      =      9.0 : 1.0\n",
      "                  V_pact = True                0 : 1      =      9.0 : 1.0\n",
      "                    V_1b = True                0 : 1      =      9.0 : 1.0\n",
      "                V_convoy = True                0 : 1      =      9.0 : 1.0\n",
      "                  V_gulf = True                0 : 1      =      9.0 : 1.0\n",
      "         V_parliamentari = True                0 : 1      =      9.0 : 1.0\n",
      "             V_peacekeep = True                0 : 1      =      9.0 : 1.0\n",
      "               V_proceed = True                0 : 1      =      9.0 : 1.0\n",
      "                  V_rift = True                0 : 1      =      9.0 : 1.0\n",
      "               V_tourism = True                0 : 1      =      9.0 : 1.0\n",
      "                  V_gave = True                1 : 0      =      8.9 : 1.0\n",
      "             word_length = 6.22                0 : 1      =      8.9 : 1.0\n",
      "               V_terrifi = True                1 : 0      =      8.9 : 1.0\n",
      "                   V_urg = True                0 : 1      =      8.9 : 1.0\n",
      "                   V_nut = True                1 : 0      =      8.9 : 1.0\n",
      "            V_referendum = True                0 : 1      =      8.8 : 1.0\n",
      "           V_whistleblow = True                1 : 0      =      8.8 : 1.0\n",
      "                  V_veto = True                0 : 1      =      8.8 : 1.0\n",
      "          avg_sen_length = 11.0                1 : 0      =      8.8 : 1.0\n",
      "                V_finger = True                1 : 0      =      8.7 : 1.0\n",
      "                   V_pig = True                1 : 0      =      8.7 : 1.0\n",
      "                   V_bid = True                0 : 1      =      8.7 : 1.0\n",
      "                 V_nanci = True                1 : 0      =      8.7 : 1.0\n",
      "                V_abedin = True                1 : 0      =      8.7 : 1.0\n",
      "                V_remind = True                1 : 0      =      8.7 : 1.0\n",
      "                V_disput = True                0 : 1      =      8.6 : 1.0\n",
      "               V_cartoon = True                1 : 0      =      8.6 : 1.0\n",
      "                V_realiz = True                1 : 0      =      8.6 : 1.0\n",
      "                V_taxpay = True                1 : 0      =      8.6 : 1.0\n",
      "                V_whoopi = True                1 : 0      =      8.6 : 1.0\n",
      "               V_hanniti = True                1 : 0      =      8.6 : 1.0\n",
      "                   V_rip = True                1 : 0      =      8.6 : 1.0\n",
      "                V_extens = True                0 : 1      =      8.6 : 1.0\n",
      "               V_subsidi = True                0 : 1      =      8.6 : 1.0\n",
      "                  V_huge = True                1 : 0      =      8.5 : 1.0\n",
      "                   V_lie = True                1 : 0      =      8.5 : 1.0\n",
      "                  V_oliv = True                1 : 0      =      8.5 : 1.0\n",
      "             V_hezbollah = True                0 : 1      =      8.4 : 1.0\n",
      "                  V_crop = True                1 : 0      =      8.4 : 1.0\n",
      "         V_extraordinari = True                1 : 0      =      8.4 : 1.0\n",
      "                 V_meyer = True                1 : 0      =      8.4 : 1.0\n",
      "                   V_out = True                1 : 0      =      8.4 : 1.0\n",
      "             word_length = 5.05                1 : 0      =      8.4 : 1.0\n",
      "             word_length = 2.75                1 : 0      =      8.4 : 1.0\n",
      "          avg_sen_length = 57.5                1 : 0      =      8.4 : 1.0\n",
      "          avg_sen_length = 66.0                1 : 0      =      8.4 : 1.0\n",
      "                 V_maxin = True                1 : 0      =      8.3 : 1.0\n",
      "                  V_mull = True                0 : 1      =      8.3 : 1.0\n",
      "                    V_nz = True                0 : 1      =      8.3 : 1.0\n",
      "              V_reshuffl = True                0 : 1      =      8.3 : 1.0\n",
      "                  V_mock = True                1 : 0      =      8.3 : 1.0\n",
      "                 V_alert = True                1 : 0      =      8.2 : 1.0\n",
      "                V_puppet = True                1 : 0      =      8.2 : 1.0\n",
      "                 V_unarm = True                1 : 0      =      8.2 : 1.0\n",
      "                 V_steal = True                1 : 0      =      8.2 : 1.0\n",
      "                 V_south = True                0 : 1      =      8.2 : 1.0\n",
      "              V_anderson = True                1 : 0      =      8.2 : 1.0\n",
      "                 V_radic = True                1 : 0      =      8.2 : 1.0\n",
      "              V_unbeliev = True                1 : 0      =      8.2 : 1.0\n",
      "                  V_yell = True                1 : 0      =      8.2 : 1.0\n",
      "             word_length = 4.32                1 : 0      =      8.2 : 1.0\n",
      "                 V_korea = True                0 : 1      =      8.2 : 1.0\n",
      "                 V_emiss = True                0 : 1      =      8.2 : 1.0\n",
      "                  V_bust = True                1 : 0      =      8.2 : 1.0\n",
      "                    V_rt = True                1 : 0      =      8.1 : 1.0\n",
      "                 V_teach = True                1 : 0      =      8.1 : 1.0\n",
      "                V_reveal = True                1 : 0      =      8.1 : 1.0\n",
      "                  V_boom = True                1 : 0      =      8.1 : 1.0\n",
      "            V_indonesian = True                0 : 1      =      8.1 : 1.0\n",
      "             V_peninsula = True                0 : 1      =      8.1 : 1.0\n",
      "                 V_impos = True                0 : 1      =      8.1 : 1.0\n",
      "               V_turkish = True                0 : 1      =      8.0 : 1.0\n",
      "                V_exclus = True                0 : 1      =      8.0 : 1.0\n",
      "                   V_god = True                1 : 0      =      8.0 : 1.0\n",
      "                V_financ = True                0 : 1      =      7.9 : 1.0\n",
      "                V_barack = True                1 : 0      =      7.9 : 1.0\n",
      "                 V_crazi = True                1 : 0      =      7.9 : 1.0\n",
      "                V_scorch = True                1 : 0      =      7.9 : 1.0\n",
      "              V_sharpton = True                1 : 0      =      7.9 : 1.0\n",
      "                   V_iii = True                1 : 0      =      7.8 : 1.0\n",
      "                  V_lame = True                1 : 0      =      7.8 : 1.0\n",
      "               V_oppress = True                1 : 0      =      7.8 : 1.0\n",
      "                  V_ever = True                1 : 0      =      7.8 : 1.0\n",
      "             V_highlight = True                0 : 1      =      7.8 : 1.0\n",
      "            V_guantanamo = True                0 : 1      =      7.8 : 1.0\n",
      "                 V_gowdi = True                1 : 0      =      7.8 : 1.0\n",
      "                  V_newt = True                1 : 0      =      7.8 : 1.0\n",
      "                V_libyan = True                0 : 1      =      7.7 : 1.0\n",
      "                 V_shame = True                1 : 0      =      7.7 : 1.0\n",
      "                  V_wire = True                1 : 0      =      7.7 : 1.0\n",
      "                V_puerto = True                0 : 1      =      7.7 : 1.0\n",
      "               V_carlson = True                1 : 0      =      7.7 : 1.0\n",
      "               V_f*cking = True                1 : 0      =      7.7 : 1.0\n",
      "              V_meltdown = True                1 : 0      =      7.7 : 1.0\n",
      "             word_length = 5.28                1 : 0      =      7.7 : 1.0\n",
      "          avg_sen_length = 36.1                1 : 0      =      7.7 : 1.0\n",
      "          avg_sen_length = 40.38               1 : 0      =      7.7 : 1.0\n",
      "               V_everyon = True                1 : 0      =      7.6 : 1.0\n",
      "                V_academ = True                0 : 1      =      7.6 : 1.0\n",
      "                V_kosovo = True                0 : 1      =      7.6 : 1.0\n",
      "                 V_minut = True                1 : 0      =      7.6 : 1.0\n",
      "                  V_sick = True                1 : 0      =      7.6 : 1.0\n",
      "                   V_ass = True                1 : 0      =      7.6 : 1.0\n",
      "                V_kimmel = True                1 : 0      =      7.6 : 1.0\n",
      "                  V_liar = True                1 : 0      =      7.6 : 1.0\n",
      "             word_length = 4.68                1 : 0      =      7.6 : 1.0\n",
      "                V_brexit = True                0 : 1      =      7.6 : 1.0\n",
      "              V_approach = True                0 : 1      =      7.5 : 1.0\n",
      "                V_backer = True                0 : 1      =      7.5 : 1.0\n",
      "                  V_gaza = True                0 : 1      =      7.5 : 1.0\n",
      "               V_erdogan = True                0 : 1      =      7.5 : 1.0\n",
      "               V_austria = True                0 : 1      =      7.5 : 1.0\n",
      "                  V_dumb = True                1 : 0      =      7.5 : 1.0\n",
      "                     V_n = True                1 : 0      =      7.5 : 1.0\n",
      "          avg_sen_length = 10.0                1 : 0      =      7.5 : 1.0\n",
      "                  V_amid = True                0 : 1      =      7.5 : 1.0\n",
      "                V_summit = True                0 : 1      =      7.4 : 1.0\n",
      "                 V_tweet = True                1 : 0      =      7.4 : 1.0\n",
      "               V_clapper = True                1 : 0      =      7.4 : 1.0\n",
      "                V_jeanin = True                1 : 0      =      7.4 : 1.0\n",
      "                  V_juan = True                1 : 0      =      7.4 : 1.0\n",
      "                   V_msm = True                1 : 0      =      7.4 : 1.0\n",
      "             V_protestor = True                1 : 0      =      7.4 : 1.0\n",
      "                V_throat = True                1 : 0      =      7.4 : 1.0\n",
      "                V_verita = True                1 : 0      =      7.4 : 1.0\n",
      "             word_length = 5.41                1 : 0      =      7.4 : 1.0\n",
      "                V_turkey = True                0 : 1      =      7.4 : 1.0\n",
      "                  V_nine = True                0 : 1      =      7.4 : 1.0\n",
      "                  V_toll = True                0 : 1      =      7.4 : 1.0\n",
      "                V_actual = True                1 : 0      =      7.4 : 1.0\n",
      "                    V_eu = True                0 : 1      =      7.4 : 1.0\n",
      "               V_colbert = True                1 : 0      =      7.4 : 1.0\n",
      "                 V_liber = True                1 : 0      =      7.4 : 1.0\n",
      "                V_berlin = True                0 : 1      =      7.4 : 1.0\n",
      "               V_bridgeg = True                0 : 1      =      7.4 : 1.0\n",
      "                V_fiscal = True                0 : 1      =      7.4 : 1.0\n",
      "                  V_info = True                1 : 0      =      7.3 : 1.0\n",
      "                V_rememb = True                1 : 0      =      7.3 : 1.0\n",
      "                V_diseas = True                1 : 0      =      7.3 : 1.0\n",
      "                   V_ron = True                1 : 0      =      7.3 : 1.0\n",
      "               V_hillari = True                1 : 0      =      7.3 : 1.0\n",
      "                 V_doubt = True                0 : 1      =      7.3 : 1.0\n",
      "                 V_stanc = True                0 : 1      =      7.3 : 1.0\n",
      "            V_bipartisan = True                0 : 1      =      7.3 : 1.0\n",
      "                   punct = 0.26                1 : 0      =      7.2 : 1.0\n",
      "                V_bomber = True                0 : 1      =      7.1 : 1.0\n",
      "                 V_trade = True                0 : 1      =      7.1 : 1.0\n",
      "                V_reform = True                0 : 1      =      7.1 : 1.0\n",
      "                 V_china = True                0 : 1      =      7.1 : 1.0\n",
      "                  V_cave = True                1 : 0      =      7.0 : 1.0\n",
      "                 V_dirti = True                1 : 0      =      7.0 : 1.0\n",
      "           V_documentari = True                1 : 0      =      7.0 : 1.0\n",
      "              V_frighten = True                1 : 0      =      7.0 : 1.0\n",
      "                V_infuri = True                1 : 0      =      7.0 : 1.0\n",
      "                  V_jess = True                1 : 0      =      7.0 : 1.0\n",
      "                  V_knee = True                1 : 0      =      7.0 : 1.0\n",
      "               V_leftist = True                1 : 0      =      7.0 : 1.0\n",
      "                  V_mask = True                1 : 0      =      7.0 : 1.0\n",
      "                V_physic = True                1 : 0      =      7.0 : 1.0\n",
      "                  V_ugli = True                1 : 0      =      7.0 : 1.0\n",
      "                V_vandal = True                1 : 0      =      7.0 : 1.0\n",
      "                V_wallac = True                1 : 0      =      7.0 : 1.0\n",
      "                   V_guy = True                1 : 0      =      7.0 : 1.0\n",
      "             word_length = 5.35                1 : 0      =      7.0 : 1.0\n",
      "          avg_sen_length = 17.17               1 : 0      =      7.0 : 1.0\n",
      "          avg_sen_length = 40.44               1 : 0      =      7.0 : 1.0\n",
      "          avg_sen_length = 41.62               1 : 0      =      7.0 : 1.0\n",
      "          avg_sen_length = 42.25               1 : 0      =      7.0 : 1.0\n",
      "          avg_sen_length = 43.4                1 : 0      =      7.0 : 1.0\n",
      "          avg_sen_length = 43.83               1 : 0      =      7.0 : 1.0\n",
      "          avg_sen_length = 46.71               1 : 0      =      7.0 : 1.0\n",
      "          avg_sen_length = 57.0                1 : 0      =      7.0 : 1.0\n",
      "                all_caps = 0.29                1 : 0      =      7.0 : 1.0\n",
      "          avg_sen_length = 21.89               0 : 1      =      7.0 : 1.0\n",
      "          avg_sen_length = 23.48               0 : 1      =      7.0 : 1.0\n",
      "          avg_sen_length = 27.97               0 : 1      =      7.0 : 1.0\n",
      "          avg_sen_length = 29.85               0 : 1      =      7.0 : 1.0\n",
      "                  V_clue = True                0 : 1      =      7.0 : 1.0\n",
      "              V_expresid = True                0 : 1      =      7.0 : 1.0\n",
      "                 V_pitch = True                0 : 1      =      7.0 : 1.0\n",
      "                 V_revis = True                0 : 1      =      7.0 : 1.0\n",
      "               V_shakeup = True                0 : 1      =      7.0 : 1.0\n",
      "             V_southeast = True                0 : 1      =      7.0 : 1.0\n",
      "              V_submarin = True                0 : 1      =      7.0 : 1.0\n",
      "                 V_matti = True                0 : 1      =      7.0 : 1.0\n",
      "                 V_milit = True                0 : 1      =      7.0 : 1.0\n",
      "             V_philippin = True                0 : 1      =      6.9 : 1.0\n",
      "                    V_dr = True                1 : 0      =      6.9 : 1.0\n",
      "               V_violent = True                1 : 0      =      6.9 : 1.0\n",
      "             word_length = 6.44                0 : 1      =      6.9 : 1.0\n",
      "               V_ridicul = True                1 : 0      =      6.9 : 1.0\n",
      "             word_length = 6.11                0 : 1      =      6.9 : 1.0\n",
      "                V_devast = True                1 : 0      =      6.9 : 1.0\n",
      "                V_minist = True                0 : 1      =      6.8 : 1.0\n",
      "                   V_nyc = True                1 : 0      =      6.8 : 1.0\n",
      "                 V_trend = True                1 : 0      =      6.8 : 1.0\n",
      "               V_michell = True                1 : 0      =      6.8 : 1.0\n",
      "              V_chaffetz = True                1 : 0      =      6.7 : 1.0\n",
      "                 V_grope = True                1 : 0      =      6.7 : 1.0\n",
      "                 V_ultim = True                1 : 0      =      6.7 : 1.0\n",
      "                V_julian = True                1 : 0      =      6.7 : 1.0\n",
      "          avg_sen_length = 28.65               0 : 1      =      6.7 : 1.0\n",
      "                   V_all = True                1 : 0      =      6.6 : 1.0\n",
      "               V_horrifi = True                1 : 0      =      6.6 : 1.0\n",
      "               V_lesbian = True                1 : 0      =      6.6 : 1.0\n",
      "                 V_malia = True                1 : 0      =      6.6 : 1.0\n",
      "               V_obliter = True                1 : 0      =      6.6 : 1.0\n",
      "              V_starbuck = True                1 : 0      =      6.6 : 1.0\n",
      "                 V_sarah = True                1 : 0      =      6.6 : 1.0\n",
      "                V_pastor = True                1 : 0      =      6.6 : 1.0\n",
      "                 V_delay = True                0 : 1      =      6.6 : 1.0\n",
      "                 V_limit = True                0 : 1      =      6.6 : 1.0\n",
      "                  V_fool = True                1 : 0      =      6.6 : 1.0\n",
      "             word_length = 5.16                1 : 0      =      6.6 : 1.0\n",
      "          avg_sen_length = 25.97               0 : 1      =      6.6 : 1.0\n",
      "                 V_assur = True                0 : 1      =      6.6 : 1.0\n",
      "                   V_cbo = True                0 : 1      =      6.6 : 1.0\n",
      "              V_honduran = True                0 : 1      =      6.6 : 1.0\n",
      "              V_mulvaney = True                0 : 1      =      6.6 : 1.0\n",
      "                V_sought = True                0 : 1      =      6.6 : 1.0\n",
      "                V_camera = True                1 : 0      =      6.6 : 1.0\n",
      "                   V_old = True                1 : 0      =      6.5 : 1.0\n",
      "                  V_hama = True                0 : 1      =      6.5 : 1.0\n",
      "                V_usback = True                0 : 1      =      6.5 : 1.0\n",
      "                  V_went = True                1 : 0      =      6.5 : 1.0\n",
      "                 V_excus = True                1 : 0      =      6.5 : 1.0\n",
      "                  V_dare = True                1 : 0      =      6.5 : 1.0\n",
      "                V_honest = True                1 : 0      =      6.5 : 1.0\n",
      "               V_pretend = True                1 : 0      =      6.5 : 1.0\n",
      "                  V_scam = True                1 : 0      =      6.4 : 1.0\n",
      "                   V_aim = True                0 : 1      =      6.4 : 1.0\n",
      "                   V_got = True                1 : 0      =      6.4 : 1.0\n",
      "                  V_modi = True                0 : 1      =      6.4 : 1.0\n",
      "                 V_north = True                0 : 1      =      6.4 : 1.0\n",
      "                 V_msnbc = True                1 : 0      =      6.4 : 1.0\n",
      "                  V_weve = True                1 : 0      =      6.4 : 1.0\n",
      "             word_length = 6.19                1 : 0      =      6.4 : 1.0\n",
      "          avg_sen_length = 12.67               1 : 0      =      6.4 : 1.0\n",
      "          avg_sen_length = 12.8                1 : 0      =      6.4 : 1.0\n",
      "          avg_sen_length = 14.5                1 : 0      =      6.4 : 1.0\n",
      "          avg_sen_length = 16.4                1 : 0      =      6.4 : 1.0\n",
      "          avg_sen_length = 33.78               1 : 0      =      6.4 : 1.0\n",
      "          avg_sen_length = 38.38               1 : 0      =      6.4 : 1.0\n",
      "          avg_sen_length = 39.44               1 : 0      =      6.4 : 1.0\n",
      "          avg_sen_length = 39.6                1 : 0      =      6.4 : 1.0\n",
      "          avg_sen_length = 40.42               1 : 0      =      6.4 : 1.0\n",
      "          avg_sen_length = 41.14               1 : 0      =      6.4 : 1.0\n",
      "          avg_sen_length = 41.29               1 : 0      =      6.4 : 1.0\n",
      "          avg_sen_length = 44.2                1 : 0      =      6.4 : 1.0\n",
      "          avg_sen_length = 21.91               0 : 1      =      6.3 : 1.0\n",
      "          avg_sen_length = 23.34               0 : 1      =      6.3 : 1.0\n",
      "          avg_sen_length = 26.51               0 : 1      =      6.3 : 1.0\n",
      "          avg_sen_length = 26.59               0 : 1      =      6.3 : 1.0\n",
      "          avg_sen_length = 30.28               0 : 1      =      6.3 : 1.0\n",
      "          avg_sen_length = 34.58               0 : 1      =      6.3 : 1.0\n",
      "              V_interior = True                0 : 1      =      6.3 : 1.0\n",
      "               V_actress = True                1 : 0      =      6.3 : 1.0\n",
      "               V_tension = True                0 : 1      =      6.3 : 1.0\n",
      "                V_racism = True                1 : 0      =      6.3 : 1.0\n",
      "                V_korean = True                0 : 1      =      6.3 : 1.0\n",
      "                V_disabl = True                1 : 0      =      6.3 : 1.0\n",
      "              V_colombia = True                0 : 1      =      6.2 : 1.0\n",
      "               V_tuesday = True                0 : 1      =      6.2 : 1.0\n",
      "                  V_agit = True                1 : 0      =      6.2 : 1.0\n",
      "             V_columnist = True                1 : 0      =      6.2 : 1.0\n",
      "                V_decept = True                1 : 0      =      6.2 : 1.0\n",
      "                V_serial = True                1 : 0      =      6.2 : 1.0\n",
      "          avg_sen_length = 14.6                1 : 0      =      6.2 : 1.0\n",
      "            V_conspiraci = True                1 : 0      =      6.2 : 1.0\n",
      "                 V_black = True                1 : 0      =      6.2 : 1.0\n",
      "               V_complic = True                0 : 1      =      6.2 : 1.0\n",
      "                V_consul = True                0 : 1      =      6.2 : 1.0\n",
      "              V_obamaera = True                0 : 1      =      6.2 : 1.0\n",
      "                V_polish = True                0 : 1      =      6.2 : 1.0\n",
      "                V_imagin = True                1 : 0      =      6.2 : 1.0\n",
      "                 V_actor = True                1 : 0      =      6.1 : 1.0\n",
      "               V_coverup = True                1 : 0      =      6.1 : 1.0\n",
      "              V_snowflak = True                1 : 0      =      6.1 : 1.0\n",
      "               V_societi = True                1 : 0      =      6.1 : 1.0\n",
      "                 V_theyr = True                1 : 0      =      6.1 : 1.0\n",
      "               V_illinoi = True                0 : 1      =      6.1 : 1.0\n",
      "                  V_sack = True                0 : 1      =      6.1 : 1.0\n",
      "                 V_color = True                1 : 0      =      6.1 : 1.0\n",
      "                  V_duke = True                1 : 0      =      6.1 : 1.0\n",
      "           negativecount = 5                   1 : 0      =      6.1 : 1.0\n",
      "                   V_ago = True                1 : 0      =      6.1 : 1.0\n",
      "             word_length = 4.37                1 : 0      =      6.1 : 1.0\n",
      "                   V_rnc = True                1 : 0      =      6.1 : 1.0\n",
      "             V_argentina = True                0 : 1      =      6.1 : 1.0\n",
      "             V_venezuela = True                0 : 1      =      6.0 : 1.0\n",
      "                   V_goe = True                1 : 0      =      6.0 : 1.0\n",
      "                   V_mom = True                1 : 0      =      6.0 : 1.0\n",
      "               V_advisor = True                1 : 0      =      6.0 : 1.0\n",
      "                V_someon = True                1 : 0      =      6.0 : 1.0\n",
      "                 V_truth = True                1 : 0      =      5.9 : 1.0\n",
      "          avg_sen_length = 19.5                1 : 0      =      5.9 : 1.0\n",
      "                 V_clash = True                0 : 1      =      5.9 : 1.0\n",
      "                  V_asia = True                0 : 1      =      5.9 : 1.0\n",
      "                 V_rival = True                0 : 1      =      5.9 : 1.0\n",
      "              V_islamist = True                0 : 1      =      5.9 : 1.0\n",
      "              V_suppress = True                1 : 0      =      5.9 : 1.0\n",
      "                  V_rock = True                1 : 0      =      5.9 : 1.0\n",
      "                 V_entir = True                1 : 0      =      5.9 : 1.0\n",
      "                 V_admit = True                1 : 0      =      5.9 : 1.0\n",
      "                  V_punk = True                1 : 0      =      5.9 : 1.0\n",
      "                 V_everi = True                1 : 0      =      5.9 : 1.0\n",
      "                 V_fresh = True                0 : 1      =      5.9 : 1.0\n",
      "                 V_phase = True                0 : 1      =      5.9 : 1.0\n",
      "                V_despit = True                0 : 1      =      5.9 : 1.0\n",
      "                V_beauti = True                1 : 0      =      5.8 : 1.0\n",
      "               V_shooter = True                1 : 0      =      5.8 : 1.0\n",
      "             word_length = 4.95                1 : 0      =      5.8 : 1.0\n",
      "             V_australia = True                0 : 1      =      5.8 : 1.0\n",
      "                 V_femal = True                1 : 0      =      5.8 : 1.0\n",
      "                  V_echo = True                0 : 1      =      5.8 : 1.0\n",
      "             V_intensifi = True                0 : 1      =      5.8 : 1.0\n",
      "                  V_cher = True                1 : 0      =      5.8 : 1.0\n",
      "                 V_choke = True                1 : 0      =      5.8 : 1.0\n",
      "                    V_do = True                1 : 0      =      5.8 : 1.0\n",
      "                V_evolut = True                1 : 0      =      5.8 : 1.0\n",
      "              V_goldberg = True                1 : 0      =      5.8 : 1.0\n",
      "               V_tyranni = True                1 : 0      =      5.8 : 1.0\n",
      "                  V_2018 = True                0 : 1      =      5.8 : 1.0\n",
      "                  V_piec = True                1 : 0      =      5.8 : 1.0\n",
      "          avg_sen_length = 27.28               0 : 1      =      5.8 : 1.0\n",
      "               V_fashion = True                0 : 1      =      5.8 : 1.0\n",
      "               V_hondura = True                0 : 1      =      5.8 : 1.0\n",
      "              V_istanbul = True                0 : 1      =      5.8 : 1.0\n",
      "                   V_joe = True                1 : 0      =      5.8 : 1.0\n",
      "                  V_hide = True                1 : 0      =      5.8 : 1.0\n",
      "                 V_punch = True                1 : 0      =      5.8 : 1.0\n",
      "                  V_here = True                1 : 0      =      5.8 : 1.0\n",
      "                 V_uncov = True                1 : 0      =      5.8 : 1.0\n",
      "                 V_reviv = True                0 : 1      =      5.7 : 1.0\n",
      "                 V_split = True                0 : 1      =      5.7 : 1.0\n",
      "          avg_sen_length = 18.0                1 : 0      =      5.7 : 1.0\n",
      "                 V_angri = True                1 : 0      =      5.7 : 1.0\n",
      "                 V_clown = True                1 : 0      =      5.7 : 1.0\n",
      "                   V_mob = True                1 : 0      =      5.7 : 1.0\n",
      "             word_length = 2.8                 1 : 0      =      5.7 : 1.0\n",
      "          avg_sen_length = 13.33               1 : 0      =      5.7 : 1.0\n",
      "          avg_sen_length = 18.14               1 : 0      =      5.7 : 1.0\n",
      "          avg_sen_length = 20.12               1 : 0      =      5.7 : 1.0\n",
      "          avg_sen_length = 20.37               1 : 0      =      5.7 : 1.0\n",
      "          avg_sen_length = 22.84               1 : 0      =      5.7 : 1.0\n",
      "          avg_sen_length = 37.22               1 : 0      =      5.7 : 1.0\n",
      "          avg_sen_length = 37.89               1 : 0      =      5.7 : 1.0\n",
      "          avg_sen_length = 39.56               1 : 0      =      5.7 : 1.0\n",
      "          avg_sen_length = 45.88               1 : 0      =      5.7 : 1.0\n",
      "          avg_sen_length = 46.75               1 : 0      =      5.7 : 1.0\n",
      "          avg_sen_length = 48.29               1 : 0      =      5.7 : 1.0\n",
      "          avg_sen_length = 49.67               1 : 0      =      5.7 : 1.0\n",
      "          avg_sen_length = 51.33               1 : 0      =      5.7 : 1.0\n",
      "          avg_sen_length = 27.66               0 : 1      =      5.6 : 1.0\n",
      "          avg_sen_length = 28.51               0 : 1      =      5.6 : 1.0\n",
      "          avg_sen_length = 33.37               0 : 1      =      5.6 : 1.0\n",
      "          avg_sen_length = 26.82               0 : 1      =      5.6 : 1.0\n",
      "               V_zealand = True                0 : 1      =      5.6 : 1.0\n",
      "              V_malaysia = True                0 : 1      =      5.6 : 1.0\n",
      "            V_strengthen = True                0 : 1      =      5.6 : 1.0\n",
      "                 V_updat = True                1 : 0      =      5.6 : 1.0\n",
      "                   V_boo = True                1 : 0      =      5.6 : 1.0\n",
      "                 V_funni = True                1 : 0      =      5.6 : 1.0\n",
      "                  V_flag = True                1 : 0      =      5.6 : 1.0\n",
      "                 V_anyon = True                1 : 0      =      5.6 : 1.0\n",
      "                  V_dump = True                1 : 0      =      5.6 : 1.0\n",
      "                    V_su = True                1 : 0      =      5.6 : 1.0\n",
      "                   V_bee = True                1 : 0      =      5.6 : 1.0\n",
      "              V_clueless = True                1 : 0      =      5.6 : 1.0\n",
      "                V_discov = True                1 : 0      =      5.6 : 1.0\n",
      "                   V_rig = True                1 : 0      =      5.6 : 1.0\n",
      "                V_happen = True                1 : 0      =      5.6 : 1.0\n",
      "              V_kellyann = True                1 : 0      =      5.6 : 1.0\n",
      "             V_jerusalem = True                0 : 1      =      5.6 : 1.0\n",
      "                  V_read = True                1 : 0      =      5.6 : 1.0\n",
      "                   V_jim = True                1 : 0      =      5.6 : 1.0\n",
      "                   V_own = True                1 : 0      =      5.6 : 1.0\n",
      "             V_weinstein = True                1 : 0      =      5.6 : 1.0\n",
      "                V_obsess = True                1 : 0      =      5.6 : 1.0\n",
      "             word_length = 4.63                1 : 0      =      5.6 : 1.0\n",
      "          avg_sen_length = 31.56               0 : 1      =      5.6 : 1.0\n",
      "                V_collin = True                0 : 1      =      5.5 : 1.0\n",
      "              V_selfdriv = True                0 : 1      =      5.5 : 1.0\n",
      "                 V_bulli = True                1 : 0      =      5.5 : 1.0\n",
      "                V_dutert = True                0 : 1      =      5.5 : 1.0\n",
      "                  V_lift = True                0 : 1      =      5.5 : 1.0\n",
      "              V_nightmar = True                1 : 0      =      5.5 : 1.0\n",
      "                 V_phoni = True                1 : 0      =      5.5 : 1.0\n",
      "                V_divers = True                1 : 0      =      5.5 : 1.0\n",
      "                 V_behar = True                1 : 0      =      5.5 : 1.0\n",
      "                V_betray = True                1 : 0      =      5.5 : 1.0\n",
      "                 V_clark = True                1 : 0      =      5.5 : 1.0\n",
      "                V_tshirt = True                1 : 0      =      5.5 : 1.0\n",
      "             word_length = 5.53                1 : 0      =      5.4 : 1.0\n",
      "                  V_tone = True                0 : 1      =      5.4 : 1.0\n",
      "                 V_calai = True                1 : 0      =      5.4 : 1.0\n",
      "              V_everyday = True                1 : 0      =      5.4 : 1.0\n",
      "              V_portland = True                1 : 0      =      5.4 : 1.0\n",
      "                  V_wive = True                1 : 0      =      5.4 : 1.0\n",
      "             word_length = 6.06                1 : 0      =      5.4 : 1.0\n",
      "                V_outrag = True                1 : 0      =      5.4 : 1.0\n",
      "                    V_la = True                1 : 0      =      5.4 : 1.0\n",
      "                  V_wolf = True                1 : 0      =      5.4 : 1.0\n",
      "          avg_sen_length = 25.28               0 : 1      =      5.4 : 1.0\n",
      "          avg_sen_length = 29.19               0 : 1      =      5.4 : 1.0\n",
      "          avg_sen_length = 30.39               0 : 1      =      5.4 : 1.0\n",
      "                V_cleric = True                0 : 1      =      5.4 : 1.0\n",
      "               V_hardlin = True                0 : 1      =      5.4 : 1.0\n",
      "               V_reflect = True                0 : 1      =      5.4 : 1.0\n",
      "                V_smuggl = True                0 : 1      =      5.4 : 1.0\n",
      "             word_length = 4.74                1 : 0      =      5.4 : 1.0\n",
      "                 V_swiss = True                0 : 1      =      5.3 : 1.0\n",
      "               V_liberti = True                1 : 0      =      5.3 : 1.0\n",
      "            V_australian = True                0 : 1      =      5.3 : 1.0\n",
      "                V_sexist = True                1 : 0      =      5.3 : 1.0\n",
      "                 V_brief = True                0 : 1      =      5.3 : 1.0\n",
      "                   V_new = True                0 : 1      =      5.3 : 1.0\n",
      "                   V_4th = True                1 : 0      =      5.3 : 1.0\n",
      "                 V_hater = True                1 : 0      =      5.3 : 1.0\n",
      "               V_intoler = True                1 : 0      =      5.3 : 1.0\n",
      "               V_militar = True                1 : 0      =      5.3 : 1.0\n",
      "                 V_mouth = True                1 : 0      =      5.3 : 1.0\n",
      "               V_segment = True                1 : 0      =      5.3 : 1.0\n",
      "              V_surround = True                1 : 0      =      5.3 : 1.0\n",
      "                 V_whose = True                1 : 0      =      5.3 : 1.0\n",
      "                 V_regim = True                1 : 0      =      5.3 : 1.0\n",
      "                V_muslim = True                1 : 0      =      5.3 : 1.0\n",
      "               V_britain = True                0 : 1      =      5.3 : 1.0\n",
      "                V_dollar = True                1 : 0      =      5.3 : 1.0\n",
      "                 V_nasti = True                1 : 0      =      5.3 : 1.0\n",
      "             word_length = 6.62                0 : 1      =      5.3 : 1.0\n",
      "                V_budget = True                0 : 1      =      5.3 : 1.0\n",
      "               V_suspect = True                0 : 1      =      5.2 : 1.0\n",
      "                 V_donna = True                1 : 0      =      5.2 : 1.0\n",
      "                V_volunt = True                1 : 0      =      5.2 : 1.0\n",
      "                V_merkel = True                0 : 1      =      5.2 : 1.0\n",
      "               V_connect = True                1 : 0      =      5.2 : 1.0\n",
      "                V_famous = True                1 : 0      =      5.2 : 1.0\n",
      "               V_mention = True                1 : 0      =      5.2 : 1.0\n",
      "                   V_rob = True                1 : 0      =      5.2 : 1.0\n",
      "                  V_tire = True                1 : 0      =      5.2 : 1.0\n",
      "               V_belgian = True                0 : 1      =      5.2 : 1.0\n",
      "               V_januari = True                0 : 1      =      5.2 : 1.0\n",
      "             word_length = 6.88                0 : 1      =      5.2 : 1.0\n",
      "               V_outlook = True                1 : 0      =      5.2 : 1.0\n",
      "                 V_shout = True                1 : 0      =      5.2 : 1.0\n",
      "                V_maduro = True                0 : 1      =      5.2 : 1.0\n",
      "             V_terrorist = True                1 : 0      =      5.1 : 1.0\n",
      "                  V_hell = True                1 : 0      =      5.1 : 1.0\n",
      "                  V_wear = True                1 : 0      =      5.1 : 1.0\n",
      "                 V_earth = True                1 : 0      =      5.1 : 1.0\n",
      "                 V_dozen = True                0 : 1      =      5.1 : 1.0\n",
      "               V_staffer = True                1 : 0      =      5.1 : 1.0\n",
      "            V_propaganda = True                1 : 0      =      5.1 : 1.0\n",
      "                   V_dnc = True                1 : 0      =      5.1 : 1.0\n",
      "               V_explain = True                1 : 0      =      5.1 : 1.0\n",
      "                    V_65 = True                1 : 0      =      5.0 : 1.0\n",
      "            V_accomplish = True                1 : 0      =      5.0 : 1.0\n",
      "                 V_akbar = True                1 : 0      =      5.0 : 1.0\n",
      "                    V_my = True                1 : 0      =      5.0 : 1.0\n",
      "                  V_pill = True                1 : 0      =      5.0 : 1.0\n",
      "                    V_sc = True                1 : 0      =      5.0 : 1.0\n",
      "                  V_sore = True                1 : 0      =      5.0 : 1.0\n",
      "                 V_stunt = True                1 : 0      =      5.0 : 1.0\n",
      "                  V_tree = True                1 : 0      =      5.0 : 1.0\n",
      "                V_unload = True                1 : 0      =      5.0 : 1.0\n",
      "                  V_alec = True                1 : 0      =      5.0 : 1.0\n",
      "                V_daniel = True                1 : 0      =      5.0 : 1.0\n",
      "                 V_dress = True                1 : 0      =      5.0 : 1.0\n",
      "                  V_kept = True                1 : 0      =      5.0 : 1.0\n",
      "                   V_nra = True                1 : 0      =      5.0 : 1.0\n",
      "               V_wildlif = True                1 : 0      =      5.0 : 1.0\n",
      "                   V_hat = True                1 : 0      =      5.0 : 1.0\n",
      "                 V_invas = True                1 : 0      =      5.0 : 1.0\n",
      "             word_length = 6.21                1 : 0      =      5.0 : 1.0\n",
      "             word_length = 4.76                1 : 0      =      5.0 : 1.0\n",
      "             word_length = 5.39                1 : 0      =      5.0 : 1.0\n",
      "          avg_sen_length = 21.98               1 : 0      =      5.0 : 1.0\n",
      "          avg_sen_length = 33.26               1 : 0      =      5.0 : 1.0\n",
      "          avg_sen_length = 35.26               1 : 0      =      5.0 : 1.0\n",
      "          avg_sen_length = 37.45               1 : 0      =      5.0 : 1.0\n",
      "          avg_sen_length = 38.82               1 : 0      =      5.0 : 1.0\n",
      "          avg_sen_length = 39.86               1 : 0      =      5.0 : 1.0\n",
      "          avg_sen_length = 40.57               1 : 0      =      5.0 : 1.0\n",
      "          avg_sen_length = 40.69               1 : 0      =      5.0 : 1.0\n",
      "          avg_sen_length = 47.25               1 : 0      =      5.0 : 1.0\n",
      "          avg_sen_length = 50.17               1 : 0      =      5.0 : 1.0\n",
      "          avg_sen_length = 59.0                1 : 0      =      5.0 : 1.0\n",
      "          avg_sen_length = 73.0                1 : 0      =      5.0 : 1.0\n",
      "          avg_sen_length = 24.24               0 : 1      =      5.0 : 1.0\n",
      "          avg_sen_length = 24.51               0 : 1      =      5.0 : 1.0\n",
      "          avg_sen_length = 27.43               0 : 1      =      5.0 : 1.0\n",
      "          avg_sen_length = 28.28               0 : 1      =      5.0 : 1.0\n",
      "          avg_sen_length = 28.96               0 : 1      =      5.0 : 1.0\n",
      "          avg_sen_length = 29.18               0 : 1      =      5.0 : 1.0\n",
      "          avg_sen_length = 29.87               0 : 1      =      5.0 : 1.0\n",
      "          avg_sen_length = 30.35               0 : 1      =      5.0 : 1.0\n",
      "                V_massiv = True                1 : 0      =      5.0 : 1.0\n",
      "             word_length = 7.62                0 : 1      =      5.0 : 1.0\n",
      "             V_diplomaci = True                0 : 1      =      5.0 : 1.0\n",
      "                 V_entri = True                0 : 1      =      5.0 : 1.0\n",
      "               V_japanes = True                0 : 1      =      5.0 : 1.0\n",
      "             V_pakistani = True                0 : 1      =      5.0 : 1.0\n",
      "                  V_port = True                0 : 1      =      5.0 : 1.0\n",
      "               V_theresa = True                0 : 1      =      5.0 : 1.0\n",
      "              V_treasuri = True                0 : 1      =      5.0 : 1.0\n",
      "               V_turmoil = True                0 : 1      =      5.0 : 1.0\n",
      "                V_uphold = True                0 : 1      =      5.0 : 1.0\n",
      "               V_charter = True                0 : 1      =      5.0 : 1.0\n",
      "               V_conceal = True                0 : 1      =      5.0 : 1.0\n",
      "                V_corker = True                0 : 1      =      5.0 : 1.0\n",
      "                V_decemb = True                0 : 1      =      5.0 : 1.0\n",
      "                   V_fcc = True                0 : 1      =      5.0 : 1.0\n",
      "                V_houthi = True                0 : 1      =      5.0 : 1.0\n",
      "                 V_olymp = True                0 : 1      =      5.0 : 1.0\n",
      "              V_principl = True                0 : 1      =      5.0 : 1.0\n",
      "                 V_swift = True                0 : 1      =      5.0 : 1.0\n",
      "                   V_hes = True                1 : 0      =      5.0 : 1.0\n",
      "                 V_franc = True                0 : 1      =      5.0 : 1.0\n",
      "                 V_palin = True                1 : 0      =      5.0 : 1.0\n",
      "                  V_nazi = True                1 : 0      =      4.9 : 1.0\n",
      "                   V_cri = True                1 : 0      =      4.9 : 1.0\n",
      "                  V_live = True                1 : 0      =      4.9 : 1.0\n",
      "                 V_cyber = True                0 : 1      =      4.9 : 1.0\n",
      "                 V_panel = True                0 : 1      =      4.9 : 1.0\n",
      "                 V_ahead = True                0 : 1      =      4.9 : 1.0\n",
      "                V_beyonc = True                1 : 0      =      4.9 : 1.0\n",
      "              V_giuliani = True                1 : 0      =      4.9 : 1.0\n",
      "                 V_panic = True                1 : 0      =      4.9 : 1.0\n",
      "                  V_wast = True                1 : 0      =      4.9 : 1.0\n",
      "                  V_sing = True                1 : 0      =      4.9 : 1.0\n",
      "                V_reason = True                1 : 0      =      4.9 : 1.0\n",
      "                 V_resum = True                0 : 1      =      4.8 : 1.0\n",
      "                   V_mad = True                1 : 0      =      4.8 : 1.0\n",
      "                 V_wreck = True                1 : 0      =      4.8 : 1.0\n",
      "                   V_vow = True                0 : 1      =      4.8 : 1.0\n",
      "             word_length = 7.12                0 : 1      =      4.8 : 1.0\n",
      "             word_length = 4.04                1 : 0      =      4.8 : 1.0\n",
      "          avg_sen_length = 26.07               0 : 1      =      4.8 : 1.0\n",
      "                 V_glenn = True                1 : 0      =      4.8 : 1.0\n",
      "                 V_smash = True                1 : 0      =      4.8 : 1.0\n",
      "                V_suppos = True                1 : 0      =      4.8 : 1.0\n",
      "                  V_sean = True                1 : 0      =      4.8 : 1.0\n",
      "          avg_sen_length = 27.27               0 : 1      =      4.8 : 1.0\n",
      "                V_monday = True                0 : 1      =      4.8 : 1.0\n",
      "                 V_idlib = True                0 : 1      =      4.8 : 1.0\n",
      "                  V_mate = True                0 : 1      =      4.8 : 1.0\n",
      "                V_packag = True                0 : 1      =      4.8 : 1.0\n",
      "               V_audienc = True                1 : 0      =      4.8 : 1.0\n",
      "              V_privileg = True                1 : 0      =      4.8 : 1.0\n",
      "               V_america = True                1 : 0      =      4.7 : 1.0\n",
      "              V_manafort = True                0 : 1      =      4.7 : 1.0\n",
      "                V_afraid = True                1 : 0      =      4.7 : 1.0\n",
      "                 V_allah = True                1 : 0      =      4.7 : 1.0\n",
      "                 V_allen = True                1 : 0      =      4.7 : 1.0\n",
      "                V_belong = True                1 : 0      =      4.7 : 1.0\n",
      "                  V_cake = True                1 : 0      =      4.7 : 1.0\n",
      "               V_panther = True                1 : 0      =      4.7 : 1.0\n",
      "                   V_pic = True                1 : 0      =      4.7 : 1.0\n",
      "               V_qualifi = True                1 : 0      =      4.7 : 1.0\n",
      "             word_length = 2.88                1 : 0      =      4.7 : 1.0\n",
      "        V_charlottesvill = True                1 : 0      =      4.7 : 1.0\n",
      "                V_deserv = True                1 : 0      =      4.7 : 1.0\n",
      "              V_homeless = True                1 : 0      =      4.7 : 1.0\n",
      "                   V_roy = True                1 : 0      =      4.7 : 1.0\n",
      "          avg_sen_length = 32.13               0 : 1      =      4.7 : 1.0\n",
      "          avg_sen_length = 32.79               0 : 1      =      4.7 : 1.0\n",
      "             word_length = 7.71                0 : 1      =      4.7 : 1.0\n",
      "           V_connecticut = True                0 : 1      =      4.7 : 1.0\n",
      "         V_counterterror = True                0 : 1      =      4.7 : 1.0\n",
      "               V_exercis = True                0 : 1      =      4.7 : 1.0\n",
      "                 V_niger = True                0 : 1      =      4.7 : 1.0\n"
     ]
    }
   ],
   "source": [
    "NBclassifier.show_most_informative_features(900)"
   ]
  },
  {
   "cell_type": "code",
   "execution_count": 272,
   "id": "4e23906b",
   "metadata": {},
   "outputs": [],
   "source": [
    "uni_textbigram_quant_composite_df = pd.concat([avg_sent_len_featuresets_df, quant_ling_featuresets_df,text_bigrams_df, title_unigrams_df], axis=1)"
   ]
  },
  {
   "cell_type": "code",
   "execution_count": 274,
   "id": "455a67f6",
   "metadata": {},
   "outputs": [],
   "source": [
    "uni_textbigram_quant_composite_featuresets = [(dict(row.drop('label').items()), row['label']) for index, row in uni_textbigram_quant_composite_df.iterrows()]"
   ]
  },
  {
   "cell_type": "code",
   "execution_count": 275,
   "id": "4e837bce",
   "metadata": {},
   "outputs": [
    {
     "name": "stdout",
     "output_type": "stream",
     "text": [
      "Accuracy with combined unigram and quantitative linguistic features:0.8800019032212019\n",
      "\n",
      "Execution time: 162.03447699546814 seconds\n"
     ]
    }
   ],
   "source": [
    "start = time.time()\n",
    "\n",
    "train_set, test_set = uni_textbigram_quant_composite_featuresets[(round(.30 * len(uni_textbigram_quant_composite_featuresets))):], uni_textbigram_quant_composite_featuresets[:(round(.30 * len(uni_textbigram_quant_composite_featuresets)))]\n",
    "NBclassifier = nltk.NaiveBayesClassifier.train(train_set)\n",
    "accuracy = nltk.classify.accuracy(NBclassifier, test_set)\n",
    "\n",
    "print(f\"Accuracy with combined unigram and quantitative linguistic features:{accuracy}\")\n",
    "\n",
    "end = time.time()\n",
    "print(f\"\\nExecution time: {end - start} seconds\")\n"
   ]
  },
  {
   "cell_type": "code",
   "execution_count": 276,
   "id": "9ca68e6b",
   "metadata": {},
   "outputs": [
    {
     "name": "stdout",
     "output_type": "stream",
     "text": [
      "\n",
      "Confusion_Matrix----\n",
      "\n",
      "   |    1    0 |\n",
      "--+-----------+\n",
      "1 |<8900>1658 |\n",
      "0 |  864<9595>|\n",
      "--+-----------+\n",
      "(row = reference; col = test)\n",
      "\n",
      "\n",
      "\n",
      "Evaluation_Metrics----\n",
      "\n",
      "\tPrecision\tRecall\t    F1\t Specificity\n",
      "0 \t      0.853      0.917      0.884      0.843\n",
      "1 \t      0.912      0.843      0.876      0.917\n"
     ]
    }
   ],
   "source": [
    "cm_eval_print(test_set)"
   ]
  },
  {
   "cell_type": "code",
   "execution_count": 277,
   "id": "caa8bd54",
   "metadata": {},
   "outputs": [],
   "source": [
    "uni_opinion_quant_composite_df = pd.concat([avg_sent_len_featuresets_df, quant_ling_featuresets_df, opinion_only_df, title_unigrams_df], axis=1)"
   ]
  },
  {
   "cell_type": "code",
   "execution_count": 279,
   "id": "23c6bdc3",
   "metadata": {},
   "outputs": [],
   "source": [
    "uni_opinion_quant_composite_featuresets = [(dict(row.drop('label').items()), row['label']) for index, row in uni_opinion_quant_composite_df.iterrows()]"
   ]
  },
  {
   "cell_type": "code",
   "execution_count": 280,
   "id": "a565d169",
   "metadata": {},
   "outputs": [
    {
     "name": "stdout",
     "output_type": "stream",
     "text": [
      "Accuracy with combined unigram and quantitative linguistic features:0.8780035209592235\n",
      "\n",
      "Execution time: 148.7792510986328 seconds\n"
     ]
    }
   ],
   "source": [
    "start = time.time()\n",
    "\n",
    "train_set, test_set = uni_opinion_quant_composite_featuresets[(round(.30 * len(uni_opinion_quant_composite_featuresets))):], uni_opinion_quant_composite_featuresets[:(round(.30 * len(uni_opinion_quant_composite_featuresets)))]\n",
    "NBclassifier = nltk.NaiveBayesClassifier.train(train_set)\n",
    "accuracy = nltk.classify.accuracy(NBclassifier, test_set)\n",
    "\n",
    "print(f\"Accuracy with combined unigram and quantitative linguistic features:{accuracy}\")\n",
    "\n",
    "end = time.time()\n",
    "print(f\"\\nExecution time: {end - start} seconds\")\n"
   ]
  },
  {
   "cell_type": "markdown",
   "id": "16a54a43",
   "metadata": {},
   "source": [
    "<h1>Test 11: Using a Composite Featureset  with SciKit Learn Classifiers</h1>\n",
    "<h3>Features: Unigram + Bigram + Three Quantitative Lingusitic Features</h3>\n",
    "<h3>Classifiers: Linear SVC, NB Gaussian, Logistic Regression</h3>"
   ]
  },
  {
   "cell_type": "code",
   "execution_count": 287,
   "id": "f6173392",
   "metadata": {},
   "outputs": [],
   "source": [
    "# CREATE A DATAFRAME OF QUANTITATIVE LINGUISTIC FEATURES + UNIGRAM FEATURES\n",
    "df_title_unigrams = pd.read_csv('~/title_unigram_features_fakenews_df_canonical.csv')\n",
    "\n",
    "quant_ling_featuresets_df = pd.read_csv('~/title_quant_ling_featuresets_df_canonical.csv')\n",
    "\n",
    "remove_label1 = quant_ling_featuresets_df.pop('label')\n",
    "\n",
    "avg_sent_len_featuresets_df = pd.read_csv('~/avg_sent_len_featuresets_df_canonical.csv')\n",
    "\n",
    "remove_label2 = avg_sent_len_featuresets_df.pop('label')\n",
    "\n",
    "unigram_quant_ling_df = pd.concat([avg_sent_len_featuresets_df, quant_ling_featuresets_df, df_title_unigrams], axis=1)"
   ]
  },
  {
   "cell_type": "code",
   "execution_count": 289,
   "id": "884c47bd",
   "metadata": {},
   "outputs": [],
   "source": [
    "df = unigram_quant_ling_df"
   ]
  },
  {
   "cell_type": "code",
   "execution_count": 290,
   "id": "4d5e9b8c",
   "metadata": {},
   "outputs": [
    {
     "name": "stdout",
     "output_type": "stream",
     "text": [
      "(70056, 3871)\n"
     ]
    }
   ],
   "source": [
    "X = df.drop('label', axis=1)\n",
    "y = df['label']\n",
    "print (df.shape)"
   ]
  },
  {
   "cell_type": "code",
   "execution_count": 291,
   "id": "98c71c72",
   "metadata": {},
   "outputs": [],
   "source": [
    "X_train, X_test, y_train, y_test = train_test_split(X, y, test_size=0.3, random_state=42)"
   ]
  },
  {
   "cell_type": "code",
   "execution_count": 292,
   "id": "2cb283f7",
   "metadata": {},
   "outputs": [],
   "source": [
    "kFolds = 10"
   ]
  },
  {
   "cell_type": "markdown",
   "id": "0cb98aa6",
   "metadata": {},
   "source": [
    "<h2>a) Linear SVC Classifier</h2>"
   ]
  },
  {
   "cell_type": "code",
   "execution_count": 293,
   "id": "5df7f1d8",
   "metadata": {},
   "outputs": [],
   "source": [
    "SVC_classifier = LinearSVC(C=1, penalty='l1', dual=False, class_weight=None)"
   ]
  },
  {
   "cell_type": "code",
   "execution_count": 294,
   "id": "bc0844db",
   "metadata": {},
   "outputs": [],
   "source": [
    "y_pred = cross_val_predict(SVC_classifier, X, y, cv=kFolds)"
   ]
  },
  {
   "cell_type": "code",
   "execution_count": 295,
   "id": "06e2afee",
   "metadata": {},
   "outputs": [
    {
     "name": "stdout",
     "output_type": "stream",
     "text": [
      "\n",
      "Cross Validation Metrics for Linear SVC\n",
      "\n",
      "               precision    recall  f1-score   support\n",
      "\n",
      "           0       0.90      0.91      0.91     35028\n",
      "           1       0.91      0.90      0.90     35028\n",
      "\n",
      "    accuracy                           0.90     70056\n",
      "   macro avg       0.90      0.90      0.90     70056\n",
      "weighted avg       0.90      0.90      0.90     70056\n",
      "\n"
     ]
    }
   ],
   "source": [
    "print(\"\\nCross Validation Metrics for Linear SVC\\n\\n\", classification_report(y, y_pred))"
   ]
  },
  {
   "cell_type": "code",
   "execution_count": 296,
   "id": "9cd91723",
   "metadata": {},
   "outputs": [
    {
     "name": "stdout",
     "output_type": "stream",
     "text": [
      "\n",
      "Confusion Matrix for Linear SVC\n",
      "\n",
      " Predicted      0      1    All\n",
      "Actual                        \n",
      "0          31757   3271  35028\n",
      "1           3391  31637  35028\n",
      "All        35148  34908  70056\n"
     ]
    }
   ],
   "source": [
    "cm = confusion_matrix(y, y_pred)\n",
    "print(\"\\nConfusion Matrix for Linear SVC\\n\\n\", pd.crosstab(y, y_pred, rownames=['Actual'], colnames=['Predicted'], margins=True))"
   ]
  },
  {
   "cell_type": "code",
   "execution_count": 297,
   "id": "23d05e5b",
   "metadata": {},
   "outputs": [
    {
     "data": {
      "text/html": [
       "<style>#sk-container-id-1 {color: black;background-color: white;}#sk-container-id-1 pre{padding: 0;}#sk-container-id-1 div.sk-toggleable {background-color: white;}#sk-container-id-1 label.sk-toggleable__label {cursor: pointer;display: block;width: 100%;margin-bottom: 0;padding: 0.3em;box-sizing: border-box;text-align: center;}#sk-container-id-1 label.sk-toggleable__label-arrow:before {content: \"▸\";float: left;margin-right: 0.25em;color: #696969;}#sk-container-id-1 label.sk-toggleable__label-arrow:hover:before {color: black;}#sk-container-id-1 div.sk-estimator:hover label.sk-toggleable__label-arrow:before {color: black;}#sk-container-id-1 div.sk-toggleable__content {max-height: 0;max-width: 0;overflow: hidden;text-align: left;background-color: #f0f8ff;}#sk-container-id-1 div.sk-toggleable__content pre {margin: 0.2em;color: black;border-radius: 0.25em;background-color: #f0f8ff;}#sk-container-id-1 input.sk-toggleable__control:checked~div.sk-toggleable__content {max-height: 200px;max-width: 100%;overflow: auto;}#sk-container-id-1 input.sk-toggleable__control:checked~label.sk-toggleable__label-arrow:before {content: \"▾\";}#sk-container-id-1 div.sk-estimator input.sk-toggleable__control:checked~label.sk-toggleable__label {background-color: #d4ebff;}#sk-container-id-1 div.sk-label input.sk-toggleable__control:checked~label.sk-toggleable__label {background-color: #d4ebff;}#sk-container-id-1 input.sk-hidden--visually {border: 0;clip: rect(1px 1px 1px 1px);clip: rect(1px, 1px, 1px, 1px);height: 1px;margin: -1px;overflow: hidden;padding: 0;position: absolute;width: 1px;}#sk-container-id-1 div.sk-estimator {font-family: monospace;background-color: #f0f8ff;border: 1px dotted black;border-radius: 0.25em;box-sizing: border-box;margin-bottom: 0.5em;}#sk-container-id-1 div.sk-estimator:hover {background-color: #d4ebff;}#sk-container-id-1 div.sk-parallel-item::after {content: \"\";width: 100%;border-bottom: 1px solid gray;flex-grow: 1;}#sk-container-id-1 div.sk-label:hover label.sk-toggleable__label {background-color: #d4ebff;}#sk-container-id-1 div.sk-serial::before {content: \"\";position: absolute;border-left: 1px solid gray;box-sizing: border-box;top: 0;bottom: 0;left: 50%;z-index: 0;}#sk-container-id-1 div.sk-serial {display: flex;flex-direction: column;align-items: center;background-color: white;padding-right: 0.2em;padding-left: 0.2em;position: relative;}#sk-container-id-1 div.sk-item {position: relative;z-index: 1;}#sk-container-id-1 div.sk-parallel {display: flex;align-items: stretch;justify-content: center;background-color: white;position: relative;}#sk-container-id-1 div.sk-item::before, #sk-container-id-1 div.sk-parallel-item::before {content: \"\";position: absolute;border-left: 1px solid gray;box-sizing: border-box;top: 0;bottom: 0;left: 50%;z-index: -1;}#sk-container-id-1 div.sk-parallel-item {display: flex;flex-direction: column;z-index: 1;position: relative;background-color: white;}#sk-container-id-1 div.sk-parallel-item:first-child::after {align-self: flex-end;width: 50%;}#sk-container-id-1 div.sk-parallel-item:last-child::after {align-self: flex-start;width: 50%;}#sk-container-id-1 div.sk-parallel-item:only-child::after {width: 0;}#sk-container-id-1 div.sk-dashed-wrapped {border: 1px dashed gray;margin: 0 0.4em 0.5em 0.4em;box-sizing: border-box;padding-bottom: 0.4em;background-color: white;}#sk-container-id-1 div.sk-label label {font-family: monospace;font-weight: bold;display: inline-block;line-height: 1.2em;}#sk-container-id-1 div.sk-label-container {text-align: center;}#sk-container-id-1 div.sk-container {/* jupyter's `normalize.less` sets `[hidden] { display: none; }` but bootstrap.min.css set `[hidden] { display: none !important; }` so we also need the `!important` here to be able to override the default hidden behavior on the sphinx rendered scikit-learn.org. See: https://github.com/scikit-learn/scikit-learn/issues/21755 */display: inline-block !important;position: relative;}#sk-container-id-1 div.sk-text-repr-fallback {display: none;}</style><div id=\"sk-container-id-1\" class=\"sk-top-container\"><div class=\"sk-text-repr-fallback\"><pre>LinearSVC(C=1, dual=False, penalty=&#x27;l1&#x27;)</pre><b>In a Jupyter environment, please rerun this cell to show the HTML representation or trust the notebook. <br />On GitHub, the HTML representation is unable to render, please try loading this page with nbviewer.org.</b></div><div class=\"sk-container\" hidden><div class=\"sk-item\"><div class=\"sk-estimator sk-toggleable\"><input class=\"sk-toggleable__control sk-hidden--visually\" id=\"sk-estimator-id-1\" type=\"checkbox\" checked><label for=\"sk-estimator-id-1\" class=\"sk-toggleable__label sk-toggleable__label-arrow\">LinearSVC</label><div class=\"sk-toggleable__content\"><pre>LinearSVC(C=1, dual=False, penalty=&#x27;l1&#x27;)</pre></div></div></div></div></div>"
      ],
      "text/plain": [
       "LinearSVC(C=1, dual=False, penalty='l1')"
      ]
     },
     "execution_count": 297,
     "metadata": {},
     "output_type": "execute_result"
    }
   ],
   "source": [
    "SVC_classifier.fit(X_train, y_train)"
   ]
  },
  {
   "cell_type": "code",
   "execution_count": 298,
   "id": "cdd28137",
   "metadata": {},
   "outputs": [],
   "source": [
    "# Predict decision scores\n",
    "y_pred_scores = SVC_classifier.decision_function(X_test)"
   ]
  },
  {
   "cell_type": "code",
   "execution_count": 299,
   "id": "f41bd8da",
   "metadata": {},
   "outputs": [],
   "source": [
    "# Calculate FPR, TPR, and AUC\n",
    "fpr, tpr, _ = roc_curve(y_test, y_pred_scores)\n",
    "auc = roc_auc_score(y_test, y_pred_scores)"
   ]
  },
  {
   "cell_type": "code",
   "execution_count": 300,
   "id": "3b425cd3",
   "metadata": {},
   "outputs": [
    {
     "name": "stdout",
     "output_type": "stream",
     "text": [
      "\n",
      "AUC ROC Curve for SVC Linear Classifier:\n",
      "\n"
     ]
    },
    {
     "data": {
      "image/png": "[encoded data removed]",
      "text/plain": [
       "<Figure size 640x480 with 1 Axes>"
      ]
     },
     "metadata": {},
     "output_type": "display_data"
    }
   ],
   "source": [
    "print(\"\\nAUC ROC Curve for SVC Linear Classifier:\\n\")\n",
    "# Plot the ROC curve\n",
    "plt.plot(fpr, tpr, label=\"AUC=\"+str(auc))\n",
    "plt.ylabel('True Positive Rate')\n",
    "plt.xlabel('False Positive Rate')\n",
    "plt.legend(loc=4)\n",
    "plt.show()"
   ]
  },
  {
   "cell_type": "markdown",
   "id": "a4f0cbaa",
   "metadata": {},
   "source": [
    "<h2>b) Naive Bayes Gaussian Classifier</h2>"
   ]
  },
  {
   "cell_type": "code",
   "execution_count": 301,
   "id": "31209ffc",
   "metadata": {},
   "outputs": [],
   "source": [
    "NB_classifier = GaussianNB()"
   ]
  },
  {
   "cell_type": "code",
   "execution_count": 302,
   "id": "1fe4df89",
   "metadata": {},
   "outputs": [],
   "source": [
    "y_pred = cross_val_predict(NB_classifier, X, y, cv=kFolds)"
   ]
  },
  {
   "cell_type": "code",
   "execution_count": 303,
   "id": "4b84c88f",
   "metadata": {},
   "outputs": [
    {
     "name": "stdout",
     "output_type": "stream",
     "text": [
      "\n",
      "Cross Validation Metrics for NB Gaussian\n",
      "\n",
      "               precision    recall  f1-score   support\n",
      "\n",
      "           0       0.76      0.85      0.80     35028\n",
      "           1       0.83      0.73      0.78     35028\n",
      "\n",
      "    accuracy                           0.79     70056\n",
      "   macro avg       0.80      0.79      0.79     70056\n",
      "weighted avg       0.80      0.79      0.79     70056\n",
      "\n"
     ]
    }
   ],
   "source": [
    "print(\"\\nCross Validation Metrics for NB Gaussian\\n\\n\", classification_report(y, y_pred))"
   ]
  },
  {
   "cell_type": "code",
   "execution_count": 318,
   "id": "b51782be",
   "metadata": {},
   "outputs": [
    {
     "data": {
      "text/html": [
       "<style>#sk-container-id-4 {color: black;background-color: white;}#sk-container-id-4 pre{padding: 0;}#sk-container-id-4 div.sk-toggleable {background-color: white;}#sk-container-id-4 label.sk-toggleable__label {cursor: pointer;display: block;width: 100%;margin-bottom: 0;padding: 0.3em;box-sizing: border-box;text-align: center;}#sk-container-id-4 label.sk-toggleable__label-arrow:before {content: \"▸\";float: left;margin-right: 0.25em;color: #696969;}#sk-container-id-4 label.sk-toggleable__label-arrow:hover:before {color: black;}#sk-container-id-4 div.sk-estimator:hover label.sk-toggleable__label-arrow:before {color: black;}#sk-container-id-4 div.sk-toggleable__content {max-height: 0;max-width: 0;overflow: hidden;text-align: left;background-color: #f0f8ff;}#sk-container-id-4 div.sk-toggleable__content pre {margin: 0.2em;color: black;border-radius: 0.25em;background-color: #f0f8ff;}#sk-container-id-4 input.sk-toggleable__control:checked~div.sk-toggleable__content {max-height: 200px;max-width: 100%;overflow: auto;}#sk-container-id-4 input.sk-toggleable__control:checked~label.sk-toggleable__label-arrow:before {content: \"▾\";}#sk-container-id-4 div.sk-estimator input.sk-toggleable__control:checked~label.sk-toggleable__label {background-color: #d4ebff;}#sk-container-id-4 div.sk-label input.sk-toggleable__control:checked~label.sk-toggleable__label {background-color: #d4ebff;}#sk-container-id-4 input.sk-hidden--visually {border: 0;clip: rect(1px 1px 1px 1px);clip: rect(1px, 1px, 1px, 1px);height: 1px;margin: -1px;overflow: hidden;padding: 0;position: absolute;width: 1px;}#sk-container-id-4 div.sk-estimator {font-family: monospace;background-color: #f0f8ff;border: 1px dotted black;border-radius: 0.25em;box-sizing: border-box;margin-bottom: 0.5em;}#sk-container-id-4 div.sk-estimator:hover {background-color: #d4ebff;}#sk-container-id-4 div.sk-parallel-item::after {content: \"\";width: 100%;border-bottom: 1px solid gray;flex-grow: 1;}#sk-container-id-4 div.sk-label:hover label.sk-toggleable__label {background-color: #d4ebff;}#sk-container-id-4 div.sk-serial::before {content: \"\";position: absolute;border-left: 1px solid gray;box-sizing: border-box;top: 0;bottom: 0;left: 50%;z-index: 0;}#sk-container-id-4 div.sk-serial {display: flex;flex-direction: column;align-items: center;background-color: white;padding-right: 0.2em;padding-left: 0.2em;position: relative;}#sk-container-id-4 div.sk-item {position: relative;z-index: 1;}#sk-container-id-4 div.sk-parallel {display: flex;align-items: stretch;justify-content: center;background-color: white;position: relative;}#sk-container-id-4 div.sk-item::before, #sk-container-id-4 div.sk-parallel-item::before {content: \"\";position: absolute;border-left: 1px solid gray;box-sizing: border-box;top: 0;bottom: 0;left: 50%;z-index: -1;}#sk-container-id-4 div.sk-parallel-item {display: flex;flex-direction: column;z-index: 1;position: relative;background-color: white;}#sk-container-id-4 div.sk-parallel-item:first-child::after {align-self: flex-end;width: 50%;}#sk-container-id-4 div.sk-parallel-item:last-child::after {align-self: flex-start;width: 50%;}#sk-container-id-4 div.sk-parallel-item:only-child::after {width: 0;}#sk-container-id-4 div.sk-dashed-wrapped {border: 1px dashed gray;margin: 0 0.4em 0.5em 0.4em;box-sizing: border-box;padding-bottom: 0.4em;background-color: white;}#sk-container-id-4 div.sk-label label {font-family: monospace;font-weight: bold;display: inline-block;line-height: 1.2em;}#sk-container-id-4 div.sk-label-container {text-align: center;}#sk-container-id-4 div.sk-container {/* jupyter's `normalize.less` sets `[hidden] { display: none; }` but bootstrap.min.css set `[hidden] { display: none !important; }` so we also need the `!important` here to be able to override the default hidden behavior on the sphinx rendered scikit-learn.org. See: https://github.com/scikit-learn/scikit-learn/issues/21755 */display: inline-block !important;position: relative;}#sk-container-id-4 div.sk-text-repr-fallback {display: none;}</style><div id=\"sk-container-id-4\" class=\"sk-top-container\"><div class=\"sk-text-repr-fallback\"><pre>GaussianNB()</pre><b>In a Jupyter environment, please rerun this cell to show the HTML representation or trust the notebook. <br />On GitHub, the HTML representation is unable to render, please try loading this page with nbviewer.org.</b></div><div class=\"sk-container\" hidden><div class=\"sk-item\"><div class=\"sk-estimator sk-toggleable\"><input class=\"sk-toggleable__control sk-hidden--visually\" id=\"sk-estimator-id-4\" type=\"checkbox\" checked><label for=\"sk-estimator-id-4\" class=\"sk-toggleable__label sk-toggleable__label-arrow\">GaussianNB</label><div class=\"sk-toggleable__content\"><pre>GaussianNB()</pre></div></div></div></div></div>"
      ],
      "text/plain": [
       "GaussianNB()"
      ]
     },
     "execution_count": 318,
     "metadata": {},
     "output_type": "execute_result"
    }
   ],
   "source": [
    "NB_classifier.fit(X_train, y_train)"
   ]
  },
  {
   "cell_type": "code",
   "execution_count": 319,
   "id": "0a8af5e5",
   "metadata": {},
   "outputs": [
    {
     "name": "stdout",
     "output_type": "stream",
     "text": [
      "\n",
      "Confusion Matrix for Gaussian Naive Bayes:\n",
      "\n",
      " Predicted      0      1    All\n",
      "Actual                        \n",
      "0          29834   5194  35028\n",
      "1           9312  25716  35028\n",
      "All        39146  30910  70056\n"
     ]
    }
   ],
   "source": [
    "cm = confusion_matrix(y, y_pred)\n",
    "print(\"\\nConfusion Matrix for Gaussian Naive Bayes:\\n\\n\", pd.crosstab(y, y_pred, rownames=['Actual'], colnames=['Predicted'], margins=True))"
   ]
  },
  {
   "cell_type": "code",
   "execution_count": 320,
   "id": "1d316128",
   "metadata": {},
   "outputs": [],
   "source": [
    "y_pred_proba = NB_classifier.predict_proba(X_test)[::,1]"
   ]
  },
  {
   "cell_type": "code",
   "execution_count": 321,
   "id": "8dc63c1e",
   "metadata": {},
   "outputs": [],
   "source": [
    "# Calculate FPR, TPR, and AUC\n",
    "fpr, tpr, _ = roc_curve(y_test, y_pred_proba)\n",
    "auc = roc_auc_score(y_test, y_pred_proba)"
   ]
  },
  {
   "cell_type": "code",
   "execution_count": 322,
   "id": "33747dab",
   "metadata": {},
   "outputs": [
    {
     "name": "stdout",
     "output_type": "stream",
     "text": [
      "\n",
      "AUC ROC for Gaussian Naive Bayes Classifier:\n"
     ]
    },
    {
     "data": {
      "image/png": "[encoded data removed]",
      "text/plain": [
       "<Figure size 640x480 with 1 Axes>"
      ]
     },
     "metadata": {},
     "output_type": "display_data"
    }
   ],
   "source": [
    "print(\"\\nAUC ROC for Gaussian Naive Bayes Classifier:\")\n",
    "# Plot the ROC curve\n",
    "plt.plot(fpr, tpr, label=\"AUC=\"+str(auc))\n",
    "plt.ylabel('True Positive Rate')\n",
    "plt.xlabel('False Positive Rate')\n",
    "plt.legend(loc=4)\n",
    "plt.show()"
   ]
  },
  {
   "cell_type": "markdown",
   "id": "4bbff97c",
   "metadata": {},
   "source": [
    "<h2>c) Logistic Regression Classifier</h2>"
   ]
  },
  {
   "cell_type": "code",
   "execution_count": 309,
   "id": "e4e9f820",
   "metadata": {},
   "outputs": [],
   "source": [
    "logreg_classifier = LogisticRegression(class_weight='balanced',solver='liblinear')"
   ]
  },
  {
   "cell_type": "code",
   "execution_count": 310,
   "id": "d8657cb2",
   "metadata": {},
   "outputs": [],
   "source": [
    "y_pred_logreg = cross_val_predict(logreg_classifier, X, y, cv=kFolds)"
   ]
  },
  {
   "cell_type": "code",
   "execution_count": 311,
   "id": "aaf13897",
   "metadata": {},
   "outputs": [
    {
     "name": "stdout",
     "output_type": "stream",
     "text": [
      "\n",
      "Cross Validation Metrics for Logistic Regression:\n",
      "\n",
      "               precision    recall  f1-score   support\n",
      "\n",
      "           0       0.90      0.91      0.91     35028\n",
      "           1       0.91      0.90      0.91     35028\n",
      "\n",
      "    accuracy                           0.91     70056\n",
      "   macro avg       0.91      0.91      0.91     70056\n",
      "weighted avg       0.91      0.91      0.91     70056\n",
      "\n"
     ]
    }
   ],
   "source": [
    "print(\"\\nCross Validation Metrics for Logistic Regression:\\n\\n\", classification_report(y, y_pred_logreg))"
   ]
  },
  {
   "cell_type": "code",
   "execution_count": 323,
   "id": "350435fa",
   "metadata": {},
   "outputs": [
    {
     "data": {
      "text/html": [
       "<style>#sk-container-id-5 {color: black;background-color: white;}#sk-container-id-5 pre{padding: 0;}#sk-container-id-5 div.sk-toggleable {background-color: white;}#sk-container-id-5 label.sk-toggleable__label {cursor: pointer;display: block;width: 100%;margin-bottom: 0;padding: 0.3em;box-sizing: border-box;text-align: center;}#sk-container-id-5 label.sk-toggleable__label-arrow:before {content: \"▸\";float: left;margin-right: 0.25em;color: #696969;}#sk-container-id-5 label.sk-toggleable__label-arrow:hover:before {color: black;}#sk-container-id-5 div.sk-estimator:hover label.sk-toggleable__label-arrow:before {color: black;}#sk-container-id-5 div.sk-toggleable__content {max-height: 0;max-width: 0;overflow: hidden;text-align: left;background-color: #f0f8ff;}#sk-container-id-5 div.sk-toggleable__content pre {margin: 0.2em;color: black;border-radius: 0.25em;background-color: #f0f8ff;}#sk-container-id-5 input.sk-toggleable__control:checked~div.sk-toggleable__content {max-height: 200px;max-width: 100%;overflow: auto;}#sk-container-id-5 input.sk-toggleable__control:checked~label.sk-toggleable__label-arrow:before {content: \"▾\";}#sk-container-id-5 div.sk-estimator input.sk-toggleable__control:checked~label.sk-toggleable__label {background-color: #d4ebff;}#sk-container-id-5 div.sk-label input.sk-toggleable__control:checked~label.sk-toggleable__label {background-color: #d4ebff;}#sk-container-id-5 input.sk-hidden--visually {border: 0;clip: rect(1px 1px 1px 1px);clip: rect(1px, 1px, 1px, 1px);height: 1px;margin: -1px;overflow: hidden;padding: 0;position: absolute;width: 1px;}#sk-container-id-5 div.sk-estimator {font-family: monospace;background-color: #f0f8ff;border: 1px dotted black;border-radius: 0.25em;box-sizing: border-box;margin-bottom: 0.5em;}#sk-container-id-5 div.sk-estimator:hover {background-color: #d4ebff;}#sk-container-id-5 div.sk-parallel-item::after {content: \"\";width: 100%;border-bottom: 1px solid gray;flex-grow: 1;}#sk-container-id-5 div.sk-label:hover label.sk-toggleable__label {background-color: #d4ebff;}#sk-container-id-5 div.sk-serial::before {content: \"\";position: absolute;border-left: 1px solid gray;box-sizing: border-box;top: 0;bottom: 0;left: 50%;z-index: 0;}#sk-container-id-5 div.sk-serial {display: flex;flex-direction: column;align-items: center;background-color: white;padding-right: 0.2em;padding-left: 0.2em;position: relative;}#sk-container-id-5 div.sk-item {position: relative;z-index: 1;}#sk-container-id-5 div.sk-parallel {display: flex;align-items: stretch;justify-content: center;background-color: white;position: relative;}#sk-container-id-5 div.sk-item::before, #sk-container-id-5 div.sk-parallel-item::before {content: \"\";position: absolute;border-left: 1px solid gray;box-sizing: border-box;top: 0;bottom: 0;left: 50%;z-index: -1;}#sk-container-id-5 div.sk-parallel-item {display: flex;flex-direction: column;z-index: 1;position: relative;background-color: white;}#sk-container-id-5 div.sk-parallel-item:first-child::after {align-self: flex-end;width: 50%;}#sk-container-id-5 div.sk-parallel-item:last-child::after {align-self: flex-start;width: 50%;}#sk-container-id-5 div.sk-parallel-item:only-child::after {width: 0;}#sk-container-id-5 div.sk-dashed-wrapped {border: 1px dashed gray;margin: 0 0.4em 0.5em 0.4em;box-sizing: border-box;padding-bottom: 0.4em;background-color: white;}#sk-container-id-5 div.sk-label label {font-family: monospace;font-weight: bold;display: inline-block;line-height: 1.2em;}#sk-container-id-5 div.sk-label-container {text-align: center;}#sk-container-id-5 div.sk-container {/* jupyter's `normalize.less` sets `[hidden] { display: none; }` but bootstrap.min.css set `[hidden] { display: none !important; }` so we also need the `!important` here to be able to override the default hidden behavior on the sphinx rendered scikit-learn.org. See: https://github.com/scikit-learn/scikit-learn/issues/21755 */display: inline-block !important;position: relative;}#sk-container-id-5 div.sk-text-repr-fallback {display: none;}</style><div id=\"sk-container-id-5\" class=\"sk-top-container\"><div class=\"sk-text-repr-fallback\"><pre>LogisticRegression(class_weight=&#x27;balanced&#x27;, solver=&#x27;liblinear&#x27;)</pre><b>In a Jupyter environment, please rerun this cell to show the HTML representation or trust the notebook. <br />On GitHub, the HTML representation is unable to render, please try loading this page with nbviewer.org.</b></div><div class=\"sk-container\" hidden><div class=\"sk-item\"><div class=\"sk-estimator sk-toggleable\"><input class=\"sk-toggleable__control sk-hidden--visually\" id=\"sk-estimator-id-5\" type=\"checkbox\" checked><label for=\"sk-estimator-id-5\" class=\"sk-toggleable__label sk-toggleable__label-arrow\">LogisticRegression</label><div class=\"sk-toggleable__content\"><pre>LogisticRegression(class_weight=&#x27;balanced&#x27;, solver=&#x27;liblinear&#x27;)</pre></div></div></div></div></div>"
      ],
      "text/plain": [
       "LogisticRegression(class_weight='balanced', solver='liblinear')"
      ]
     },
     "execution_count": 323,
     "metadata": {},
     "output_type": "execute_result"
    }
   ],
   "source": [
    "logreg_classifier.fit(X_train, y_train)"
   ]
  },
  {
   "cell_type": "code",
   "execution_count": 324,
   "id": "81dd4b94",
   "metadata": {},
   "outputs": [
    {
     "name": "stdout",
     "output_type": "stream",
     "text": [
      "\n",
      "Confusion Matrix for Logistic Regression:\n",
      "\n",
      " Predicted      0      1    All\n",
      "Actual                        \n",
      "0          31902   3126  35028\n",
      "1           3369  31659  35028\n",
      "All        35271  34785  70056\n"
     ]
    }
   ],
   "source": [
    "cm_logreg = confusion_matrix(y, y_pred_logreg)\n",
    "print(\"\\nConfusion Matrix for Logistic Regression:\\n\\n\", pd.crosstab(y, y_pred_logreg, rownames=['Actual'], colnames=['Predicted'], margins=True))"
   ]
  },
  {
   "cell_type": "code",
   "execution_count": 325,
   "id": "7a7c1a86",
   "metadata": {},
   "outputs": [],
   "source": [
    "# Predict probabilities\n",
    "y_pred_proba = logreg_classifier.predict_proba(X_test)[::,1]"
   ]
  },
  {
   "cell_type": "code",
   "execution_count": 326,
   "id": "e1e1e9b3",
   "metadata": {},
   "outputs": [],
   "source": [
    "# Calculate FPR, TPR, and AUC\n",
    "fpr, tpr, _ = roc_curve(y_test, y_pred_proba)\n",
    "auc = roc_auc_score(y_test, y_pred_proba)"
   ]
  },
  {
   "cell_type": "code",
   "execution_count": 327,
   "id": "601d4446",
   "metadata": {
    "scrolled": false
   },
   "outputs": [
    {
     "name": "stdout",
     "output_type": "stream",
     "text": [
      "\n",
      "AUC ROC for Logistic Regression:\n"
     ]
    },
    {
     "data": {
      "image/png": "[encoded data removed]",
      "text/plain": [
       "<Figure size 640x480 with 1 Axes>"
      ]
     },
     "metadata": {},
     "output_type": "display_data"
    }
   ],
   "source": [
    "print(\"\\nAUC ROC for Logistic Regression:\")\n",
    "# Plot the ROC curve\n",
    "plt.plot(fpr, tpr, label=\"AUC=\"+str(auc))\n",
    "plt.ylabel('True Positive Rate')\n",
    "plt.xlabel('False Positive Rate')\n",
    "plt.legend(loc=4)\n",
    "plt.show()"
   ]
  },
  {
   "cell_type": "markdown",
   "id": "4a859258",
   "metadata": {},
   "source": [
    "<h3>Test 9.a-c Discussion: Combining Featuresets and Using SciKit Learn Classifiers</h3>\n",
    "<br>  \n",
    "<body>\n",
    "The combining of several featuresets, mixing BoW features with several quantitative linguistic features gave us a reasonably high score, with\n",
    "    <b>Accuracy / Precision / Recall / F1 in the 90-91% range </b> on \n",
    "    both the <b>Linear SVC</b> and the <b>Logistic Regression</b> classifiers. \n",
    "<br><br>\n",
    "Suprisingly, the Gaussian Naive Bayes classifier produced significantly poorer results--among the lowest we achieved--with a mean accuracy of only 79%. \n",
    "</body>"
   ]
  },
  {
   "cell_type": "markdown",
   "id": "8b6432ea",
   "metadata": {},
   "source": [
    "<h1>Test 15b: TF-IDF vectorization with quantitative linguistic features</h1>\n",
    "<br>\n",
    "<body>This was a quick experiment with adding several of the quantitative linguistic features used with the unigram Bag of Words featureset to a TF-IDF vectorization. We found that it enhanced performance, yielding some of our highest scores.</body>"
   ]
  },
  {
   "cell_type": "code",
   "execution_count": 7,
   "id": "4c9d5339",
   "metadata": {},
   "outputs": [],
   "source": [
    "from sklearn.feature_extraction.text import TfidfVectorizer\n",
    "from sklearn.ensemble import RandomForestClassifier\n",
    "from sklearn.metrics import precision_recall_fscore_support as score"
   ]
  },
  {
   "cell_type": "code",
   "execution_count": 8,
   "id": "702ad6fd",
   "metadata": {},
   "outputs": [],
   "source": [
    "data = pd.read_csv('~/WELFake_Dataset.csv', \n",
    "                 index_col=None, \n",
    "                 header=0,\n",
    "                 names=['title', 'text', 'label'])\n",
    "\n",
    "data.dropna(inplace=True)\n",
    "data.reset_index(drop=True, inplace=True)"
   ]
  },
  {
   "cell_type": "code",
   "execution_count": 9,
   "id": "d9ef0db2",
   "metadata": {},
   "outputs": [],
   "source": [
    "data['punct%'] = data['title'].apply(lambda x: percent_punct(x))"
   ]
  },
  {
   "cell_type": "code",
   "execution_count": 10,
   "id": "bdf91093",
   "metadata": {},
   "outputs": [],
   "source": [
    "data['body_len'] = data['title'].apply(lambda x: len(x) - x.count(\" \"))"
   ]
  },
  {
   "cell_type": "code",
   "execution_count": 11,
   "id": "b9f84877",
   "metadata": {},
   "outputs": [],
   "source": [
    "data['all_caps'] = data['title'].apply(lambda x: percent_ALL_CAP(x))"
   ]
  },
  {
   "cell_type": "code",
   "execution_count": 16,
   "id": "767ddf7b",
   "metadata": {},
   "outputs": [],
   "source": [
    "from nltk.tokenize import RegexpTokenizer\n",
    "\n",
    "def clean_text(text):\n",
    "    # Lowercase the text and remove unwanted characters\n",
    "    text = \"\".join([word.lower() for word in text if (word not in string.punctuation and \n",
    "    word not in extra_punct) or word in style_punct])\n",
    "    \n",
    "    # Define a RegexpTokenizer that tokenizes asteriks within words (e.g. for obscuring expletives)\n",
    "    # and keeps hashes with hashtags\n",
    "    tokenizer = RegexpTokenizer(r'[A-Za-z*]+|\\S+')\n",
    "\n",
    "    # Tokenize the cleaned text\n",
    "    tokens = tokenizer.tokenize(text)\n",
    "    \n",
    "    # stem words using Snowball Stemmer\n",
    "    text = [stemmer.stem(word) for word in tokens if word not in filter_words]\n",
    "\n",
    "    return text"
   ]
  },
  {
   "cell_type": "code",
   "execution_count": 20,
   "id": "9ed5b106",
   "metadata": {},
   "outputs": [],
   "source": [
    "from sklearn.model_selection import train_test_split\n",
    "\n",
    "X_train, X_test, y_train, y_test = train_test_split(data[['title', 'punct%', 'all_caps', 'body_len']], data['label'], test_size=0.3)"
   ]
  },
  {
   "cell_type": "code",
   "execution_count": 21,
   "id": "ace02297",
   "metadata": {
    "scrolled": true
   },
   "outputs": [
    {
     "data": {
      "text/html": [
       "<div>\n",
       "<style scoped>\n",
       "    .dataframe tbody tr th:only-of-type {\n",
       "        vertical-align: middle;\n",
       "    }\n",
       "\n",
       "    .dataframe tbody tr th {\n",
       "        vertical-align: top;\n",
       "    }\n",
       "\n",
       "    .dataframe thead th {\n",
       "        text-align: right;\n",
       "    }\n",
       "</style>\n",
       "<table border=\"1\" class=\"dataframe\">\n",
       "  <thead>\n",
       "    <tr style=\"text-align: right;\">\n",
       "      <th></th>\n",
       "      <th>punct%</th>\n",
       "      <th>all_caps</th>\n",
       "      <th>body_len</th>\n",
       "      <th>0</th>\n",
       "      <th>1</th>\n",
       "      <th>2</th>\n",
       "      <th>3</th>\n",
       "      <th>4</th>\n",
       "      <th>5</th>\n",
       "      <th>6</th>\n",
       "      <th>...</th>\n",
       "      <th>22450</th>\n",
       "      <th>22451</th>\n",
       "      <th>22452</th>\n",
       "      <th>22453</th>\n",
       "      <th>22454</th>\n",
       "      <th>22455</th>\n",
       "      <th>22456</th>\n",
       "      <th>22457</th>\n",
       "      <th>22458</th>\n",
       "      <th>22459</th>\n",
       "    </tr>\n",
       "  </thead>\n",
       "  <tbody>\n",
       "    <tr>\n",
       "      <th>0</th>\n",
       "      <td>0.01</td>\n",
       "      <td>0.07</td>\n",
       "      <td>64</td>\n",
       "      <td>0.000000</td>\n",
       "      <td>0.0</td>\n",
       "      <td>0.0</td>\n",
       "      <td>0.0</td>\n",
       "      <td>0.0</td>\n",
       "      <td>0.0</td>\n",
       "      <td>0.0</td>\n",
       "      <td>...</td>\n",
       "      <td>0.0</td>\n",
       "      <td>0.0</td>\n",
       "      <td>0.0</td>\n",
       "      <td>0.0</td>\n",
       "      <td>0.0</td>\n",
       "      <td>0.0</td>\n",
       "      <td>0.0</td>\n",
       "      <td>0.0</td>\n",
       "      <td>0.0</td>\n",
       "      <td>0.0</td>\n",
       "    </tr>\n",
       "    <tr>\n",
       "      <th>1</th>\n",
       "      <td>0.04</td>\n",
       "      <td>0.25</td>\n",
       "      <td>65</td>\n",
       "      <td>0.000000</td>\n",
       "      <td>0.0</td>\n",
       "      <td>0.0</td>\n",
       "      <td>0.0</td>\n",
       "      <td>0.0</td>\n",
       "      <td>0.0</td>\n",
       "      <td>0.0</td>\n",
       "      <td>...</td>\n",
       "      <td>0.0</td>\n",
       "      <td>0.0</td>\n",
       "      <td>0.0</td>\n",
       "      <td>0.0</td>\n",
       "      <td>0.0</td>\n",
       "      <td>0.0</td>\n",
       "      <td>0.0</td>\n",
       "      <td>0.0</td>\n",
       "      <td>0.0</td>\n",
       "      <td>0.0</td>\n",
       "    </tr>\n",
       "    <tr>\n",
       "      <th>2</th>\n",
       "      <td>0.08</td>\n",
       "      <td>0.09</td>\n",
       "      <td>64</td>\n",
       "      <td>0.000000</td>\n",
       "      <td>0.0</td>\n",
       "      <td>0.0</td>\n",
       "      <td>0.0</td>\n",
       "      <td>0.0</td>\n",
       "      <td>0.0</td>\n",
       "      <td>0.0</td>\n",
       "      <td>...</td>\n",
       "      <td>0.0</td>\n",
       "      <td>0.0</td>\n",
       "      <td>0.0</td>\n",
       "      <td>0.0</td>\n",
       "      <td>0.0</td>\n",
       "      <td>0.0</td>\n",
       "      <td>0.0</td>\n",
       "      <td>0.0</td>\n",
       "      <td>0.0</td>\n",
       "      <td>0.0</td>\n",
       "    </tr>\n",
       "    <tr>\n",
       "      <th>3</th>\n",
       "      <td>0.03</td>\n",
       "      <td>0.46</td>\n",
       "      <td>85</td>\n",
       "      <td>0.146367</td>\n",
       "      <td>0.0</td>\n",
       "      <td>0.0</td>\n",
       "      <td>0.0</td>\n",
       "      <td>0.0</td>\n",
       "      <td>0.0</td>\n",
       "      <td>0.0</td>\n",
       "      <td>...</td>\n",
       "      <td>0.0</td>\n",
       "      <td>0.0</td>\n",
       "      <td>0.0</td>\n",
       "      <td>0.0</td>\n",
       "      <td>0.0</td>\n",
       "      <td>0.0</td>\n",
       "      <td>0.0</td>\n",
       "      <td>0.0</td>\n",
       "      <td>0.0</td>\n",
       "      <td>0.0</td>\n",
       "    </tr>\n",
       "    <tr>\n",
       "      <th>4</th>\n",
       "      <td>0.01</td>\n",
       "      <td>0.36</td>\n",
       "      <td>123</td>\n",
       "      <td>0.000000</td>\n",
       "      <td>0.0</td>\n",
       "      <td>0.0</td>\n",
       "      <td>0.0</td>\n",
       "      <td>0.0</td>\n",
       "      <td>0.0</td>\n",
       "      <td>0.0</td>\n",
       "      <td>...</td>\n",
       "      <td>0.0</td>\n",
       "      <td>0.0</td>\n",
       "      <td>0.0</td>\n",
       "      <td>0.0</td>\n",
       "      <td>0.0</td>\n",
       "      <td>0.0</td>\n",
       "      <td>0.0</td>\n",
       "      <td>0.0</td>\n",
       "      <td>0.0</td>\n",
       "      <td>0.0</td>\n",
       "    </tr>\n",
       "  </tbody>\n",
       "</table>\n",
       "<p>5 rows × 22463 columns</p>\n",
       "</div>"
      ],
      "text/plain": [
       "   punct%  all_caps  body_len         0    1    2    3    4    5    6  ...  \\\n",
       "0    0.01      0.07        64  0.000000  0.0  0.0  0.0  0.0  0.0  0.0  ...   \n",
       "1    0.04      0.25        65  0.000000  0.0  0.0  0.0  0.0  0.0  0.0  ...   \n",
       "2    0.08      0.09        64  0.000000  0.0  0.0  0.0  0.0  0.0  0.0  ...   \n",
       "3    0.03      0.46        85  0.146367  0.0  0.0  0.0  0.0  0.0  0.0  ...   \n",
       "4    0.01      0.36       123  0.000000  0.0  0.0  0.0  0.0  0.0  0.0  ...   \n",
       "\n",
       "   22450  22451  22452  22453  22454  22455  22456  22457  22458  22459  \n",
       "0    0.0    0.0    0.0    0.0    0.0    0.0    0.0    0.0    0.0    0.0  \n",
       "1    0.0    0.0    0.0    0.0    0.0    0.0    0.0    0.0    0.0    0.0  \n",
       "2    0.0    0.0    0.0    0.0    0.0    0.0    0.0    0.0    0.0    0.0  \n",
       "3    0.0    0.0    0.0    0.0    0.0    0.0    0.0    0.0    0.0    0.0  \n",
       "4    0.0    0.0    0.0    0.0    0.0    0.0    0.0    0.0    0.0    0.0  \n",
       "\n",
       "[5 rows x 22463 columns]"
      ]
     },
     "execution_count": 21,
     "metadata": {},
     "output_type": "execute_result"
    }
   ],
   "source": [
    "tfidf_vect = TfidfVectorizer(analyzer=clean_text)\n",
    "tfidf_vect_fit = tfidf_vect.fit(X_train['title'])\n",
    "\n",
    "tfidf_train = tfidf_vect_fit.transform(X_train['title'])\n",
    "tfidf_test = tfidf_vect_fit.transform(X_test['title'])\n",
    "\n",
    "X_train_vect = pd.concat([X_train[['punct%','all_caps', 'body_len']].reset_index(drop=True), \n",
    "           pd.DataFrame(tfidf_train.toarray())], axis=1)\n",
    "X_test_vect = pd.concat([X_test[['punct%', 'all_caps', 'body_len']].reset_index(drop=True), \n",
    "           pd.DataFrame(tfidf_test.toarray())], axis=1)\n",
    "\n",
    "X_train_vect.head()"
   ]
  },
  {
   "cell_type": "code",
   "execution_count": 22,
   "id": "7c028e3c",
   "metadata": {},
   "outputs": [],
   "source": [
    "rf = RandomForestClassifier(n_estimators=150, max_depth=None, n_jobs=-1)\n",
    "\n",
    "X_train_vect.columns = X_train_vect.columns.astype(str)\n",
    "rf_model = rf.fit(X_train_vect, y_train)\n",
    "\n",
    "X_test_vect.columns = X_test_vect.columns.astype(str)\n",
    "y_pred = rf_model.predict(X_test_vect)"
   ]
  },
  {
   "cell_type": "code",
   "execution_count": 61,
   "id": "a3bee4b0",
   "metadata": {},
   "outputs": [
    {
     "name": "stdout",
     "output_type": "stream",
     "text": [
      "Precision: 0.939 / Recall: 0.951 / Accuracy: 0.944\n",
      "F1: 0.945\n"
     ]
    }
   ],
   "source": [
    "precision, recall, fscore, train_support = score(y_test, y_pred, pos_label=1, average='binary')\n",
    "print('Precision: {} / Recall: {} / Accuracy: {}'.format(round(precision, 3), round(recall, 3), round((y_pred==y_test).sum()/len(y_pred), 3)))\n",
    "\n",
    "def calculate_f1_score(precision, recall):\n",
    "    f1_score = 2 * (precision * recall) / (precision + recall)\n",
    "    return f1_score\n",
    "\n",
    "f1 = round(calculate_f1_score(precision, recall), 3)\n",
    "print(f\"F1: {f1}\")"
   ]
  },
  {
   "cell_type": "code",
   "execution_count": 63,
   "id": "02384dd6",
   "metadata": {},
   "outputs": [
    {
     "name": "stdout",
     "output_type": "stream",
     "text": [
      "Neg_Precision: 0.949 / Neg_Recall: 0.936 / Neg_Accuracy: 0.944\n",
      "Neg_F1: 0.942\n"
     ]
    }
   ],
   "source": [
    "precision, recall, fscore, train_support = score(y_test, y_pred, pos_label=0, average='binary')\n",
    "print('Neg_Precision: {} / Neg_Recall: {} / Neg_Accuracy: {}'.format(round(precision, 3), round(recall, 3), round((y_pred==y_test).sum()/len(y_pred), 3)))\n",
    "\n",
    "def calculate_f1_score(precision, recall):\n",
    "    f1_score = 2 * (precision * recall) / (precision + recall)\n",
    "    return f1_score\n",
    "\n",
    "f1 = round(calculate_f1_score(precision, recall), 3)\n",
    "print(f\"Neg_F1: {f1}\")"
   ]
  }
 ],
 "metadata": {
  "kernelspec": {
   "display_name": "Python [conda env:root] *",
   "language": "python",
   "name": "conda-root-py"
  },
  "language_info": {
   "codemirror_mode": {
    "name": "ipython",
    "version": 3
   },
   "file_extension": ".py",
   "mimetype": "text/x-python",
   "name": "python",
   "nbconvert_exporter": "python",
   "pygments_lexer": "ipython3",
   "version": "3.11.8"
  }
 },
 "nbformat": 4,
 "nbformat_minor": 5
}
