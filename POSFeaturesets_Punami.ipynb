{
 "cells": [
  {
   "cell_type": "code",
   "execution_count": 3,
   "id": "b98ac88c",
   "metadata": {},
   "outputs": [],
   "source": [
    "import pandas as pd \n",
    "import numpy as np\n",
    "import matplotlib.pyplot as plt"
   ]
  },
  {
   "cell_type": "code",
   "execution_count": 4,
   "id": "d96f1ca9",
   "metadata": {},
   "outputs": [
    {
     "data": {
      "text/html": [
       "<div>\n",
       "<style scoped>\n",
       "    .dataframe tbody tr th:only-of-type {\n",
       "        vertical-align: middle;\n",
       "    }\n",
       "\n",
       "    .dataframe tbody tr th {\n",
       "        vertical-align: top;\n",
       "    }\n",
       "\n",
       "    .dataframe thead th {\n",
       "        text-align: right;\n",
       "    }\n",
       "</style>\n",
       "<table border=\"1\" class=\"dataframe\">\n",
       "  <thead>\n",
       "    <tr style=\"text-align: right;\">\n",
       "      <th></th>\n",
       "      <th>Unnamed: 0</th>\n",
       "      <th>title</th>\n",
       "      <th>text</th>\n",
       "      <th>label</th>\n",
       "    </tr>\n",
       "  </thead>\n",
       "  <tbody>\n",
       "    <tr>\n",
       "      <th>0</th>\n",
       "      <td>0</td>\n",
       "      <td>LAW ENFORCEMENT ON HIGH ALERT Following Threat...</td>\n",
       "      <td>No comment is expected from Barack Obama Membe...</td>\n",
       "      <td>1</td>\n",
       "    </tr>\n",
       "    <tr>\n",
       "      <th>1</th>\n",
       "      <td>1</td>\n",
       "      <td>NaN</td>\n",
       "      <td>Did they post their votes for Hillary already?</td>\n",
       "      <td>1</td>\n",
       "    </tr>\n",
       "    <tr>\n",
       "      <th>2</th>\n",
       "      <td>2</td>\n",
       "      <td>UNBELIEVABLE! OBAMA’S ATTORNEY GENERAL SAYS MO...</td>\n",
       "      <td>Now, most of the demonstrators gathered last ...</td>\n",
       "      <td>1</td>\n",
       "    </tr>\n",
       "    <tr>\n",
       "      <th>3</th>\n",
       "      <td>3</td>\n",
       "      <td>Bobby Jindal, raised Hindu, uses story of Chri...</td>\n",
       "      <td>A dozen politically active pastors came here f...</td>\n",
       "      <td>0</td>\n",
       "    </tr>\n",
       "    <tr>\n",
       "      <th>4</th>\n",
       "      <td>4</td>\n",
       "      <td>SATAN 2: Russia unvelis an image of its terrif...</td>\n",
       "      <td>The RS-28 Sarmat missile, dubbed Satan 2, will...</td>\n",
       "      <td>1</td>\n",
       "    </tr>\n",
       "  </tbody>\n",
       "</table>\n",
       "</div>"
      ],
      "text/plain": [
       "   Unnamed: 0                                              title  \\\n",
       "0           0  LAW ENFORCEMENT ON HIGH ALERT Following Threat...   \n",
       "1           1                                                NaN   \n",
       "2           2  UNBELIEVABLE! OBAMA’S ATTORNEY GENERAL SAYS MO...   \n",
       "3           3  Bobby Jindal, raised Hindu, uses story of Chri...   \n",
       "4           4  SATAN 2: Russia unvelis an image of its terrif...   \n",
       "\n",
       "                                                text  label  \n",
       "0  No comment is expected from Barack Obama Membe...      1  \n",
       "1     Did they post their votes for Hillary already?      1  \n",
       "2   Now, most of the demonstrators gathered last ...      1  \n",
       "3  A dozen politically active pastors came here f...      0  \n",
       "4  The RS-28 Sarmat missile, dubbed Satan 2, will...      1  "
      ]
     },
     "execution_count": 4,
     "metadata": {},
     "output_type": "execute_result"
    }
   ],
   "source": [
    "df = pd.read_csv('Fake News Data.csv')\n",
    "df.head()"
   ]
  },
  {
   "cell_type": "code",
   "execution_count": 5,
   "id": "fe09fe80",
   "metadata": {},
   "outputs": [
    {
     "name": "stdout",
     "output_type": "stream",
     "text": [
      "<class 'pandas.core.frame.DataFrame'>\n",
      "RangeIndex: 72134 entries, 0 to 72133\n",
      "Data columns (total 4 columns):\n",
      " #   Column      Non-Null Count  Dtype \n",
      "---  ------      --------------  ----- \n",
      " 0   Unnamed: 0  72134 non-null  int64 \n",
      " 1   title       71576 non-null  object\n",
      " 2   text        72095 non-null  object\n",
      " 3   label       72134 non-null  int64 \n",
      "dtypes: int64(2), object(2)\n",
      "memory usage: 2.2+ MB\n"
     ]
    }
   ],
   "source": [
    "df.info()"
   ]
  },
  {
   "cell_type": "code",
   "execution_count": 6,
   "id": "da60d7a9",
   "metadata": {},
   "outputs": [
    {
     "data": {
      "text/plain": [
       "1    37106\n",
       "0    35028\n",
       "Name: label, dtype: int64"
      ]
     },
     "execution_count": 6,
     "metadata": {},
     "output_type": "execute_result"
    }
   ],
   "source": [
    "df['label'].value_counts()"
   ]
  },
  {
   "cell_type": "code",
   "execution_count": 7,
   "id": "ac98eb67",
   "metadata": {},
   "outputs": [
    {
     "data": {
      "text/html": [
       "<div>\n",
       "<style scoped>\n",
       "    .dataframe tbody tr th:only-of-type {\n",
       "        vertical-align: middle;\n",
       "    }\n",
       "\n",
       "    .dataframe tbody tr th {\n",
       "        vertical-align: top;\n",
       "    }\n",
       "\n",
       "    .dataframe thead th {\n",
       "        text-align: right;\n",
       "    }\n",
       "</style>\n",
       "<table border=\"1\" class=\"dataframe\">\n",
       "  <thead>\n",
       "    <tr style=\"text-align: right;\">\n",
       "      <th></th>\n",
       "      <th>title</th>\n",
       "      <th>text</th>\n",
       "      <th>label</th>\n",
       "    </tr>\n",
       "  </thead>\n",
       "  <tbody>\n",
       "    <tr>\n",
       "      <th>0</th>\n",
       "      <td>LAW ENFORCEMENT ON HIGH ALERT Following Threat...</td>\n",
       "      <td>No comment is expected from Barack Obama Membe...</td>\n",
       "      <td>1</td>\n",
       "    </tr>\n",
       "    <tr>\n",
       "      <th>1</th>\n",
       "      <td>NaN</td>\n",
       "      <td>Did they post their votes for Hillary already?</td>\n",
       "      <td>1</td>\n",
       "    </tr>\n",
       "    <tr>\n",
       "      <th>2</th>\n",
       "      <td>UNBELIEVABLE! OBAMA’S ATTORNEY GENERAL SAYS MO...</td>\n",
       "      <td>Now, most of the demonstrators gathered last ...</td>\n",
       "      <td>1</td>\n",
       "    </tr>\n",
       "    <tr>\n",
       "      <th>3</th>\n",
       "      <td>Bobby Jindal, raised Hindu, uses story of Chri...</td>\n",
       "      <td>A dozen politically active pastors came here f...</td>\n",
       "      <td>0</td>\n",
       "    </tr>\n",
       "    <tr>\n",
       "      <th>4</th>\n",
       "      <td>SATAN 2: Russia unvelis an image of its terrif...</td>\n",
       "      <td>The RS-28 Sarmat missile, dubbed Satan 2, will...</td>\n",
       "      <td>1</td>\n",
       "    </tr>\n",
       "  </tbody>\n",
       "</table>\n",
       "</div>"
      ],
      "text/plain": [
       "                                               title  \\\n",
       "0  LAW ENFORCEMENT ON HIGH ALERT Following Threat...   \n",
       "1                                                NaN   \n",
       "2  UNBELIEVABLE! OBAMA’S ATTORNEY GENERAL SAYS MO...   \n",
       "3  Bobby Jindal, raised Hindu, uses story of Chri...   \n",
       "4  SATAN 2: Russia unvelis an image of its terrif...   \n",
       "\n",
       "                                                text  label  \n",
       "0  No comment is expected from Barack Obama Membe...      1  \n",
       "1     Did they post their votes for Hillary already?      1  \n",
       "2   Now, most of the demonstrators gathered last ...      1  \n",
       "3  A dozen politically active pastors came here f...      0  \n",
       "4  The RS-28 Sarmat missile, dubbed Satan 2, will...      1  "
      ]
     },
     "execution_count": 7,
     "metadata": {},
     "output_type": "execute_result"
    }
   ],
   "source": [
    "df.drop('Unnamed: 0', axis=1, inplace=True)\n",
    "df.head()"
   ]
  },
  {
   "cell_type": "code",
   "execution_count": 8,
   "id": "ca75d0fb",
   "metadata": {},
   "outputs": [
    {
     "data": {
      "text/plain": [
       "title    558\n",
       "text      39\n",
       "label      0\n",
       "dtype: int64"
      ]
     },
     "execution_count": 8,
     "metadata": {},
     "output_type": "execute_result"
    }
   ],
   "source": [
    "df.isnull().sum()"
   ]
  },
  {
   "cell_type": "code",
   "execution_count": 9,
   "id": "6fe6c7b0",
   "metadata": {},
   "outputs": [],
   "source": [
    "df = df.dropna()"
   ]
  },
  {
   "cell_type": "code",
   "execution_count": 10,
   "id": "0b3e6b2a",
   "metadata": {},
   "outputs": [],
   "source": [
    "import nltk\n",
    "from nltk import bigrams\n",
    "from nltk import FreqDist\n",
    "from nltk.util import ngrams\n",
    "\n",
    "from nltk.classify import NaiveBayesClassifier\n",
    "from nltk.classify.util import accuracy\n",
    "from nltk import pos_tag"
   ]
  },
  {
   "cell_type": "markdown",
   "id": "6fe5b872",
   "metadata": {},
   "source": [
    "### Lowercase, Remove Punctuation"
   ]
  },
  {
   "cell_type": "code",
   "execution_count": 11,
   "id": "ead89e24",
   "metadata": {},
   "outputs": [],
   "source": [
    "#df['text'] = df['text'].str.lower()  #lower case\n",
    "#df['text'] = df['text'].str.replace(r'\\d+', '', regex=True)  # numbers\n",
    "#df['text'] = df['text'].str.replace(r'[^\\w\\s]', '', regex=True)  #  punctuation\n",
    "# keep relevant punctuation "
   ]
  },
  {
   "cell_type": "code",
   "execution_count": 12,
   "id": "7263b5bd",
   "metadata": {},
   "outputs": [],
   "source": [
    "df['title'] = df['title'].str.lower()  #lower case\n",
    "#df['text'] = df['text'].str.replace(r'\\d+', '', regex=True)  # numbers\n",
    "#df['title'] = df['title'].str.replace(r'[^\\w\\s]', '', regex=True)  #  punctuation\n",
    "#df['title'] = df['title'].str.replace(r'[]', '', regex=True)  #  punctuation\n",
    "\n",
    "df['title'] = df['title'].str.replace(r'[\\[\\]]', '', regex=True)\n",
    "\n",
    "# keep relevant punctuation "
   ]
  },
  {
   "cell_type": "markdown",
   "id": "4a8a3dd7",
   "metadata": {},
   "source": [
    "### Handled NAs, Tokenization"
   ]
  },
  {
   "cell_type": "code",
   "execution_count": 13,
   "id": "53fc6f47",
   "metadata": {},
   "outputs": [],
   "source": [
    "# Tokenize the text and title, then combine them for each row and pair with the label\n",
    "#df['combined_text'] = df['title'].fillna('') + ' ' + df['text'].fillna('')\n",
    "#documents = [(nltk.word_tokenize(text), label) for text, label in zip(df['combined_text'], df['label'])]"
   ]
  },
  {
   "cell_type": "code",
   "execution_count": 14,
   "id": "e1e38660",
   "metadata": {},
   "outputs": [],
   "source": [
    "df['combined_text'] = df['title'].fillna('')"
   ]
  },
  {
   "cell_type": "code",
   "execution_count": 15,
   "id": "d762dc9c",
   "metadata": {},
   "outputs": [],
   "source": [
    "#df['combined_text'] = df['title'].fillna('') + ' ' + df['text'].fillna('')\n",
    "tokens = [nltk.word_tokenize(text) for text in df['combined_text']]\n",
    "labels = df['label'].tolist()"
   ]
  },
  {
   "cell_type": "markdown",
   "id": "c59c4ec7",
   "metadata": {},
   "source": [
    "### Removing Stop Words"
   ]
  },
  {
   "cell_type": "code",
   "execution_count": 16,
   "id": "0e5325a8",
   "metadata": {},
   "outputs": [],
   "source": [
    "from nltk.corpus import stopwords\n",
    "stop_words = set(stopwords.words('english'))"
   ]
  },
  {
   "cell_type": "markdown",
   "id": "df071e26",
   "metadata": {},
   "source": [
    "### Featuresets - POS + Bigrams"
   ]
  },
  {
   "cell_type": "code",
   "execution_count": 17,
   "id": "e39222e9",
   "metadata": {},
   "outputs": [],
   "source": [
    "# Process documents and collect frequency distribution\n",
    "all_words = []\n",
    "all_bigrams = []\n",
    "all_tags = []\n",
    "\n",
    "for token_list in tokens:\n",
    "    # Filter tokens in one go with a list comprehension\n",
    "    words = [word for word in token_list if word not in stop_words and len(word) > 1]\n",
    "    #words = [word for word in token_list if len(word) > 1]\n",
    "    all_words.extend(words)\n",
    "    # You only need to create bigrams if you're going to use them\n",
    "    bigrams_list = list(ngrams(words, 2))\n",
    "    all_bigrams.extend(bigrams_list)\n",
    "    # Store POS tags once to avoid repeated computation\n",
    "    pos_tags = pos_tag(words)\n",
    "    all_tags.extend([tag for _, tag in pos_tags])"
   ]
  },
  {
   "cell_type": "code",
   "execution_count": 18,
   "id": "a55bbd2e",
   "metadata": {},
   "outputs": [],
   "source": [
    "# Using FreqDist is faster if you feed the entire list of words/bigrams/tags at once\n",
    "word_freq = FreqDist(all_words)\n",
    "bigram_freq = FreqDist(all_bigrams)\n",
    "tag_freq = FreqDist(all_tags)"
   ]
  },
  {
   "cell_type": "code",
   "execution_count": 19,
   "id": "12a1ea91",
   "metadata": {},
   "outputs": [],
   "source": [
    "# Select the top N most common words, bigrams, and POS tags\n",
    "top_n = 2000\n",
    "most_common_words = {word for word, _ in word_freq.most_common(top_n)}\n",
    "most_common_bigrams = {bigram for bigram, _ in bigram_freq.most_common(top_n)}\n",
    "most_common_tags = {tag for tag, _ in tag_freq.most_common(top_n)}"
   ]
  },
  {
   "cell_type": "code",
   "execution_count": 20,
   "id": "73f7010c",
   "metadata": {},
   "outputs": [],
   "source": [
    "# Define the feature extraction function\n",
    "def document_features(document, most_common_words, most_common_bigrams, most_common_tags):\n",
    "    document_words = set(document)\n",
    "    document_bigrams = set(ngrams(document, 2))\n",
    "    document_tags = set(tag for _, tag in pos_tag(document))\n",
    "    \n",
    "    features = {}\n",
    "    # Use intersection for efficient feature setting\n",
    "    words_in_doc = document_words & most_common_words\n",
    "    bigrams_in_doc = document_bigrams & most_common_bigrams\n",
    "    tags_in_doc = document_tags & most_common_tags\n",
    "    \n",
    "    for word in words_in_doc:\n",
    "        features[f'contains_word({word})'] = True\n",
    "    for bigram in bigrams_in_doc:\n",
    "        features[f'contains_bigram({bigram[0]} {bigram[1]})'] = True\n",
    "    for tag in tags_in_doc:\n",
    "        features[f'contains_pos({tag})'] = True\n",
    "    \n",
    "    return features"
   ]
  },
  {
   "cell_type": "code",
   "execution_count": 21,
   "id": "d769f2e3",
   "metadata": {
    "scrolled": true
   },
   "outputs": [],
   "source": [
    "# Create your feature sets more efficiently\n",
    "featuresets = [(document_features(d, most_common_words, most_common_bigrams, most_common_tags), c) for d, c in zip(tokens, labels)]\n"
   ]
  },
  {
   "cell_type": "code",
   "execution_count": 22,
   "id": "3b2fa8c5",
   "metadata": {
    "scrolled": true
   },
   "outputs": [
    {
     "data": {
      "text/plain": [
       "0.89"
      ]
     },
     "execution_count": 22,
     "metadata": {},
     "output_type": "execute_result"
    }
   ],
   "source": [
    "# train a classifier and report accuracy\n",
    "train_set, test_set = featuresets[1000:], featuresets[:1000]\n",
    "classifier = nltk.NaiveBayesClassifier.train(train_set)\n",
    "nltk.classify.accuracy(classifier, test_set)"
   ]
  },
  {
   "cell_type": "code",
   "execution_count": 24,
   "id": "94a2038f",
   "metadata": {},
   "outputs": [
    {
     "name": "stdout",
     "output_type": "stream",
     "text": [
      "              precision    recall  f1-score   support\n",
      "\n",
      "           0       0.94      0.82      0.88       474\n",
      "           1       0.85      0.96      0.90       526\n",
      "\n",
      "    accuracy                           0.89      1000\n",
      "   macro avg       0.90      0.89      0.89      1000\n",
      "weighted avg       0.90      0.89      0.89      1000\n",
      "\n"
     ]
    }
   ],
   "source": [
    "from sklearn.metrics import classification_report\n",
    "\n",
    "predictions = [classifier.classify(features) for features, label in test_set]\n",
    "true_labels = [label for features, label in test_set]\n",
    "\n",
    "report = classification_report(true_labels, predictions)\n",
    "print(report)"
   ]
  },
  {
   "cell_type": "code",
   "execution_count": null,
   "id": "fa89d457",
   "metadata": {},
   "outputs": [],
   "source": []
  },
  {
   "cell_type": "markdown",
   "id": "f4859235",
   "metadata": {},
   "source": [
    "## ??!! accuracy increased after using just title and not text ...\n",
    "\n",
    "### from 70-something to 87.5 (unigram+bigram+POS) w/o stop words"
   ]
  },
  {
   "cell_type": "markdown",
   "id": "e2f92ea3",
   "metadata": {},
   "source": [
    "### 86.7 (unigram+bigram+POS) with stop words\n",
    "\n",
    "### negation words included for all the above"
   ]
  },
  {
   "cell_type": "markdown",
   "id": "5b5dbb09",
   "metadata": {},
   "source": [
    "### 88.1 (unigram+bigram+POS) with stop words and with punctuation (square brackets)\n",
    "#### !! Square brackets are very indicative of fake news "
   ]
  },
  {
   "cell_type": "markdown",
   "id": "b6c31488",
   "metadata": {},
   "source": [
    "### 89 (unigram+bigram+POS) without stop words and with punctuation (square brackets)\n"
   ]
  },
  {
   "cell_type": "markdown",
   "id": "32f40ffb",
   "metadata": {},
   "source": [
    "### 89  (unigram+bigram+POS) without stop words and with removing only square brackets "
   ]
  },
  {
   "cell_type": "markdown",
   "id": "2e8ae564",
   "metadata": {},
   "source": [
    "#### Not much difference between removing all punc vs just square brackets"
   ]
  },
  {
   "cell_type": "code",
   "execution_count": null,
   "id": "64002271",
   "metadata": {},
   "outputs": [],
   "source": []
  }
 ],
 "metadata": {
  "kernelspec": {
   "display_name": "Python 3 (ipykernel)",
   "language": "python",
   "name": "python3"
  },
  "language_info": {
   "codemirror_mode": {
    "name": "ipython",
    "version": 3
   },
   "file_extension": ".py",
   "mimetype": "text/x-python",
   "name": "python",
   "nbconvert_exporter": "python",
   "pygments_lexer": "ipython3",
   "version": "3.11.0"
  }
 },
 "nbformat": 4,
 "nbformat_minor": 5
}
